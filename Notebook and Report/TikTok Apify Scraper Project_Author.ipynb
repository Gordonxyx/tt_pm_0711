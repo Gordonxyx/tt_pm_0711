{
 "cells": [
  {
   "cell_type": "code",
   "execution_count": 8,
   "id": "066a7f1d-b6af-4410-9801-6557d036542d",
   "metadata": {},
   "outputs": [],
   "source": [
    "# pip install apify-client"
   ]
  },
  {
   "cell_type": "markdown",
   "id": "6edca687",
   "metadata": {},
   "source": [
    "## 🧰 Step 1: Import Required Packages\n",
    "Import all necessary libraries for data manipulation, visualization, machine learning, and statistical modeling."
   ]
  },
  {
   "cell_type": "code",
   "execution_count": 2,
   "id": "f2556967-d4a3-4579-85c7-2a59b7403496",
   "metadata": {},
   "outputs": [],
   "source": [
    "import pandas as pd\n",
    "import numpy as np\n",
    "import matplotlib.pyplot as plt\n",
    "import seaborn as sns\n",
    "import statsmodels.api as sm\n",
    "import scipy"
   ]
  },
  {
   "cell_type": "code",
   "execution_count": 3,
   "id": "21adb34c-6f98-4c7f-8ce5-d46dd705e676",
   "metadata": {},
   "outputs": [],
   "source": [
    "from sklearn.preprocessing import StandardScaler\n",
    "from sklearn.preprocessing import MinMaxScaler\n",
    "from sklearn.preprocessing import OneHotEncoder\n",
    "from sklearn.preprocessing import LabelEncoder\n",
    "from sklearn.cluster import KMeans\n",
    "from sklearn.decomposition import PCA\n",
    "from sklearn.model_selection import train_test_split, StratifiedKFold\n",
    "from sklearn.metrics import accuracy_score, precision_score, recall_score, r2_score, mean_absolute_error, mean_squared_error\n",
    "from sklearn.metrics import f1_score, roc_auc_score, classification_report, roc_curve, confusion_matrix\n",
    "from sklearn.linear_model import LogisticRegression\n",
    "from sklearn.linear_model import LinearRegression\n",
    "from sklearn.ensemble import RandomForestClassifier\n",
    "from sklearn.ensemble import RandomForestRegressor\n",
    "from sklearn.tree import DecisionTreeRegressor\n",
    "from sklearn.tree import DecisionTreeClassifier\n",
    "from sklearn.neighbors import KNeighborsClassifier"
   ]
  },
  {
   "cell_type": "markdown",
   "id": "98d0f8d3",
   "metadata": {},
   "source": [
    "## ❄️ Step 2: Connect to Snowflake and Load Data\n",
    "Use SQLAlchemy to connect to Snowflake and extract video-level creator metadata from the transformed `mart_author` and `mart_post` table.\n"
   ]
  },
  {
   "cell_type": "code",
   "execution_count": null,
   "id": "9758dd2f-1e4e-4df1-afa7-69b1d01d14c7",
   "metadata": {},
   "outputs": [],
   "source": [
    "from snowflake.sqlalchemy import URL\n",
    "from sqlalchemy import create_engine\n",
    "\n",
    "engine = create_engine(URL(\n",
    "    user=snowflake_user,\n",
    "    password=snowflake_password,\n",
    "    account=snowflake_account,\n",
    "    warehouse=snowflake_warehouse,\n",
    "    database=snowflake_database,\n",
    "    schema=snowflake_schema\n",
    "))\n"
   ]
  },
  {
   "cell_type": "code",
   "execution_count": 12,
   "id": "ed5f72e9-2a79-4787-85f0-87d06187ba0f",
   "metadata": {},
   "outputs": [],
   "source": [
    "# Load mart_post\n",
    "mart_post = pd.read_sql(\"SELECT * FROM mart_post\", con=engine)\n",
    "\n",
    "# Load mart_author (optional if needed)\n",
    "mart_author = pd.read_sql(\"SELECT * FROM mart_author\", con=engine)\n"
   ]
  },
  {
   "cell_type": "code",
   "execution_count": 13,
   "id": "f0c915a5-0bfe-4696-a5b4-8eabf0cf0b2c",
   "metadata": {},
   "outputs": [
    {
     "data": {
      "text/html": [
       "<div>\n",
       "<style scoped>\n",
       "    .dataframe tbody tr th:only-of-type {\n",
       "        vertical-align: middle;\n",
       "    }\n",
       "\n",
       "    .dataframe tbody tr th {\n",
       "        vertical-align: top;\n",
       "    }\n",
       "\n",
       "    .dataframe thead th {\n",
       "        text-align: right;\n",
       "    }\n",
       "</style>\n",
       "<table border=\"1\" class=\"dataframe\">\n",
       "  <thead>\n",
       "    <tr style=\"text-align: right;\">\n",
       "      <th></th>\n",
       "      <th>posturl</th>\n",
       "      <th>webvideourl</th>\n",
       "      <th>caption</th>\n",
       "      <th>ads</th>\n",
       "      <th>mute</th>\n",
       "      <th>likes</th>\n",
       "      <th>shares</th>\n",
       "      <th>views</th>\n",
       "      <th>comments</th>\n",
       "      <th>duration_sec</th>\n",
       "      <th>...</th>\n",
       "      <th>share_rate</th>\n",
       "      <th>comment_rate</th>\n",
       "      <th>is_labubu</th>\n",
       "      <th>is_skullpanda</th>\n",
       "      <th>is_crybaby</th>\n",
       "      <th>is_hirono</th>\n",
       "      <th>is_unboxing</th>\n",
       "      <th>is_blindbox</th>\n",
       "      <th>is_recommendation</th>\n",
       "      <th>is_cute</th>\n",
       "    </tr>\n",
       "  </thead>\n",
       "  <tbody>\n",
       "    <tr>\n",
       "      <th>0</th>\n",
       "      <td>https://p19-pu-sign-useast8.tiktokcdn-us.com/t...</td>\n",
       "      <td>https://www.tiktok.com/@gamerishcat54/video/75...</td>\n",
       "      <td>Hope everyone gets the labubu they want 👀#Popm...</td>\n",
       "      <td>NotAds</td>\n",
       "      <td>NotMuted</td>\n",
       "      <td>943</td>\n",
       "      <td>69</td>\n",
       "      <td>85700</td>\n",
       "      <td>33</td>\n",
       "      <td>80</td>\n",
       "      <td>...</td>\n",
       "      <td>0.000805</td>\n",
       "      <td>0.000385</td>\n",
       "      <td>1</td>\n",
       "      <td>0</td>\n",
       "      <td>0</td>\n",
       "      <td>0</td>\n",
       "      <td>1</td>\n",
       "      <td>1</td>\n",
       "      <td>0</td>\n",
       "      <td>0</td>\n",
       "    </tr>\n",
       "    <tr>\n",
       "      <th>1</th>\n",
       "      <td>https://p16-pu-sign-useast8.tiktokcdn-us.com/t...</td>\n",
       "      <td>https://www.tiktok.com/@sweetpeamona/video/752...</td>\n",
       "      <td>Christmas in July?! Tonight on @POP MART US LO...</td>\n",
       "      <td>NotAds</td>\n",
       "      <td>NotMuted</td>\n",
       "      <td>77</td>\n",
       "      <td>25</td>\n",
       "      <td>7053</td>\n",
       "      <td>45</td>\n",
       "      <td>98</td>\n",
       "      <td>...</td>\n",
       "      <td>0.003545</td>\n",
       "      <td>0.006380</td>\n",
       "      <td>1</td>\n",
       "      <td>0</td>\n",
       "      <td>1</td>\n",
       "      <td>1</td>\n",
       "      <td>1</td>\n",
       "      <td>1</td>\n",
       "      <td>0</td>\n",
       "      <td>0</td>\n",
       "    </tr>\n",
       "    <tr>\n",
       "      <th>2</th>\n",
       "      <td>https://p19-pu-sign-useast8.tiktokcdn-us.com/t...</td>\n",
       "      <td>https://www.tiktok.com/@ebony.influences/video...</td>\n",
       "      <td>POP MART Español may potentially drop the rare...</td>\n",
       "      <td>NotAds</td>\n",
       "      <td>NotMuted</td>\n",
       "      <td>504</td>\n",
       "      <td>32</td>\n",
       "      <td>14600</td>\n",
       "      <td>76</td>\n",
       "      <td>42</td>\n",
       "      <td>...</td>\n",
       "      <td>0.002192</td>\n",
       "      <td>0.005205</td>\n",
       "      <td>1</td>\n",
       "      <td>0</td>\n",
       "      <td>0</td>\n",
       "      <td>0</td>\n",
       "      <td>0</td>\n",
       "      <td>0</td>\n",
       "      <td>0</td>\n",
       "      <td>0</td>\n",
       "    </tr>\n",
       "    <tr>\n",
       "      <th>3</th>\n",
       "      <td>https://p16-sign.tiktokcdn-us.com/tos-useast5-...</td>\n",
       "      <td>https://www.tiktok.com/@b.eauty_b.east/video/7...</td>\n",
       "      <td>Unboxing these is so exciting until you open a...</td>\n",
       "      <td>NotAds</td>\n",
       "      <td>NotMuted</td>\n",
       "      <td>142</td>\n",
       "      <td>18</td>\n",
       "      <td>5384</td>\n",
       "      <td>34</td>\n",
       "      <td>125</td>\n",
       "      <td>...</td>\n",
       "      <td>0.003343</td>\n",
       "      <td>0.006315</td>\n",
       "      <td>0</td>\n",
       "      <td>0</td>\n",
       "      <td>0</td>\n",
       "      <td>0</td>\n",
       "      <td>0</td>\n",
       "      <td>1</td>\n",
       "      <td>0</td>\n",
       "      <td>0</td>\n",
       "    </tr>\n",
       "    <tr>\n",
       "      <th>4</th>\n",
       "      <td>https://p19-pu-sign-useast8.tiktokcdn-us.com/t...</td>\n",
       "      <td>https://www.tiktok.com/@malloryfig/video/75255...</td>\n",
       "      <td>my luck is definitely insane😹🙏🏼 just like defi...</td>\n",
       "      <td>NotAds</td>\n",
       "      <td>NotMuted</td>\n",
       "      <td>5102</td>\n",
       "      <td>49</td>\n",
       "      <td>28500</td>\n",
       "      <td>51</td>\n",
       "      <td>111</td>\n",
       "      <td>...</td>\n",
       "      <td>0.001719</td>\n",
       "      <td>0.001789</td>\n",
       "      <td>0</td>\n",
       "      <td>0</td>\n",
       "      <td>0</td>\n",
       "      <td>0</td>\n",
       "      <td>1</td>\n",
       "      <td>1</td>\n",
       "      <td>0</td>\n",
       "      <td>0</td>\n",
       "    </tr>\n",
       "    <tr>\n",
       "      <th>...</th>\n",
       "      <td>...</td>\n",
       "      <td>...</td>\n",
       "      <td>...</td>\n",
       "      <td>...</td>\n",
       "      <td>...</td>\n",
       "      <td>...</td>\n",
       "      <td>...</td>\n",
       "      <td>...</td>\n",
       "      <td>...</td>\n",
       "      <td>...</td>\n",
       "      <td>...</td>\n",
       "      <td>...</td>\n",
       "      <td>...</td>\n",
       "      <td>...</td>\n",
       "      <td>...</td>\n",
       "      <td>...</td>\n",
       "      <td>...</td>\n",
       "      <td>...</td>\n",
       "      <td>...</td>\n",
       "      <td>...</td>\n",
       "      <td>...</td>\n",
       "    </tr>\n",
       "    <tr>\n",
       "      <th>612</th>\n",
       "      <td>https://p16-common-sign-sg.tiktokcdn-us.com/to...</td>\n",
       "      <td>https://www.tiktok.com/@win.william_official/v...</td>\n",
       "      <td>#popmart  #crybaby #popmart #labubu</td>\n",
       "      <td>Ads</td>\n",
       "      <td>NotMuted</td>\n",
       "      <td>372000</td>\n",
       "      <td>5503</td>\n",
       "      <td>6200000</td>\n",
       "      <td>1379</td>\n",
       "      <td>36</td>\n",
       "      <td>...</td>\n",
       "      <td>0.000888</td>\n",
       "      <td>0.000222</td>\n",
       "      <td>1</td>\n",
       "      <td>0</td>\n",
       "      <td>1</td>\n",
       "      <td>0</td>\n",
       "      <td>0</td>\n",
       "      <td>0</td>\n",
       "      <td>0</td>\n",
       "      <td>0</td>\n",
       "    </tr>\n",
       "    <tr>\n",
       "      <th>613</th>\n",
       "      <td>https://p16-common-sign-sg.tiktokcdn-us.com/to...</td>\n",
       "      <td>https://www.tiktok.com/@pinkjelly.charms/video...</td>\n",
       "      <td>✨NEW DROP✨\\nCARE BEARS – Sunday, June 29 @ 5PM...</td>\n",
       "      <td>NotAds</td>\n",
       "      <td>NotMuted</td>\n",
       "      <td>371200</td>\n",
       "      <td>93500</td>\n",
       "      <td>8100000</td>\n",
       "      <td>5599</td>\n",
       "      <td>30</td>\n",
       "      <td>...</td>\n",
       "      <td>0.011543</td>\n",
       "      <td>0.000691</td>\n",
       "      <td>1</td>\n",
       "      <td>0</td>\n",
       "      <td>1</td>\n",
       "      <td>0</td>\n",
       "      <td>0</td>\n",
       "      <td>1</td>\n",
       "      <td>0</td>\n",
       "      <td>0</td>\n",
       "    </tr>\n",
       "    <tr>\n",
       "      <th>614</th>\n",
       "      <td>https://p16-pu-sign-useast8.tiktokcdn-us.com/t...</td>\n",
       "      <td>https://www.tiktok.com/@kira.kabuki/video/7491...</td>\n",
       "      <td>Did you grow up with Teletubbies?!\\n•\\n@POP MA...</td>\n",
       "      <td>NotAds</td>\n",
       "      <td>NotMuted</td>\n",
       "      <td>170800</td>\n",
       "      <td>19400</td>\n",
       "      <td>3000000</td>\n",
       "      <td>1453</td>\n",
       "      <td>348</td>\n",
       "      <td>...</td>\n",
       "      <td>0.006467</td>\n",
       "      <td>0.000484</td>\n",
       "      <td>0</td>\n",
       "      <td>0</td>\n",
       "      <td>0</td>\n",
       "      <td>0</td>\n",
       "      <td>0</td>\n",
       "      <td>1</td>\n",
       "      <td>0</td>\n",
       "      <td>0</td>\n",
       "    </tr>\n",
       "    <tr>\n",
       "      <th>615</th>\n",
       "      <td>https://p16-pu-sign-no.tiktokcdn-eu.com/tos-no...</td>\n",
       "      <td>https://www.tiktok.com/@ninacreations/video/74...</td>\n",
       "      <td>Labubu o Nommi ?  Ti prego sono troppo belleee...</td>\n",
       "      <td>NotAds</td>\n",
       "      <td>NotMuted</td>\n",
       "      <td>5170</td>\n",
       "      <td>785</td>\n",
       "      <td>112500</td>\n",
       "      <td>207</td>\n",
       "      <td>86</td>\n",
       "      <td>...</td>\n",
       "      <td>0.006978</td>\n",
       "      <td>0.001840</td>\n",
       "      <td>0</td>\n",
       "      <td>0</td>\n",
       "      <td>0</td>\n",
       "      <td>0</td>\n",
       "      <td>0</td>\n",
       "      <td>1</td>\n",
       "      <td>0</td>\n",
       "      <td>0</td>\n",
       "    </tr>\n",
       "    <tr>\n",
       "      <th>616</th>\n",
       "      <td>https://p16-pu-sign-no.tiktokcdn-eu.com/tos-no...</td>\n",
       "      <td>https://www.tiktok.com/@milana.zakharova/video...</td>\n",
       "      <td>#crybaby #skullpanda #labubugrape #labubuseasa...</td>\n",
       "      <td>NotAds</td>\n",
       "      <td>NotMuted</td>\n",
       "      <td>60</td>\n",
       "      <td>0</td>\n",
       "      <td>1531</td>\n",
       "      <td>10</td>\n",
       "      <td>32</td>\n",
       "      <td>...</td>\n",
       "      <td>0.000000</td>\n",
       "      <td>0.006532</td>\n",
       "      <td>1</td>\n",
       "      <td>1</td>\n",
       "      <td>1</td>\n",
       "      <td>0</td>\n",
       "      <td>0</td>\n",
       "      <td>0</td>\n",
       "      <td>0</td>\n",
       "      <td>0</td>\n",
       "    </tr>\n",
       "  </tbody>\n",
       "</table>\n",
       "<p>617 rows × 27 columns</p>\n",
       "</div>"
      ],
      "text/plain": [
       "                                               posturl  \\\n",
       "0    https://p19-pu-sign-useast8.tiktokcdn-us.com/t...   \n",
       "1    https://p16-pu-sign-useast8.tiktokcdn-us.com/t...   \n",
       "2    https://p19-pu-sign-useast8.tiktokcdn-us.com/t...   \n",
       "3    https://p16-sign.tiktokcdn-us.com/tos-useast5-...   \n",
       "4    https://p19-pu-sign-useast8.tiktokcdn-us.com/t...   \n",
       "..                                                 ...   \n",
       "612  https://p16-common-sign-sg.tiktokcdn-us.com/to...   \n",
       "613  https://p16-common-sign-sg.tiktokcdn-us.com/to...   \n",
       "614  https://p16-pu-sign-useast8.tiktokcdn-us.com/t...   \n",
       "615  https://p16-pu-sign-no.tiktokcdn-eu.com/tos-no...   \n",
       "616  https://p16-pu-sign-no.tiktokcdn-eu.com/tos-no...   \n",
       "\n",
       "                                           webvideourl  \\\n",
       "0    https://www.tiktok.com/@gamerishcat54/video/75...   \n",
       "1    https://www.tiktok.com/@sweetpeamona/video/752...   \n",
       "2    https://www.tiktok.com/@ebony.influences/video...   \n",
       "3    https://www.tiktok.com/@b.eauty_b.east/video/7...   \n",
       "4    https://www.tiktok.com/@malloryfig/video/75255...   \n",
       "..                                                 ...   \n",
       "612  https://www.tiktok.com/@win.william_official/v...   \n",
       "613  https://www.tiktok.com/@pinkjelly.charms/video...   \n",
       "614  https://www.tiktok.com/@kira.kabuki/video/7491...   \n",
       "615  https://www.tiktok.com/@ninacreations/video/74...   \n",
       "616  https://www.tiktok.com/@milana.zakharova/video...   \n",
       "\n",
       "                                               caption     ads      mute  \\\n",
       "0    Hope everyone gets the labubu they want 👀#Popm...  NotAds  NotMuted   \n",
       "1    Christmas in July?! Tonight on @POP MART US LO...  NotAds  NotMuted   \n",
       "2    POP MART Español may potentially drop the rare...  NotAds  NotMuted   \n",
       "3    Unboxing these is so exciting until you open a...  NotAds  NotMuted   \n",
       "4    my luck is definitely insane😹🙏🏼 just like defi...  NotAds  NotMuted   \n",
       "..                                                 ...     ...       ...   \n",
       "612                #popmart  #crybaby #popmart #labubu     Ads  NotMuted   \n",
       "613  ✨NEW DROP✨\\nCARE BEARS – Sunday, June 29 @ 5PM...  NotAds  NotMuted   \n",
       "614  Did you grow up with Teletubbies?!\\n•\\n@POP MA...  NotAds  NotMuted   \n",
       "615  Labubu o Nommi ?  Ti prego sono troppo belleee...  NotAds  NotMuted   \n",
       "616  #crybaby #skullpanda #labubugrape #labubuseasa...  NotAds  NotMuted   \n",
       "\n",
       "      likes  shares    views  comments  duration_sec  ... share_rate  \\\n",
       "0       943      69    85700        33            80  ...   0.000805   \n",
       "1        77      25     7053        45            98  ...   0.003545   \n",
       "2       504      32    14600        76            42  ...   0.002192   \n",
       "3       142      18     5384        34           125  ...   0.003343   \n",
       "4      5102      49    28500        51           111  ...   0.001719   \n",
       "..      ...     ...      ...       ...           ...  ...        ...   \n",
       "612  372000    5503  6200000      1379            36  ...   0.000888   \n",
       "613  371200   93500  8100000      5599            30  ...   0.011543   \n",
       "614  170800   19400  3000000      1453           348  ...   0.006467   \n",
       "615    5170     785   112500       207            86  ...   0.006978   \n",
       "616      60       0     1531        10            32  ...   0.000000   \n",
       "\n",
       "    comment_rate is_labubu is_skullpanda is_crybaby  is_hirono  is_unboxing  \\\n",
       "0       0.000385         1             0          0          0            1   \n",
       "1       0.006380         1             0          1          1            1   \n",
       "2       0.005205         1             0          0          0            0   \n",
       "3       0.006315         0             0          0          0            0   \n",
       "4       0.001789         0             0          0          0            1   \n",
       "..           ...       ...           ...        ...        ...          ...   \n",
       "612     0.000222         1             0          1          0            0   \n",
       "613     0.000691         1             0          1          0            0   \n",
       "614     0.000484         0             0          0          0            0   \n",
       "615     0.001840         0             0          0          0            0   \n",
       "616     0.006532         1             1          1          0            0   \n",
       "\n",
       "     is_blindbox  is_recommendation  is_cute  \n",
       "0              1                  0        0  \n",
       "1              1                  0        0  \n",
       "2              0                  0        0  \n",
       "3              1                  0        0  \n",
       "4              1                  0        0  \n",
       "..           ...                ...      ...  \n",
       "612            0                  0        0  \n",
       "613            1                  0        0  \n",
       "614            1                  0        0  \n",
       "615            1                  0        0  \n",
       "616            0                  0        0  \n",
       "\n",
       "[617 rows x 27 columns]"
      ]
     },
     "execution_count": 13,
     "metadata": {},
     "output_type": "execute_result"
    }
   ],
   "source": [
    "mart_post"
   ]
  },
  {
   "cell_type": "markdown",
   "id": "f86c9f7d",
   "metadata": {},
   "source": [
    "## 🔍 Step 3: EDA, Correlation Analysis, and Feature Preparation\n",
    "Conduct exploratory data analysis (EDA), check nulls, transform datetime columns, visualize correlations, define initial feature list, and prepare tools for feature encoding and scaling. Assess skewed distributions to determine if log transformation is needed.\n"
   ]
  },
  {
   "cell_type": "code",
   "execution_count": 14,
   "id": "fb1d3f38-6d61-4c7e-8ca2-9ba94742443d",
   "metadata": {},
   "outputs": [
    {
     "data": {
      "text/plain": [
       "author               0\n",
       "nickname             0\n",
       "followers            0\n",
       "videoscount          0\n",
       "accounttype          0\n",
       "accountstatus        0\n",
       "sellerstatus         0\n",
       "posturl              0\n",
       "webvideourl          0\n",
       "caption              2\n",
       "ads                  0\n",
       "mute                 0\n",
       "likes                0\n",
       "shares               0\n",
       "views                0\n",
       "comments             0\n",
       "duration_sec         0\n",
       "created_at           0\n",
       "engagement_rate      0\n",
       "like_rate            0\n",
       "share_rate           0\n",
       "comment_rate         0\n",
       "is_labubu            0\n",
       "is_skullpanda        0\n",
       "is_crybaby           0\n",
       "is_hirono            0\n",
       "is_unboxing          0\n",
       "is_blindbox          0\n",
       "is_recommendation    0\n",
       "is_cute              0\n",
       "dtype: int64"
      ]
     },
     "execution_count": 14,
     "metadata": {},
     "output_type": "execute_result"
    }
   ],
   "source": [
    "mart_author.isnull().sum()"
   ]
  },
  {
   "cell_type": "code",
   "execution_count": 15,
   "id": "c6feaccb-5030-4d65-a36c-15a01dd67135",
   "metadata": {},
   "outputs": [
    {
     "data": {
      "text/plain": [
       "0     2025-07-11 17:37:19+00:00\n",
       "1     2025-07-11 06:44:01+00:00\n",
       "2     2025-07-07 21:35:03+00:00\n",
       "3     2025-07-11 11:39:15+00:00\n",
       "4     2025-06-13 19:55:08+00:00\n",
       "                 ...           \n",
       "614   2024-04-09 07:45:07+00:00\n",
       "615   2024-03-01 18:23:30+00:00\n",
       "616   2024-05-19 02:29:15+00:00\n",
       "617   2024-12-15 04:49:40+00:00\n",
       "618   2025-05-19 04:18:30+00:00\n",
       "Name: created_at, Length: 619, dtype: datetime64[ns, UTC]"
      ]
     },
     "execution_count": 15,
     "metadata": {},
     "output_type": "execute_result"
    }
   ],
   "source": [
    "mart_author['created_at'] = pd.to_datetime(mart_author['created_at'])\n",
    "mart_author['created_at']"
   ]
  },
  {
   "cell_type": "code",
   "execution_count": 16,
   "id": "ca987e6d-ae42-4cfb-8202-0db3042896b8",
   "metadata": {},
   "outputs": [
    {
     "name": "stdout",
     "output_type": "stream",
     "text": [
      "<class 'pandas.core.frame.DataFrame'>\n",
      "RangeIndex: 617 entries, 0 to 616\n",
      "Data columns (total 27 columns):\n",
      " #   Column             Non-Null Count  Dtype  \n",
      "---  ------             --------------  -----  \n",
      " 0   posturl            617 non-null    object \n",
      " 1   webvideourl        617 non-null    object \n",
      " 2   caption            617 non-null    object \n",
      " 3   ads                617 non-null    object \n",
      " 4   mute               617 non-null    object \n",
      " 5   likes              617 non-null    int64  \n",
      " 6   shares             617 non-null    int64  \n",
      " 7   views              617 non-null    int64  \n",
      " 8   comments           617 non-null    int64  \n",
      " 9   duration_sec       617 non-null    int64  \n",
      " 10  created_at         617 non-null    object \n",
      " 11  musicname          617 non-null    object \n",
      " 12  musicalbum         99 non-null     object \n",
      " 13  musicauthor        617 non-null    object \n",
      " 14  musictype          617 non-null    object \n",
      " 15  engagement_rate    617 non-null    float64\n",
      " 16  like_rate          617 non-null    float64\n",
      " 17  share_rate         617 non-null    float64\n",
      " 18  comment_rate       617 non-null    float64\n",
      " 19  is_labubu          617 non-null    int64  \n",
      " 20  is_skullpanda      617 non-null    int64  \n",
      " 21  is_crybaby         617 non-null    int64  \n",
      " 22  is_hirono          617 non-null    int64  \n",
      " 23  is_unboxing        617 non-null    int64  \n",
      " 24  is_blindbox        617 non-null    int64  \n",
      " 25  is_recommendation  617 non-null    int64  \n",
      " 26  is_cute            617 non-null    int64  \n",
      "dtypes: float64(4), int64(13), object(10)\n",
      "memory usage: 130.3+ KB\n"
     ]
    }
   ],
   "source": [
    "mart_post.info()"
   ]
  },
  {
   "cell_type": "code",
   "execution_count": 17,
   "id": "51be4012-795c-48e4-b8f9-880ef2d58d74",
   "metadata": {},
   "outputs": [
    {
     "data": {
      "text/html": [
       "<div>\n",
       "<style scoped>\n",
       "    .dataframe tbody tr th:only-of-type {\n",
       "        vertical-align: middle;\n",
       "    }\n",
       "\n",
       "    .dataframe tbody tr th {\n",
       "        vertical-align: top;\n",
       "    }\n",
       "\n",
       "    .dataframe thead th {\n",
       "        text-align: right;\n",
       "    }\n",
       "</style>\n",
       "<table border=\"1\" class=\"dataframe\">\n",
       "  <thead>\n",
       "    <tr style=\"text-align: right;\">\n",
       "      <th></th>\n",
       "      <th>posturl</th>\n",
       "      <th>webvideourl</th>\n",
       "      <th>caption</th>\n",
       "      <th>ads</th>\n",
       "      <th>mute</th>\n",
       "      <th>created_at</th>\n",
       "      <th>musicname</th>\n",
       "      <th>musicalbum</th>\n",
       "      <th>musicauthor</th>\n",
       "      <th>musictype</th>\n",
       "    </tr>\n",
       "  </thead>\n",
       "  <tbody>\n",
       "    <tr>\n",
       "      <th>count</th>\n",
       "      <td>617</td>\n",
       "      <td>617</td>\n",
       "      <td>617</td>\n",
       "      <td>617</td>\n",
       "      <td>617</td>\n",
       "      <td>617</td>\n",
       "      <td>617</td>\n",
       "      <td>99</td>\n",
       "      <td>617</td>\n",
       "      <td>617</td>\n",
       "    </tr>\n",
       "    <tr>\n",
       "      <th>unique</th>\n",
       "      <td>617</td>\n",
       "      <td>617</td>\n",
       "      <td>617</td>\n",
       "      <td>2</td>\n",
       "      <td>1</td>\n",
       "      <td>617</td>\n",
       "      <td>239</td>\n",
       "      <td>86</td>\n",
       "      <td>423</td>\n",
       "      <td>2</td>\n",
       "    </tr>\n",
       "    <tr>\n",
       "      <th>top</th>\n",
       "      <td>https://p19-pu-sign-useast8.tiktokcdn-us.com/t...</td>\n",
       "      <td>https://www.tiktok.com/@gamerishcat54/video/75...</td>\n",
       "      <td>Hope everyone gets the labubu they want 👀#Popm...</td>\n",
       "      <td>NotAds</td>\n",
       "      <td>NotMuted</td>\n",
       "      <td>2025-07-11T10:05:07.000Z</td>\n",
       "      <td>original sound</td>\n",
       "      <td>カフェでボサノバを聴く休日</td>\n",
       "      <td>POP MART</td>\n",
       "      <td>Original</td>\n",
       "    </tr>\n",
       "    <tr>\n",
       "      <th>freq</th>\n",
       "      <td>1</td>\n",
       "      <td>1</td>\n",
       "      <td>1</td>\n",
       "      <td>587</td>\n",
       "      <td>617</td>\n",
       "      <td>1</td>\n",
       "      <td>250</td>\n",
       "      <td>4</td>\n",
       "      <td>24</td>\n",
       "      <td>453</td>\n",
       "    </tr>\n",
       "  </tbody>\n",
       "</table>\n",
       "</div>"
      ],
      "text/plain": [
       "                                                  posturl  \\\n",
       "count                                                 617   \n",
       "unique                                                617   \n",
       "top     https://p19-pu-sign-useast8.tiktokcdn-us.com/t...   \n",
       "freq                                                    1   \n",
       "\n",
       "                                              webvideourl  \\\n",
       "count                                                 617   \n",
       "unique                                                617   \n",
       "top     https://www.tiktok.com/@gamerishcat54/video/75...   \n",
       "freq                                                    1   \n",
       "\n",
       "                                                  caption     ads      mute  \\\n",
       "count                                                 617     617       617   \n",
       "unique                                                617       2         1   \n",
       "top     Hope everyone gets the labubu they want 👀#Popm...  NotAds  NotMuted   \n",
       "freq                                                    1     587       617   \n",
       "\n",
       "                      created_at       musicname     musicalbum musicauthor  \\\n",
       "count                        617             617             99         617   \n",
       "unique                       617             239             86         423   \n",
       "top     2025-07-11T10:05:07.000Z  original sound  カフェでボサノバを聴く休日    POP MART   \n",
       "freq                           1             250              4          24   \n",
       "\n",
       "       musictype  \n",
       "count        617  \n",
       "unique         2  \n",
       "top     Original  \n",
       "freq         453  "
      ]
     },
     "execution_count": 17,
     "metadata": {},
     "output_type": "execute_result"
    }
   ],
   "source": [
    "mart_post.select_dtypes('object').describe()"
   ]
  },
  {
   "cell_type": "code",
   "execution_count": 18,
   "id": "b8ac565d-fc79-4d7b-b7f5-b294e944e3a9",
   "metadata": {},
   "outputs": [
    {
     "data": {
      "text/plain": [
       "Index(['author', 'nickname', 'followers', 'videoscount', 'accounttype',\n",
       "       'accountstatus', 'sellerstatus', 'posturl', 'webvideourl', 'caption',\n",
       "       'ads', 'mute', 'likes', 'shares', 'views', 'comments', 'duration_sec',\n",
       "       'created_at', 'engagement_rate', 'like_rate', 'share_rate',\n",
       "       'comment_rate', 'is_labubu', 'is_skullpanda', 'is_crybaby', 'is_hirono',\n",
       "       'is_unboxing', 'is_blindbox', 'is_recommendation', 'is_cute'],\n",
       "      dtype='object')"
      ]
     },
     "execution_count": 18,
     "metadata": {},
     "output_type": "execute_result"
    }
   ],
   "source": [
    "mart_author.columns"
   ]
  },
  {
   "cell_type": "code",
   "execution_count": 19,
   "id": "14f38313-797b-4e87-a58d-e88f46f139f5",
   "metadata": {},
   "outputs": [
    {
     "data": {
      "text/plain": [
       "<Axes: >"
      ]
     },
     "execution_count": 19,
     "metadata": {},
     "output_type": "execute_result"
    },
    {
     "data": {
      "image/png": "[encoded data removed]",
      "text/plain": [
       "<Figure size 1200x800 with 2 Axes>"
      ]
     },
     "metadata": {},
     "output_type": "display_data"
    }
   ],
   "source": [
    "plt.figure(figsize=(12, 8)) \n",
    "sns.heatmap(mart_author.select_dtypes('int','float').corr(), annot=True, cmap='coolwarm', fmt=\".2f\")"
   ]
  },
  {
   "cell_type": "code",
   "execution_count": 20,
   "id": "0a3f8404-08f7-469a-aa14-f0e0cbe6cf63",
   "metadata": {},
   "outputs": [],
   "source": [
    "feature_name_reg = [\n",
    "    'followers',\n",
    "    'videoscount',\n",
    "    'ads',\n",
    "    'duration_sec',\n",
    "    'is_labubu',\n",
    "    'is_skullpanda',\n",
    "    'is_crybaby',\n",
    "    'is_hirono',\n",
    "    'is_unboxing',\n",
    "    'is_blindbox',\n",
    "    'is_recommendation',\n",
    "    'is_cute'\n",
    "]"
   ]
  },
  {
   "cell_type": "code",
   "execution_count": 22,
   "id": "131fbf28-5a50-417f-85bf-cd933f79931f",
   "metadata": {},
   "outputs": [],
   "source": [
    "le = LabelEncoder()\n",
    "sc = StandardScaler()"
   ]
  },
  {
   "cell_type": "code",
   "execution_count": 23,
   "id": "4910ebbd-ce44-4241-b7a8-b063f60f22e5",
   "metadata": {},
   "outputs": [],
   "source": [
    "x_reg = mart_author[feature_name_reg]\n",
    "y_reg_views = mart_author[['views']]\n",
    "y_reg_likes = mart_author[['likes']]\n",
    "y_reg_share = mart_author[['shares']]\n",
    "y_reg_comment = mart_author[['comments']]"
   ]
  },
  {
   "cell_type": "markdown",
   "id": "2ce53b43",
   "metadata": {},
   "source": [
    "## 🔍 Feature Distribution Analysis & Preprocessing Decisions\n",
    "\n",
    "Before modeling, we examined the distribution of key numeric features such as `followers`, `videoscount`, and `duration_sec`. These variables were found to be right-skewed, indicating the need for a log transformation to normalize their scale.\n",
    "\n",
    "Following transformation, standard scaling was applied to ensure numerical stability and prevent features with larger scales from dominating the model. Categorical variables such as `ads` were encoded using LabelEncoder, and binary flags (e.g., `is_labubu`, `is_cute`) were retained as-is given their 0/1 format.\n",
    "\n",
    "This preprocessing ensured compatibility across all regression models while preserving interpretability and comparability of coefficients.\n"
   ]
  },
  {
   "cell_type": "code",
   "execution_count": 24,
   "id": "c13d2385-e939-45a3-ad7c-17e93122a2ad",
   "metadata": {},
   "outputs": [
    {
     "data": {
      "text/plain": [
       "Index(['followers', 'videoscount', 'ads', 'duration_sec', 'is_labubu',\n",
       "       'is_skullpanda', 'is_crybaby', 'is_hirono', 'is_unboxing',\n",
       "       'is_blindbox', 'is_recommendation', 'is_cute'],\n",
       "      dtype='object')"
      ]
     },
     "execution_count": 24,
     "metadata": {},
     "output_type": "execute_result"
    }
   ],
   "source": [
    "x_reg.columns"
   ]
  },
  {
   "cell_type": "code",
   "execution_count": 25,
   "id": "a0c6fdd3-bced-48d7-9723-743a93b54a54",
   "metadata": {},
   "outputs": [
    {
     "data": {
      "text/plain": [
       "array([[<Axes: title={'center': 'followers'}>,\n",
       "        <Axes: title={'center': 'videoscount'}>,\n",
       "        <Axes: title={'center': 'duration_sec'}>],\n",
       "       [<Axes: title={'center': 'is_labubu'}>,\n",
       "        <Axes: title={'center': 'is_skullpanda'}>,\n",
       "        <Axes: title={'center': 'is_crybaby'}>],\n",
       "       [<Axes: title={'center': 'is_hirono'}>,\n",
       "        <Axes: title={'center': 'is_unboxing'}>,\n",
       "        <Axes: title={'center': 'is_blindbox'}>],\n",
       "       [<Axes: title={'center': 'is_recommendation'}>,\n",
       "        <Axes: title={'center': 'is_cute'}>, <Axes: >]], dtype=object)"
      ]
     },
     "execution_count": 25,
     "metadata": {},
     "output_type": "execute_result"
    },
    {
     "data": {
      "image/png": "[encoded data removed]",
      "text/plain": [
       "<Figure size 640x480 with 12 Axes>"
      ]
     },
     "metadata": {},
     "output_type": "display_data"
    }
   ],
   "source": [
    "x_reg.hist()"
   ]
  },
  {
   "cell_type": "markdown",
   "id": "c131315a",
   "metadata": {},
   "source": [
    "## ✂️ Step 4: Train-Test Split and Feature Engineering\n",
    "Split data into training and testing sets. Apply log transformation to skewed numeric columns, scale features, and encode categorical variables to prepare input for model training."
   ]
  },
  {
   "cell_type": "code",
   "execution_count": 26,
   "id": "1c2c896e-2ee5-47f1-9de0-e0babd9b481e",
   "metadata": {},
   "outputs": [],
   "source": [
    "x_reg_train, x_reg_test, y_reg_views_train, y_reg_views_test = train_test_split(x_reg, y_reg_views, test_size = 0.3, random_state = 42)"
   ]
  },
  {
   "cell_type": "code",
   "execution_count": 27,
   "id": "33b6954f-e5f7-4ba4-af09-9d27c53d7a9d",
   "metadata": {},
   "outputs": [
    {
     "name": "stdout",
     "output_type": "stream",
     "text": [
      "<class 'pandas.core.frame.DataFrame'>\n",
      "Index: 433 entries, 409 to 102\n",
      "Data columns (total 12 columns):\n",
      " #   Column             Non-Null Count  Dtype \n",
      "---  ------             --------------  ----- \n",
      " 0   followers          433 non-null    int64 \n",
      " 1   videoscount        433 non-null    int64 \n",
      " 2   ads                433 non-null    object\n",
      " 3   duration_sec       433 non-null    int64 \n",
      " 4   is_labubu          433 non-null    int64 \n",
      " 5   is_skullpanda      433 non-null    int64 \n",
      " 6   is_crybaby         433 non-null    int64 \n",
      " 7   is_hirono          433 non-null    int64 \n",
      " 8   is_unboxing        433 non-null    int64 \n",
      " 9   is_blindbox        433 non-null    int64 \n",
      " 10  is_recommendation  433 non-null    int64 \n",
      " 11  is_cute            433 non-null    int64 \n",
      "dtypes: int64(11), object(1)\n",
      "memory usage: 44.0+ KB\n"
     ]
    }
   ],
   "source": [
    "x_reg_train.info()"
   ]
  },
  {
   "cell_type": "code",
   "execution_count": 28,
   "id": "87b44b0d-8637-4497-a0fd-1155399d7b17",
   "metadata": {},
   "outputs": [
    {
     "data": {
      "text/html": [
       "<div>\n",
       "<style scoped>\n",
       "    .dataframe tbody tr th:only-of-type {\n",
       "        vertical-align: middle;\n",
       "    }\n",
       "\n",
       "    .dataframe tbody tr th {\n",
       "        vertical-align: top;\n",
       "    }\n",
       "\n",
       "    .dataframe thead th {\n",
       "        text-align: right;\n",
       "    }\n",
       "</style>\n",
       "<table border=\"1\" class=\"dataframe\">\n",
       "  <thead>\n",
       "    <tr style=\"text-align: right;\">\n",
       "      <th></th>\n",
       "      <th>followers</th>\n",
       "      <th>videoscount</th>\n",
       "      <th>ads</th>\n",
       "      <th>duration_sec</th>\n",
       "      <th>is_labubu</th>\n",
       "      <th>is_skullpanda</th>\n",
       "      <th>is_crybaby</th>\n",
       "      <th>is_hirono</th>\n",
       "      <th>is_unboxing</th>\n",
       "      <th>is_blindbox</th>\n",
       "      <th>is_recommendation</th>\n",
       "      <th>is_cute</th>\n",
       "    </tr>\n",
       "  </thead>\n",
       "  <tbody>\n",
       "    <tr>\n",
       "      <th>409</th>\n",
       "      <td>1.101838</td>\n",
       "      <td>1.010533</td>\n",
       "      <td>1</td>\n",
       "      <td>1.280059</td>\n",
       "      <td>0</td>\n",
       "      <td>0</td>\n",
       "      <td>0</td>\n",
       "      <td>0</td>\n",
       "      <td>1</td>\n",
       "      <td>1</td>\n",
       "      <td>0</td>\n",
       "      <td>0</td>\n",
       "    </tr>\n",
       "    <tr>\n",
       "      <th>434</th>\n",
       "      <td>1.371975</td>\n",
       "      <td>1.035513</td>\n",
       "      <td>1</td>\n",
       "      <td>1.766438</td>\n",
       "      <td>1</td>\n",
       "      <td>0</td>\n",
       "      <td>0</td>\n",
       "      <td>0</td>\n",
       "      <td>1</td>\n",
       "      <td>1</td>\n",
       "      <td>0</td>\n",
       "      <td>0</td>\n",
       "    </tr>\n",
       "    <tr>\n",
       "      <th>33</th>\n",
       "      <td>0.773393</td>\n",
       "      <td>0.700810</td>\n",
       "      <td>1</td>\n",
       "      <td>0.697548</td>\n",
       "      <td>0</td>\n",
       "      <td>0</td>\n",
       "      <td>0</td>\n",
       "      <td>0</td>\n",
       "      <td>1</td>\n",
       "      <td>1</td>\n",
       "      <td>0</td>\n",
       "      <td>0</td>\n",
       "    </tr>\n",
       "    <tr>\n",
       "      <th>0</th>\n",
       "      <td>0.056395</td>\n",
       "      <td>0.884138</td>\n",
       "      <td>1</td>\n",
       "      <td>-0.048033</td>\n",
       "      <td>1</td>\n",
       "      <td>0</td>\n",
       "      <td>0</td>\n",
       "      <td>0</td>\n",
       "      <td>0</td>\n",
       "      <td>0</td>\n",
       "      <td>0</td>\n",
       "      <td>0</td>\n",
       "    </tr>\n",
       "    <tr>\n",
       "      <th>612</th>\n",
       "      <td>-0.417052</td>\n",
       "      <td>-1.595987</td>\n",
       "      <td>1</td>\n",
       "      <td>-1.053541</td>\n",
       "      <td>0</td>\n",
       "      <td>0</td>\n",
       "      <td>0</td>\n",
       "      <td>1</td>\n",
       "      <td>0</td>\n",
       "      <td>0</td>\n",
       "      <td>0</td>\n",
       "      <td>0</td>\n",
       "    </tr>\n",
       "    <tr>\n",
       "      <th>...</th>\n",
       "      <td>...</td>\n",
       "      <td>...</td>\n",
       "      <td>...</td>\n",
       "      <td>...</td>\n",
       "      <td>...</td>\n",
       "      <td>...</td>\n",
       "      <td>...</td>\n",
       "      <td>...</td>\n",
       "      <td>...</td>\n",
       "      <td>...</td>\n",
       "      <td>...</td>\n",
       "      <td>...</td>\n",
       "    </tr>\n",
       "    <tr>\n",
       "      <th>71</th>\n",
       "      <td>-0.445655</td>\n",
       "      <td>0.499724</td>\n",
       "      <td>1</td>\n",
       "      <td>-1.188817</td>\n",
       "      <td>1</td>\n",
       "      <td>0</td>\n",
       "      <td>0</td>\n",
       "      <td>0</td>\n",
       "      <td>1</td>\n",
       "      <td>0</td>\n",
       "      <td>0</td>\n",
       "      <td>0</td>\n",
       "    </tr>\n",
       "    <tr>\n",
       "      <th>106</th>\n",
       "      <td>-0.291603</td>\n",
       "      <td>-0.172020</td>\n",
       "      <td>1</td>\n",
       "      <td>-0.591528</td>\n",
       "      <td>1</td>\n",
       "      <td>0</td>\n",
       "      <td>0</td>\n",
       "      <td>0</td>\n",
       "      <td>0</td>\n",
       "      <td>0</td>\n",
       "      <td>0</td>\n",
       "      <td>0</td>\n",
       "    </tr>\n",
       "    <tr>\n",
       "      <th>270</th>\n",
       "      <td>-0.439728</td>\n",
       "      <td>-0.199245</td>\n",
       "      <td>1</td>\n",
       "      <td>-0.251541</td>\n",
       "      <td>1</td>\n",
       "      <td>0</td>\n",
       "      <td>0</td>\n",
       "      <td>0</td>\n",
       "      <td>0</td>\n",
       "      <td>0</td>\n",
       "      <td>0</td>\n",
       "      <td>0</td>\n",
       "    </tr>\n",
       "    <tr>\n",
       "      <th>435</th>\n",
       "      <td>0.991970</td>\n",
       "      <td>0.298748</td>\n",
       "      <td>0</td>\n",
       "      <td>-0.591528</td>\n",
       "      <td>1</td>\n",
       "      <td>0</td>\n",
       "      <td>0</td>\n",
       "      <td>0</td>\n",
       "      <td>0</td>\n",
       "      <td>1</td>\n",
       "      <td>0</td>\n",
       "      <td>0</td>\n",
       "    </tr>\n",
       "    <tr>\n",
       "      <th>102</th>\n",
       "      <td>-0.674235</td>\n",
       "      <td>0.223449</td>\n",
       "      <td>1</td>\n",
       "      <td>-0.836308</td>\n",
       "      <td>1</td>\n",
       "      <td>0</td>\n",
       "      <td>0</td>\n",
       "      <td>0</td>\n",
       "      <td>0</td>\n",
       "      <td>0</td>\n",
       "      <td>0</td>\n",
       "      <td>0</td>\n",
       "    </tr>\n",
       "  </tbody>\n",
       "</table>\n",
       "<p>433 rows × 12 columns</p>\n",
       "</div>"
      ],
      "text/plain": [
       "     followers  videoscount  ads  duration_sec  is_labubu  is_skullpanda  \\\n",
       "409   1.101838     1.010533    1      1.280059          0              0   \n",
       "434   1.371975     1.035513    1      1.766438          1              0   \n",
       "33    0.773393     0.700810    1      0.697548          0              0   \n",
       "0     0.056395     0.884138    1     -0.048033          1              0   \n",
       "612  -0.417052    -1.595987    1     -1.053541          0              0   \n",
       "..         ...          ...  ...           ...        ...            ...   \n",
       "71   -0.445655     0.499724    1     -1.188817          1              0   \n",
       "106  -0.291603    -0.172020    1     -0.591528          1              0   \n",
       "270  -0.439728    -0.199245    1     -0.251541          1              0   \n",
       "435   0.991970     0.298748    0     -0.591528          1              0   \n",
       "102  -0.674235     0.223449    1     -0.836308          1              0   \n",
       "\n",
       "     is_crybaby  is_hirono  is_unboxing  is_blindbox  is_recommendation  \\\n",
       "409           0          0            1            1                  0   \n",
       "434           0          0            1            1                  0   \n",
       "33            0          0            1            1                  0   \n",
       "0             0          0            0            0                  0   \n",
       "612           0          1            0            0                  0   \n",
       "..          ...        ...          ...          ...                ...   \n",
       "71            0          0            1            0                  0   \n",
       "106           0          0            0            0                  0   \n",
       "270           0          0            0            0                  0   \n",
       "435           0          0            0            1                  0   \n",
       "102           0          0            0            0                  0   \n",
       "\n",
       "     is_cute  \n",
       "409        0  \n",
       "434        0  \n",
       "33         0  \n",
       "0          0  \n",
       "612        0  \n",
       "..       ...  \n",
       "71         0  \n",
       "106        0  \n",
       "270        0  \n",
       "435        0  \n",
       "102        0  \n",
       "\n",
       "[433 rows x 12 columns]"
      ]
     },
     "execution_count": 28,
     "metadata": {},
     "output_type": "execute_result"
    }
   ],
   "source": [
    "x_reg_train[['followers','videoscount','duration_sec']] = sc.fit_transform(x_reg_train[['followers','videoscount','duration_sec']].apply(np.log1p))\n",
    "x_reg_train['ads'] = le.fit_transform(x_reg_train['ads'])\n",
    "x_reg_train"
   ]
  },
  {
   "cell_type": "code",
   "execution_count": 29,
   "id": "57f4f83a-c15c-4148-8264-9617f6d71b32",
   "metadata": {},
   "outputs": [
    {
     "data": {
      "text/html": [
       "<div>\n",
       "<style scoped>\n",
       "    .dataframe tbody tr th:only-of-type {\n",
       "        vertical-align: middle;\n",
       "    }\n",
       "\n",
       "    .dataframe tbody tr th {\n",
       "        vertical-align: top;\n",
       "    }\n",
       "\n",
       "    .dataframe thead th {\n",
       "        text-align: right;\n",
       "    }\n",
       "</style>\n",
       "<table border=\"1\" class=\"dataframe\">\n",
       "  <thead>\n",
       "    <tr style=\"text-align: right;\">\n",
       "      <th></th>\n",
       "      <th>followers</th>\n",
       "      <th>videoscount</th>\n",
       "      <th>ads</th>\n",
       "      <th>duration_sec</th>\n",
       "      <th>is_labubu</th>\n",
       "      <th>is_skullpanda</th>\n",
       "      <th>is_crybaby</th>\n",
       "      <th>is_hirono</th>\n",
       "      <th>is_unboxing</th>\n",
       "      <th>is_blindbox</th>\n",
       "      <th>is_recommendation</th>\n",
       "      <th>is_cute</th>\n",
       "    </tr>\n",
       "  </thead>\n",
       "  <tbody>\n",
       "    <tr>\n",
       "      <th>49</th>\n",
       "      <td>-0.324812</td>\n",
       "      <td>-1.460210</td>\n",
       "      <td>1</td>\n",
       "      <td>1.591940</td>\n",
       "      <td>0</td>\n",
       "      <td>0</td>\n",
       "      <td>0</td>\n",
       "      <td>0</td>\n",
       "      <td>0</td>\n",
       "      <td>1</td>\n",
       "      <td>0</td>\n",
       "      <td>0</td>\n",
       "    </tr>\n",
       "    <tr>\n",
       "      <th>583</th>\n",
       "      <td>-0.095809</td>\n",
       "      <td>-0.744263</td>\n",
       "      <td>1</td>\n",
       "      <td>0.573914</td>\n",
       "      <td>0</td>\n",
       "      <td>0</td>\n",
       "      <td>1</td>\n",
       "      <td>0</td>\n",
       "      <td>1</td>\n",
       "      <td>0</td>\n",
       "      <td>1</td>\n",
       "      <td>0</td>\n",
       "    </tr>\n",
       "    <tr>\n",
       "      <th>82</th>\n",
       "      <td>0.002891</td>\n",
       "      <td>0.926566</td>\n",
       "      <td>1</td>\n",
       "      <td>-0.704704</td>\n",
       "      <td>1</td>\n",
       "      <td>0</td>\n",
       "      <td>0</td>\n",
       "      <td>0</td>\n",
       "      <td>0</td>\n",
       "      <td>0</td>\n",
       "      <td>0</td>\n",
       "      <td>1</td>\n",
       "    </tr>\n",
       "    <tr>\n",
       "      <th>305</th>\n",
       "      <td>0.053856</td>\n",
       "      <td>1.260427</td>\n",
       "      <td>1</td>\n",
       "      <td>-0.627524</td>\n",
       "      <td>0</td>\n",
       "      <td>0</td>\n",
       "      <td>1</td>\n",
       "      <td>0</td>\n",
       "      <td>1</td>\n",
       "      <td>1</td>\n",
       "      <td>0</td>\n",
       "      <td>1</td>\n",
       "    </tr>\n",
       "    <tr>\n",
       "      <th>109</th>\n",
       "      <td>-0.588778</td>\n",
       "      <td>-0.554487</td>\n",
       "      <td>1</td>\n",
       "      <td>-1.351315</td>\n",
       "      <td>1</td>\n",
       "      <td>0</td>\n",
       "      <td>0</td>\n",
       "      <td>0</td>\n",
       "      <td>0</td>\n",
       "      <td>0</td>\n",
       "      <td>0</td>\n",
       "      <td>0</td>\n",
       "    </tr>\n",
       "    <tr>\n",
       "      <th>...</th>\n",
       "      <td>...</td>\n",
       "      <td>...</td>\n",
       "      <td>...</td>\n",
       "      <td>...</td>\n",
       "      <td>...</td>\n",
       "      <td>...</td>\n",
       "      <td>...</td>\n",
       "      <td>...</td>\n",
       "      <td>...</td>\n",
       "      <td>...</td>\n",
       "      <td>...</td>\n",
       "      <td>...</td>\n",
       "    </tr>\n",
       "    <tr>\n",
       "      <th>192</th>\n",
       "      <td>1.006178</td>\n",
       "      <td>0.354293</td>\n",
       "      <td>1</td>\n",
       "      <td>-1.053541</td>\n",
       "      <td>1</td>\n",
       "      <td>0</td>\n",
       "      <td>0</td>\n",
       "      <td>0</td>\n",
       "      <td>1</td>\n",
       "      <td>0</td>\n",
       "      <td>0</td>\n",
       "      <td>0</td>\n",
       "    </tr>\n",
       "    <tr>\n",
       "      <th>375</th>\n",
       "      <td>-0.630751</td>\n",
       "      <td>-0.878902</td>\n",
       "      <td>1</td>\n",
       "      <td>-0.012820</td>\n",
       "      <td>0</td>\n",
       "      <td>0</td>\n",
       "      <td>0</td>\n",
       "      <td>0</td>\n",
       "      <td>0</td>\n",
       "      <td>0</td>\n",
       "      <td>0</td>\n",
       "      <td>0</td>\n",
       "    </tr>\n",
       "    <tr>\n",
       "      <th>88</th>\n",
       "      <td>0.053856</td>\n",
       "      <td>1.260427</td>\n",
       "      <td>1</td>\n",
       "      <td>-1.188817</td>\n",
       "      <td>1</td>\n",
       "      <td>0</td>\n",
       "      <td>0</td>\n",
       "      <td>0</td>\n",
       "      <td>0</td>\n",
       "      <td>0</td>\n",
       "      <td>0</td>\n",
       "      <td>0</td>\n",
       "    </tr>\n",
       "    <tr>\n",
       "      <th>518</th>\n",
       "      <td>-1.231612</td>\n",
       "      <td>-1.326196</td>\n",
       "      <td>1</td>\n",
       "      <td>0.037286</td>\n",
       "      <td>1</td>\n",
       "      <td>0</td>\n",
       "      <td>0</td>\n",
       "      <td>0</td>\n",
       "      <td>0</td>\n",
       "      <td>1</td>\n",
       "      <td>0</td>\n",
       "      <td>0</td>\n",
       "    </tr>\n",
       "    <tr>\n",
       "      <th>117</th>\n",
       "      <td>0.095073</td>\n",
       "      <td>-1.595987</td>\n",
       "      <td>1</td>\n",
       "      <td>-0.704704</td>\n",
       "      <td>1</td>\n",
       "      <td>0</td>\n",
       "      <td>0</td>\n",
       "      <td>0</td>\n",
       "      <td>1</td>\n",
       "      <td>0</td>\n",
       "      <td>0</td>\n",
       "      <td>0</td>\n",
       "    </tr>\n",
       "  </tbody>\n",
       "</table>\n",
       "<p>186 rows × 12 columns</p>\n",
       "</div>"
      ],
      "text/plain": [
       "     followers  videoscount  ads  duration_sec  is_labubu  is_skullpanda  \\\n",
       "49   -0.324812    -1.460210    1      1.591940          0              0   \n",
       "583  -0.095809    -0.744263    1      0.573914          0              0   \n",
       "82    0.002891     0.926566    1     -0.704704          1              0   \n",
       "305   0.053856     1.260427    1     -0.627524          0              0   \n",
       "109  -0.588778    -0.554487    1     -1.351315          1              0   \n",
       "..         ...          ...  ...           ...        ...            ...   \n",
       "192   1.006178     0.354293    1     -1.053541          1              0   \n",
       "375  -0.630751    -0.878902    1     -0.012820          0              0   \n",
       "88    0.053856     1.260427    1     -1.188817          1              0   \n",
       "518  -1.231612    -1.326196    1      0.037286          1              0   \n",
       "117   0.095073    -1.595987    1     -0.704704          1              0   \n",
       "\n",
       "     is_crybaby  is_hirono  is_unboxing  is_blindbox  is_recommendation  \\\n",
       "49            0          0            0            1                  0   \n",
       "583           1          0            1            0                  1   \n",
       "82            0          0            0            0                  0   \n",
       "305           1          0            1            1                  0   \n",
       "109           0          0            0            0                  0   \n",
       "..          ...        ...          ...          ...                ...   \n",
       "192           0          0            1            0                  0   \n",
       "375           0          0            0            0                  0   \n",
       "88            0          0            0            0                  0   \n",
       "518           0          0            0            1                  0   \n",
       "117           0          0            1            0                  0   \n",
       "\n",
       "     is_cute  \n",
       "49         0  \n",
       "583        0  \n",
       "82         1  \n",
       "305        1  \n",
       "109        0  \n",
       "..       ...  \n",
       "192        0  \n",
       "375        0  \n",
       "88         0  \n",
       "518        0  \n",
       "117        0  \n",
       "\n",
       "[186 rows x 12 columns]"
      ]
     },
     "execution_count": 29,
     "metadata": {},
     "output_type": "execute_result"
    }
   ],
   "source": [
    "x_reg_test[['followers','videoscount','duration_sec']] = sc.transform(x_reg_test[['followers','videoscount','duration_sec']].apply(np.log1p))\n",
    "x_reg_test['ads'] = le.transform(x_reg_test['ads'])\n",
    "x_reg_test"
   ]
  },
  {
   "cell_type": "code",
   "execution_count": 30,
   "id": "cb2d4417-785d-4a9c-b756-e259b6e20e42",
   "metadata": {},
   "outputs": [],
   "source": [
    "y_reg_views_train = y_reg_views_train.apply(np.log1p)\n",
    "y_reg_views_test = y_reg_views_test.apply(np.log1p)"
   ]
  },
  {
   "cell_type": "markdown",
   "id": "988f38fa",
   "metadata": {},
   "source": [
    "## 📈 Step 5: Fit Regression Models and Evaluate Results\n",
    "Fit linear regression models for each target metric (views, likes, shares, comments). Evaluate model performance using R² score and interpret feature significance using statsmodels coefficients and p-values."
   ]
  },
  {
   "cell_type": "code",
   "execution_count": 31,
   "id": "93393c7d-6992-455d-90ae-0ea688470fb5",
   "metadata": {},
   "outputs": [
    {
     "data": {
      "text/html": [
       "<style>#sk-container-id-1 {color: black;background-color: white;}#sk-container-id-1 pre{padding: 0;}#sk-container-id-1 div.sk-toggleable {background-color: white;}#sk-container-id-1 label.sk-toggleable__label {cursor: pointer;display: block;width: 100%;margin-bottom: 0;padding: 0.3em;box-sizing: border-box;text-align: center;}#sk-container-id-1 label.sk-toggleable__label-arrow:before {content: \"▸\";float: left;margin-right: 0.25em;color: #696969;}#sk-container-id-1 label.sk-toggleable__label-arrow:hover:before {color: black;}#sk-container-id-1 div.sk-estimator:hover label.sk-toggleable__label-arrow:before {color: black;}#sk-container-id-1 div.sk-toggleable__content {max-height: 0;max-width: 0;overflow: hidden;text-align: left;background-color: #f0f8ff;}#sk-container-id-1 div.sk-toggleable__content pre {margin: 0.2em;color: black;border-radius: 0.25em;background-color: #f0f8ff;}#sk-container-id-1 input.sk-toggleable__control:checked~div.sk-toggleable__content {max-height: 200px;max-width: 100%;overflow: auto;}#sk-container-id-1 input.sk-toggleable__control:checked~label.sk-toggleable__label-arrow:before {content: \"▾\";}#sk-container-id-1 div.sk-estimator input.sk-toggleable__control:checked~label.sk-toggleable__label {background-color: #d4ebff;}#sk-container-id-1 div.sk-label input.sk-toggleable__control:checked~label.sk-toggleable__label {background-color: #d4ebff;}#sk-container-id-1 input.sk-hidden--visually {border: 0;clip: rect(1px 1px 1px 1px);clip: rect(1px, 1px, 1px, 1px);height: 1px;margin: -1px;overflow: hidden;padding: 0;position: absolute;width: 1px;}#sk-container-id-1 div.sk-estimator {font-family: monospace;background-color: #f0f8ff;border: 1px dotted black;border-radius: 0.25em;box-sizing: border-box;margin-bottom: 0.5em;}#sk-container-id-1 div.sk-estimator:hover {background-color: #d4ebff;}#sk-container-id-1 div.sk-parallel-item::after {content: \"\";width: 100%;border-bottom: 1px solid gray;flex-grow: 1;}#sk-container-id-1 div.sk-label:hover label.sk-toggleable__label {background-color: #d4ebff;}#sk-container-id-1 div.sk-serial::before {content: \"\";position: absolute;border-left: 1px solid gray;box-sizing: border-box;top: 0;bottom: 0;left: 50%;z-index: 0;}#sk-container-id-1 div.sk-serial {display: flex;flex-direction: column;align-items: center;background-color: white;padding-right: 0.2em;padding-left: 0.2em;position: relative;}#sk-container-id-1 div.sk-item {position: relative;z-index: 1;}#sk-container-id-1 div.sk-parallel {display: flex;align-items: stretch;justify-content: center;background-color: white;position: relative;}#sk-container-id-1 div.sk-item::before, #sk-container-id-1 div.sk-parallel-item::before {content: \"\";position: absolute;border-left: 1px solid gray;box-sizing: border-box;top: 0;bottom: 0;left: 50%;z-index: -1;}#sk-container-id-1 div.sk-parallel-item {display: flex;flex-direction: column;z-index: 1;position: relative;background-color: white;}#sk-container-id-1 div.sk-parallel-item:first-child::after {align-self: flex-end;width: 50%;}#sk-container-id-1 div.sk-parallel-item:last-child::after {align-self: flex-start;width: 50%;}#sk-container-id-1 div.sk-parallel-item:only-child::after {width: 0;}#sk-container-id-1 div.sk-dashed-wrapped {border: 1px dashed gray;margin: 0 0.4em 0.5em 0.4em;box-sizing: border-box;padding-bottom: 0.4em;background-color: white;}#sk-container-id-1 div.sk-label label {font-family: monospace;font-weight: bold;display: inline-block;line-height: 1.2em;}#sk-container-id-1 div.sk-label-container {text-align: center;}#sk-container-id-1 div.sk-container {/* jupyter's `normalize.less` sets `[hidden] { display: none; }` but bootstrap.min.css set `[hidden] { display: none !important; }` so we also need the `!important` here to be able to override the default hidden behavior on the sphinx rendered scikit-learn.org. See: https://github.com/scikit-learn/scikit-learn/issues/21755 */display: inline-block !important;position: relative;}#sk-container-id-1 div.sk-text-repr-fallback {display: none;}</style><div id=\"sk-container-id-1\" class=\"sk-top-container\"><div class=\"sk-text-repr-fallback\"><pre>LinearRegression()</pre><b>In a Jupyter environment, please rerun this cell to show the HTML representation or trust the notebook. <br />On GitHub, the HTML representation is unable to render, please try loading this page with nbviewer.org.</b></div><div class=\"sk-container\" hidden><div class=\"sk-item\"><div class=\"sk-estimator sk-toggleable\"><input class=\"sk-toggleable__control sk-hidden--visually\" id=\"sk-estimator-id-1\" type=\"checkbox\" checked><label for=\"sk-estimator-id-1\" class=\"sk-toggleable__label sk-toggleable__label-arrow\">LinearRegression</label><div class=\"sk-toggleable__content\"><pre>LinearRegression()</pre></div></div></div></div></div>"
      ],
      "text/plain": [
       "LinearRegression()"
      ]
     },
     "execution_count": 31,
     "metadata": {},
     "output_type": "execute_result"
    }
   ],
   "source": [
    "linear_views = LinearRegression()\n",
    "linear_views.fit(x_reg_train, y_reg_views_train)"
   ]
  },
  {
   "cell_type": "code",
   "execution_count": 32,
   "id": "919b427b-7a70-4d59-8f7a-f1f8f0e820e7",
   "metadata": {},
   "outputs": [],
   "source": [
    "linear_views_pred = linear_views.predict(x_reg_test)"
   ]
  },
  {
   "cell_type": "code",
   "execution_count": 33,
   "id": "e04b7356-9485-4658-ad5d-68897d21bc99",
   "metadata": {},
   "outputs": [
    {
     "name": "stdout",
     "output_type": "stream",
     "text": [
      "The R-squared for Linear Regression Model predicting Views is 0.18139506443205788\n",
      "The Mean Absolute Error for Linear Regression Model predicting Views is 2.126812863059181\n",
      "The Mean Squared Error for Linear Regression Model predicting Views is 7.048626552463477\n",
      "The Root Mean Squared Error for Linear Regression Model predicting Views is 2.654924961738745\n"
     ]
    }
   ],
   "source": [
    "linear_views_r2 = r2_score(y_reg_views_test, linear_views_pred)\n",
    "linear_views_mae = mean_absolute_error(y_reg_views_test, linear_views_pred)\n",
    "linear_views_mse = mean_squared_error(y_reg_views_test, linear_views_pred)\n",
    "linear_views_rmse = mean_squared_error(y_reg_views_test, linear_views_pred, squared=False)\n",
    "\n",
    "print(f'The R-squared for Linear Regression Model predicting Views is {linear_views_r2}')\n",
    "print(f'The Mean Absolute Error for Linear Regression Model predicting Views is {linear_views_mae}')\n",
    "print(f'The Mean Squared Error for Linear Regression Model predicting Views is {linear_views_mse}')\n",
    "print(f'The Root Mean Squared Error for Linear Regression Model predicting Views is {linear_views_rmse}')"
   ]
  },
  {
   "cell_type": "code",
   "execution_count": 34,
   "id": "22d01932-9b73-4c27-bb76-39510d6f8b70",
   "metadata": {},
   "outputs": [],
   "source": [
    "coefs = linear_views.coef_.ravel()\n",
    "intercept = linear_views.intercept_.ravel()[0]"
   ]
  },
  {
   "cell_type": "code",
   "execution_count": 35,
   "id": "bcce1ec6-2ffa-493e-a844-3b9266702e8b",
   "metadata": {},
   "outputs": [
    {
     "data": {
      "text/html": [
       "<div>\n",
       "<style scoped>\n",
       "    .dataframe tbody tr th:only-of-type {\n",
       "        vertical-align: middle;\n",
       "    }\n",
       "\n",
       "    .dataframe tbody tr th {\n",
       "        vertical-align: top;\n",
       "    }\n",
       "\n",
       "    .dataframe thead th {\n",
       "        text-align: right;\n",
       "    }\n",
       "</style>\n",
       "<table border=\"1\" class=\"dataframe\">\n",
       "  <thead>\n",
       "    <tr style=\"text-align: right;\">\n",
       "      <th></th>\n",
       "      <th>Feature</th>\n",
       "      <th>Coefficient</th>\n",
       "    </tr>\n",
       "  </thead>\n",
       "  <tbody>\n",
       "    <tr>\n",
       "      <th>12</th>\n",
       "      <td>Constant</td>\n",
       "      <td>12.223285</td>\n",
       "    </tr>\n",
       "    <tr>\n",
       "      <th>0</th>\n",
       "      <td>followers</td>\n",
       "      <td>2.175649</td>\n",
       "    </tr>\n",
       "    <tr>\n",
       "      <th>7</th>\n",
       "      <td>is_hirono</td>\n",
       "      <td>1.044803</td>\n",
       "    </tr>\n",
       "    <tr>\n",
       "      <th>4</th>\n",
       "      <td>is_labubu</td>\n",
       "      <td>0.846632</td>\n",
       "    </tr>\n",
       "    <tr>\n",
       "      <th>8</th>\n",
       "      <td>is_unboxing</td>\n",
       "      <td>0.460973</td>\n",
       "    </tr>\n",
       "    <tr>\n",
       "      <th>6</th>\n",
       "      <td>is_crybaby</td>\n",
       "      <td>0.146199</td>\n",
       "    </tr>\n",
       "    <tr>\n",
       "      <th>11</th>\n",
       "      <td>is_cute</td>\n",
       "      <td>0.108134</td>\n",
       "    </tr>\n",
       "    <tr>\n",
       "      <th>2</th>\n",
       "      <td>ads</td>\n",
       "      <td>0.072363</td>\n",
       "    </tr>\n",
       "    <tr>\n",
       "      <th>9</th>\n",
       "      <td>is_blindbox</td>\n",
       "      <td>-0.219718</td>\n",
       "    </tr>\n",
       "    <tr>\n",
       "      <th>3</th>\n",
       "      <td>duration_sec</td>\n",
       "      <td>-0.363795</td>\n",
       "    </tr>\n",
       "    <tr>\n",
       "      <th>1</th>\n",
       "      <td>videoscount</td>\n",
       "      <td>-0.897880</td>\n",
       "    </tr>\n",
       "    <tr>\n",
       "      <th>5</th>\n",
       "      <td>is_skullpanda</td>\n",
       "      <td>-1.212112</td>\n",
       "    </tr>\n",
       "    <tr>\n",
       "      <th>10</th>\n",
       "      <td>is_recommendation</td>\n",
       "      <td>-2.415880</td>\n",
       "    </tr>\n",
       "  </tbody>\n",
       "</table>\n",
       "</div>"
      ],
      "text/plain": [
       "              Feature  Coefficient\n",
       "12           Constant    12.223285\n",
       "0           followers     2.175649\n",
       "7           is_hirono     1.044803\n",
       "4           is_labubu     0.846632\n",
       "8         is_unboxing     0.460973\n",
       "6          is_crybaby     0.146199\n",
       "11            is_cute     0.108134\n",
       "2                 ads     0.072363\n",
       "9         is_blindbox    -0.219718\n",
       "3        duration_sec    -0.363795\n",
       "1         videoscount    -0.897880\n",
       "5       is_skullpanda    -1.212112\n",
       "10  is_recommendation    -2.415880"
      ]
     },
     "execution_count": 35,
     "metadata": {},
     "output_type": "execute_result"
    }
   ],
   "source": [
    "linear_coef_table = pd.DataFrame(\n",
    "    {'Feature':list(x_reg_train.columns) + ['Constant'],\n",
    "     'Coefficient':list(coefs) + [intercept]}\n",
    ")\n",
    "linear_coef_table.sort_values('Coefficient', ascending=False)"
   ]
  },
  {
   "cell_type": "code",
   "execution_count": 36,
   "id": "1565fcf8-d8bb-47f8-af23-e1c9da922785",
   "metadata": {},
   "outputs": [
    {
     "data": {
      "text/html": [
       "<table class=\"simpletable\">\n",
       "<caption>OLS Regression Results</caption>\n",
       "<tr>\n",
       "  <th>Dep. Variable:</th>          <td>views</td>      <th>  R-squared:         </th> <td>   0.310</td>\n",
       "</tr>\n",
       "<tr>\n",
       "  <th>Model:</th>                   <td>OLS</td>       <th>  Adj. R-squared:    </th> <td>   0.290</td>\n",
       "</tr>\n",
       "<tr>\n",
       "  <th>Method:</th>             <td>Least Squares</td>  <th>  F-statistic:       </th> <td>   15.69</td>\n",
       "</tr>\n",
       "<tr>\n",
       "  <th>Date:</th>             <td>Wed, 16 Jul 2025</td> <th>  Prob (F-statistic):</th> <td>1.79e-27</td>\n",
       "</tr>\n",
       "<tr>\n",
       "  <th>Time:</th>                 <td>20:38:56</td>     <th>  Log-Likelihood:    </th> <td> -978.28</td>\n",
       "</tr>\n",
       "<tr>\n",
       "  <th>No. Observations:</th>      <td>   433</td>      <th>  AIC:               </th> <td>   1983.</td>\n",
       "</tr>\n",
       "<tr>\n",
       "  <th>Df Residuals:</th>          <td>   420</td>      <th>  BIC:               </th> <td>   2035.</td>\n",
       "</tr>\n",
       "<tr>\n",
       "  <th>Df Model:</th>              <td>    12</td>      <th>                     </th>     <td> </td>   \n",
       "</tr>\n",
       "<tr>\n",
       "  <th>Covariance Type:</th>      <td>nonrobust</td>    <th>                     </th>     <td> </td>   \n",
       "</tr>\n",
       "</table>\n",
       "<table class=\"simpletable\">\n",
       "<tr>\n",
       "          <td></td>             <th>coef</th>     <th>std err</th>      <th>t</th>      <th>P>|t|</th>  <th>[0.025</th>    <th>0.975]</th>  \n",
       "</tr>\n",
       "<tr>\n",
       "  <th>const</th>             <td>   12.2233</td> <td>    0.567</td> <td>   21.539</td> <td> 0.000</td> <td>   11.108</td> <td>   13.339</td>\n",
       "</tr>\n",
       "<tr>\n",
       "  <th>followers</th>         <td>    2.1756</td> <td>    0.182</td> <td>   11.973</td> <td> 0.000</td> <td>    1.818</td> <td>    2.533</td>\n",
       "</tr>\n",
       "<tr>\n",
       "  <th>videoscount</th>       <td>   -0.8979</td> <td>    0.166</td> <td>   -5.412</td> <td> 0.000</td> <td>   -1.224</td> <td>   -0.572</td>\n",
       "</tr>\n",
       "<tr>\n",
       "  <th>ads</th>               <td>    0.0724</td> <td>    0.547</td> <td>    0.132</td> <td> 0.895</td> <td>   -1.002</td> <td>    1.147</td>\n",
       "</tr>\n",
       "<tr>\n",
       "  <th>duration_sec</th>      <td>   -0.3638</td> <td>    0.139</td> <td>   -2.615</td> <td> 0.009</td> <td>   -0.637</td> <td>   -0.090</td>\n",
       "</tr>\n",
       "<tr>\n",
       "  <th>is_labubu</th>         <td>    0.8466</td> <td>    0.251</td> <td>    3.378</td> <td> 0.001</td> <td>    0.354</td> <td>    1.339</td>\n",
       "</tr>\n",
       "<tr>\n",
       "  <th>is_skullpanda</th>     <td>   -1.2121</td> <td>    0.410</td> <td>   -2.959</td> <td> 0.003</td> <td>   -2.017</td> <td>   -0.407</td>\n",
       "</tr>\n",
       "<tr>\n",
       "  <th>is_crybaby</th>        <td>    0.1462</td> <td>    0.407</td> <td>    0.359</td> <td> 0.719</td> <td>   -0.653</td> <td>    0.946</td>\n",
       "</tr>\n",
       "<tr>\n",
       "  <th>is_hirono</th>         <td>    1.0448</td> <td>    0.479</td> <td>    2.183</td> <td> 0.030</td> <td>    0.104</td> <td>    1.986</td>\n",
       "</tr>\n",
       "<tr>\n",
       "  <th>is_unboxing</th>       <td>    0.4610</td> <td>    0.260</td> <td>    1.773</td> <td> 0.077</td> <td>   -0.050</td> <td>    0.972</td>\n",
       "</tr>\n",
       "<tr>\n",
       "  <th>is_blindbox</th>       <td>   -0.2197</td> <td>    0.253</td> <td>   -0.869</td> <td> 0.385</td> <td>   -0.717</td> <td>    0.277</td>\n",
       "</tr>\n",
       "<tr>\n",
       "  <th>is_recommendation</th> <td>   -2.4159</td> <td>    1.402</td> <td>   -1.723</td> <td> 0.086</td> <td>   -5.172</td> <td>    0.340</td>\n",
       "</tr>\n",
       "<tr>\n",
       "  <th>is_cute</th>           <td>    0.1081</td> <td>    0.473</td> <td>    0.229</td> <td> 0.819</td> <td>   -0.821</td> <td>    1.038</td>\n",
       "</tr>\n",
       "</table>\n",
       "<table class=\"simpletable\">\n",
       "<tr>\n",
       "  <th>Omnibus:</th>       <td>14.075</td> <th>  Durbin-Watson:     </th> <td>   1.964</td>\n",
       "</tr>\n",
       "<tr>\n",
       "  <th>Prob(Omnibus):</th> <td> 0.001</td> <th>  Jarque-Bera (JB):  </th> <td>  14.631</td>\n",
       "</tr>\n",
       "<tr>\n",
       "  <th>Skew:</th>          <td>-0.430</td> <th>  Prob(JB):          </th> <td>0.000665</td>\n",
       "</tr>\n",
       "<tr>\n",
       "  <th>Kurtosis:</th>      <td> 2.734</td> <th>  Cond. No.          </th> <td>    20.6</td>\n",
       "</tr>\n",
       "</table><br/><br/>Notes:<br/>[1] Standard Errors assume that the covariance matrix of the errors is correctly specified."
      ],
      "text/latex": [
       "\\begin{center}\n",
       "\\begin{tabular}{lclc}\n",
       "\\toprule\n",
       "\\textbf{Dep. Variable:}     &      views       & \\textbf{  R-squared:         } &     0.310   \\\\\n",
       "\\textbf{Model:}             &       OLS        & \\textbf{  Adj. R-squared:    } &     0.290   \\\\\n",
       "\\textbf{Method:}            &  Least Squares   & \\textbf{  F-statistic:       } &     15.69   \\\\\n",
       "\\textbf{Date:}              & Wed, 16 Jul 2025 & \\textbf{  Prob (F-statistic):} &  1.79e-27   \\\\\n",
       "\\textbf{Time:}              &     20:38:56     & \\textbf{  Log-Likelihood:    } &   -978.28   \\\\\n",
       "\\textbf{No. Observations:}  &         433      & \\textbf{  AIC:               } &     1983.   \\\\\n",
       "\\textbf{Df Residuals:}      &         420      & \\textbf{  BIC:               } &     2035.   \\\\\n",
       "\\textbf{Df Model:}          &          12      & \\textbf{                     } &             \\\\\n",
       "\\textbf{Covariance Type:}   &    nonrobust     & \\textbf{                     } &             \\\\\n",
       "\\bottomrule\n",
       "\\end{tabular}\n",
       "\\begin{tabular}{lcccccc}\n",
       "                            & \\textbf{coef} & \\textbf{std err} & \\textbf{t} & \\textbf{P$> |$t$|$} & \\textbf{[0.025} & \\textbf{0.975]}  \\\\\n",
       "\\midrule\n",
       "\\textbf{const}              &      12.2233  &        0.567     &    21.539  &         0.000        &       11.108    &       13.339     \\\\\n",
       "\\textbf{followers}          &       2.1756  &        0.182     &    11.973  &         0.000        &        1.818    &        2.533     \\\\\n",
       "\\textbf{videoscount}        &      -0.8979  &        0.166     &    -5.412  &         0.000        &       -1.224    &       -0.572     \\\\\n",
       "\\textbf{ads}                &       0.0724  &        0.547     &     0.132  &         0.895        &       -1.002    &        1.147     \\\\\n",
       "\\textbf{duration\\_sec}      &      -0.3638  &        0.139     &    -2.615  &         0.009        &       -0.637    &       -0.090     \\\\\n",
       "\\textbf{is\\_labubu}         &       0.8466  &        0.251     &     3.378  &         0.001        &        0.354    &        1.339     \\\\\n",
       "\\textbf{is\\_skullpanda}     &      -1.2121  &        0.410     &    -2.959  &         0.003        &       -2.017    &       -0.407     \\\\\n",
       "\\textbf{is\\_crybaby}        &       0.1462  &        0.407     &     0.359  &         0.719        &       -0.653    &        0.946     \\\\\n",
       "\\textbf{is\\_hirono}         &       1.0448  &        0.479     &     2.183  &         0.030        &        0.104    &        1.986     \\\\\n",
       "\\textbf{is\\_unboxing}       &       0.4610  &        0.260     &     1.773  &         0.077        &       -0.050    &        0.972     \\\\\n",
       "\\textbf{is\\_blindbox}       &      -0.2197  &        0.253     &    -0.869  &         0.385        &       -0.717    &        0.277     \\\\\n",
       "\\textbf{is\\_recommendation} &      -2.4159  &        1.402     &    -1.723  &         0.086        &       -5.172    &        0.340     \\\\\n",
       "\\textbf{is\\_cute}           &       0.1081  &        0.473     &     0.229  &         0.819        &       -0.821    &        1.038     \\\\\n",
       "\\bottomrule\n",
       "\\end{tabular}\n",
       "\\begin{tabular}{lclc}\n",
       "\\textbf{Omnibus:}       & 14.075 & \\textbf{  Durbin-Watson:     } &    1.964  \\\\\n",
       "\\textbf{Prob(Omnibus):} &  0.001 & \\textbf{  Jarque-Bera (JB):  } &   14.631  \\\\\n",
       "\\textbf{Skew:}          & -0.430 & \\textbf{  Prob(JB):          } & 0.000665  \\\\\n",
       "\\textbf{Kurtosis:}      &  2.734 & \\textbf{  Cond. No.          } &     20.6  \\\\\n",
       "\\bottomrule\n",
       "\\end{tabular}\n",
       "%\\caption{OLS Regression Results}\n",
       "\\end{center}\n",
       "\n",
       "Notes: \\newline\n",
       " [1] Standard Errors assume that the covariance matrix of the errors is correctly specified."
      ],
      "text/plain": [
       "<class 'statsmodels.iolib.summary.Summary'>\n",
       "\"\"\"\n",
       "                            OLS Regression Results                            \n",
       "==============================================================================\n",
       "Dep. Variable:                  views   R-squared:                       0.310\n",
       "Model:                            OLS   Adj. R-squared:                  0.290\n",
       "Method:                 Least Squares   F-statistic:                     15.69\n",
       "Date:                Wed, 16 Jul 2025   Prob (F-statistic):           1.79e-27\n",
       "Time:                        20:38:56   Log-Likelihood:                -978.28\n",
       "No. Observations:                 433   AIC:                             1983.\n",
       "Df Residuals:                     420   BIC:                             2035.\n",
       "Df Model:                          12                                         \n",
       "Covariance Type:            nonrobust                                         \n",
       "=====================================================================================\n",
       "                        coef    std err          t      P>|t|      [0.025      0.975]\n",
       "-------------------------------------------------------------------------------------\n",
       "const                12.2233      0.567     21.539      0.000      11.108      13.339\n",
       "followers             2.1756      0.182     11.973      0.000       1.818       2.533\n",
       "videoscount          -0.8979      0.166     -5.412      0.000      -1.224      -0.572\n",
       "ads                   0.0724      0.547      0.132      0.895      -1.002       1.147\n",
       "duration_sec         -0.3638      0.139     -2.615      0.009      -0.637      -0.090\n",
       "is_labubu             0.8466      0.251      3.378      0.001       0.354       1.339\n",
       "is_skullpanda        -1.2121      0.410     -2.959      0.003      -2.017      -0.407\n",
       "is_crybaby            0.1462      0.407      0.359      0.719      -0.653       0.946\n",
       "is_hirono             1.0448      0.479      2.183      0.030       0.104       1.986\n",
       "is_unboxing           0.4610      0.260      1.773      0.077      -0.050       0.972\n",
       "is_blindbox          -0.2197      0.253     -0.869      0.385      -0.717       0.277\n",
       "is_recommendation    -2.4159      1.402     -1.723      0.086      -5.172       0.340\n",
       "is_cute               0.1081      0.473      0.229      0.819      -0.821       1.038\n",
       "==============================================================================\n",
       "Omnibus:                       14.075   Durbin-Watson:                   1.964\n",
       "Prob(Omnibus):                  0.001   Jarque-Bera (JB):               14.631\n",
       "Skew:                          -0.430   Prob(JB):                     0.000665\n",
       "Kurtosis:                       2.734   Cond. No.                         20.6\n",
       "==============================================================================\n",
       "\n",
       "Notes:\n",
       "[1] Standard Errors assume that the covariance matrix of the errors is correctly specified.\n",
       "\"\"\""
      ]
     },
     "execution_count": 36,
     "metadata": {},
     "output_type": "execute_result"
    }
   ],
   "source": [
    "X = sm.add_constant(x_reg_train)\n",
    "y = y_reg_views_train\n",
    "\n",
    "linear_views_sm = sm.OLS(y,X).fit()\n",
    "pval = linear_views_sm.pvalues.ravel()\n",
    "linear_views_sm.summary()"
   ]
  },
  {
   "cell_type": "markdown",
   "id": "71dbb9cc",
   "metadata": {},
   "source": [
    "- **Key Insight**: Features such as `followers`, `videoscount`, `duration_sec`, and specific creator/product flags (`is_labubu`, `is_skullpanda`,`is_hirono`,`is_unboxing`) were found significant, suggesting creator scale, labubu/hirono/unboxing content is growing view count, while skullpanda may not necessarily brings higher views. "
   ]
  },
  {
   "cell_type": "code",
   "execution_count": 37,
   "id": "f8d4b6c1-4dc8-423c-a837-e7ee89ad1f29",
   "metadata": {},
   "outputs": [
    {
     "data": {
      "text/html": [
       "<div>\n",
       "<style scoped>\n",
       "    .dataframe tbody tr th:only-of-type {\n",
       "        vertical-align: middle;\n",
       "    }\n",
       "\n",
       "    .dataframe tbody tr th {\n",
       "        vertical-align: top;\n",
       "    }\n",
       "\n",
       "    .dataframe thead th {\n",
       "        text-align: right;\n",
       "    }\n",
       "</style>\n",
       "<table border=\"1\" class=\"dataframe\">\n",
       "  <thead>\n",
       "    <tr style=\"text-align: right;\">\n",
       "      <th></th>\n",
       "      <th>followers</th>\n",
       "      <th>videoscount</th>\n",
       "      <th>ads</th>\n",
       "      <th>duration_sec</th>\n",
       "      <th>is_labubu</th>\n",
       "      <th>is_skullpanda</th>\n",
       "      <th>is_crybaby</th>\n",
       "      <th>is_hirono</th>\n",
       "      <th>is_unboxing</th>\n",
       "      <th>is_blindbox</th>\n",
       "      <th>is_recommendation</th>\n",
       "      <th>is_cute</th>\n",
       "    </tr>\n",
       "  </thead>\n",
       "  <tbody>\n",
       "    <tr>\n",
       "      <th>0</th>\n",
       "      <td>51100</td>\n",
       "      <td>835</td>\n",
       "      <td>NotAds</td>\n",
       "      <td>44</td>\n",
       "      <td>1</td>\n",
       "      <td>0</td>\n",
       "      <td>0</td>\n",
       "      <td>0</td>\n",
       "      <td>0</td>\n",
       "      <td>0</td>\n",
       "      <td>0</td>\n",
       "      <td>0</td>\n",
       "    </tr>\n",
       "    <tr>\n",
       "      <th>1</th>\n",
       "      <td>101</td>\n",
       "      <td>25</td>\n",
       "      <td>NotAds</td>\n",
       "      <td>18</td>\n",
       "      <td>1</td>\n",
       "      <td>0</td>\n",
       "      <td>0</td>\n",
       "      <td>0</td>\n",
       "      <td>0</td>\n",
       "      <td>1</td>\n",
       "      <td>0</td>\n",
       "      <td>0</td>\n",
       "    </tr>\n",
       "    <tr>\n",
       "      <th>2</th>\n",
       "      <td>1078</td>\n",
       "      <td>120</td>\n",
       "      <td>NotAds</td>\n",
       "      <td>44</td>\n",
       "      <td>1</td>\n",
       "      <td>0</td>\n",
       "      <td>0</td>\n",
       "      <td>0</td>\n",
       "      <td>1</td>\n",
       "      <td>0</td>\n",
       "      <td>0</td>\n",
       "      <td>0</td>\n",
       "    </tr>\n",
       "    <tr>\n",
       "      <th>3</th>\n",
       "      <td>21500</td>\n",
       "      <td>1248</td>\n",
       "      <td>NotAds</td>\n",
       "      <td>113</td>\n",
       "      <td>1</td>\n",
       "      <td>0</td>\n",
       "      <td>0</td>\n",
       "      <td>0</td>\n",
       "      <td>1</td>\n",
       "      <td>0</td>\n",
       "      <td>0</td>\n",
       "      <td>0</td>\n",
       "    </tr>\n",
       "    <tr>\n",
       "      <th>4</th>\n",
       "      <td>342900</td>\n",
       "      <td>526</td>\n",
       "      <td>NotAds</td>\n",
       "      <td>339</td>\n",
       "      <td>1</td>\n",
       "      <td>0</td>\n",
       "      <td>0</td>\n",
       "      <td>0</td>\n",
       "      <td>1</td>\n",
       "      <td>0</td>\n",
       "      <td>0</td>\n",
       "      <td>0</td>\n",
       "    </tr>\n",
       "    <tr>\n",
       "      <th>...</th>\n",
       "      <td>...</td>\n",
       "      <td>...</td>\n",
       "      <td>...</td>\n",
       "      <td>...</td>\n",
       "      <td>...</td>\n",
       "      <td>...</td>\n",
       "      <td>...</td>\n",
       "      <td>...</td>\n",
       "      <td>...</td>\n",
       "      <td>...</td>\n",
       "      <td>...</td>\n",
       "      <td>...</td>\n",
       "    </tr>\n",
       "    <tr>\n",
       "      <th>614</th>\n",
       "      <td>39800</td>\n",
       "      <td>184</td>\n",
       "      <td>NotAds</td>\n",
       "      <td>33</td>\n",
       "      <td>1</td>\n",
       "      <td>0</td>\n",
       "      <td>0</td>\n",
       "      <td>0</td>\n",
       "      <td>0</td>\n",
       "      <td>0</td>\n",
       "      <td>0</td>\n",
       "      <td>0</td>\n",
       "    </tr>\n",
       "    <tr>\n",
       "      <th>615</th>\n",
       "      <td>44300</td>\n",
       "      <td>91</td>\n",
       "      <td>NotAds</td>\n",
       "      <td>76</td>\n",
       "      <td>0</td>\n",
       "      <td>0</td>\n",
       "      <td>0</td>\n",
       "      <td>0</td>\n",
       "      <td>1</td>\n",
       "      <td>1</td>\n",
       "      <td>0</td>\n",
       "      <td>0</td>\n",
       "    </tr>\n",
       "    <tr>\n",
       "      <th>616</th>\n",
       "      <td>206700</td>\n",
       "      <td>1645</td>\n",
       "      <td>NotAds</td>\n",
       "      <td>83</td>\n",
       "      <td>1</td>\n",
       "      <td>0</td>\n",
       "      <td>0</td>\n",
       "      <td>0</td>\n",
       "      <td>0</td>\n",
       "      <td>1</td>\n",
       "      <td>0</td>\n",
       "      <td>0</td>\n",
       "    </tr>\n",
       "    <tr>\n",
       "      <th>617</th>\n",
       "      <td>21600</td>\n",
       "      <td>358</td>\n",
       "      <td>NotAds</td>\n",
       "      <td>7</td>\n",
       "      <td>1</td>\n",
       "      <td>0</td>\n",
       "      <td>1</td>\n",
       "      <td>0</td>\n",
       "      <td>0</td>\n",
       "      <td>1</td>\n",
       "      <td>0</td>\n",
       "      <td>0</td>\n",
       "    </tr>\n",
       "    <tr>\n",
       "      <th>618</th>\n",
       "      <td>1144</td>\n",
       "      <td>32</td>\n",
       "      <td>NotAds</td>\n",
       "      <td>0</td>\n",
       "      <td>0</td>\n",
       "      <td>0</td>\n",
       "      <td>0</td>\n",
       "      <td>0</td>\n",
       "      <td>0</td>\n",
       "      <td>0</td>\n",
       "      <td>0</td>\n",
       "      <td>0</td>\n",
       "    </tr>\n",
       "  </tbody>\n",
       "</table>\n",
       "<p>619 rows × 12 columns</p>\n",
       "</div>"
      ],
      "text/plain": [
       "     followers  videoscount     ads  duration_sec  is_labubu  is_skullpanda  \\\n",
       "0        51100          835  NotAds            44          1              0   \n",
       "1          101           25  NotAds            18          1              0   \n",
       "2         1078          120  NotAds            44          1              0   \n",
       "3        21500         1248  NotAds           113          1              0   \n",
       "4       342900          526  NotAds           339          1              0   \n",
       "..         ...          ...     ...           ...        ...            ...   \n",
       "614      39800          184  NotAds            33          1              0   \n",
       "615      44300           91  NotAds            76          0              0   \n",
       "616     206700         1645  NotAds            83          1              0   \n",
       "617      21600          358  NotAds             7          1              0   \n",
       "618       1144           32  NotAds             0          0              0   \n",
       "\n",
       "     is_crybaby  is_hirono  is_unboxing  is_blindbox  is_recommendation  \\\n",
       "0             0          0            0            0                  0   \n",
       "1             0          0            0            1                  0   \n",
       "2             0          0            1            0                  0   \n",
       "3             0          0            1            0                  0   \n",
       "4             0          0            1            0                  0   \n",
       "..          ...        ...          ...          ...                ...   \n",
       "614           0          0            0            0                  0   \n",
       "615           0          0            1            1                  0   \n",
       "616           0          0            0            1                  0   \n",
       "617           1          0            0            1                  0   \n",
       "618           0          0            0            0                  0   \n",
       "\n",
       "     is_cute  \n",
       "0          0  \n",
       "1          0  \n",
       "2          0  \n",
       "3          0  \n",
       "4          0  \n",
       "..       ...  \n",
       "614        0  \n",
       "615        0  \n",
       "616        0  \n",
       "617        0  \n",
       "618        0  \n",
       "\n",
       "[619 rows x 12 columns]"
      ]
     },
     "execution_count": 37,
     "metadata": {},
     "output_type": "execute_result"
    }
   ],
   "source": [
    "x_reg"
   ]
  },
  {
   "cell_type": "code",
   "execution_count": 38,
   "id": "baaf7c79-7709-4371-a80a-9eab1682db92",
   "metadata": {},
   "outputs": [],
   "source": [
    "x_reg_train, x_reg_test, y_reg_likes_train, y_reg_likes_test = train_test_split(x_reg, y_reg_likes, test_size = 0.3, random_state = 42)"
   ]
  },
  {
   "cell_type": "code",
   "execution_count": 39,
   "id": "40cefe8e-1a5b-4088-94bc-cd747fe1d176",
   "metadata": {},
   "outputs": [],
   "source": [
    "x_reg_train[['followers','videoscount','duration_sec']] = sc.fit_transform(x_reg_train[['followers','videoscount','duration_sec']].apply(np.log1p))\n",
    "x_reg_test[['followers','videoscount','duration_sec']] = sc.transform(x_reg_test[['followers','videoscount','duration_sec']].apply(np.log1p))\n",
    "x_reg_train['ads'] = le.fit_transform(x_reg_train['ads'])\n",
    "x_reg_test['ads'] = le.transform(x_reg_test['ads'])"
   ]
  },
  {
   "cell_type": "code",
   "execution_count": 40,
   "id": "a2ad0744-4785-4cf1-880e-3ae7ffcc207c",
   "metadata": {},
   "outputs": [],
   "source": [
    "y_reg_likes_train = y_reg_likes_train.apply(np.log1p)\n",
    "y_reg_likes_test = y_reg_likes_test.apply(np.log1p)"
   ]
  },
  {
   "cell_type": "code",
   "execution_count": 41,
   "id": "eabf1d09-4885-4bc9-b96b-3fb55d211dfe",
   "metadata": {},
   "outputs": [
    {
     "data": {
      "text/html": [
       "<style>#sk-container-id-2 {color: black;background-color: white;}#sk-container-id-2 pre{padding: 0;}#sk-container-id-2 div.sk-toggleable {background-color: white;}#sk-container-id-2 label.sk-toggleable__label {cursor: pointer;display: block;width: 100%;margin-bottom: 0;padding: 0.3em;box-sizing: border-box;text-align: center;}#sk-container-id-2 label.sk-toggleable__label-arrow:before {content: \"▸\";float: left;margin-right: 0.25em;color: #696969;}#sk-container-id-2 label.sk-toggleable__label-arrow:hover:before {color: black;}#sk-container-id-2 div.sk-estimator:hover label.sk-toggleable__label-arrow:before {color: black;}#sk-container-id-2 div.sk-toggleable__content {max-height: 0;max-width: 0;overflow: hidden;text-align: left;background-color: #f0f8ff;}#sk-container-id-2 div.sk-toggleable__content pre {margin: 0.2em;color: black;border-radius: 0.25em;background-color: #f0f8ff;}#sk-container-id-2 input.sk-toggleable__control:checked~div.sk-toggleable__content {max-height: 200px;max-width: 100%;overflow: auto;}#sk-container-id-2 input.sk-toggleable__control:checked~label.sk-toggleable__label-arrow:before {content: \"▾\";}#sk-container-id-2 div.sk-estimator input.sk-toggleable__control:checked~label.sk-toggleable__label {background-color: #d4ebff;}#sk-container-id-2 div.sk-label input.sk-toggleable__control:checked~label.sk-toggleable__label {background-color: #d4ebff;}#sk-container-id-2 input.sk-hidden--visually {border: 0;clip: rect(1px 1px 1px 1px);clip: rect(1px, 1px, 1px, 1px);height: 1px;margin: -1px;overflow: hidden;padding: 0;position: absolute;width: 1px;}#sk-container-id-2 div.sk-estimator {font-family: monospace;background-color: #f0f8ff;border: 1px dotted black;border-radius: 0.25em;box-sizing: border-box;margin-bottom: 0.5em;}#sk-container-id-2 div.sk-estimator:hover {background-color: #d4ebff;}#sk-container-id-2 div.sk-parallel-item::after {content: \"\";width: 100%;border-bottom: 1px solid gray;flex-grow: 1;}#sk-container-id-2 div.sk-label:hover label.sk-toggleable__label {background-color: #d4ebff;}#sk-container-id-2 div.sk-serial::before {content: \"\";position: absolute;border-left: 1px solid gray;box-sizing: border-box;top: 0;bottom: 0;left: 50%;z-index: 0;}#sk-container-id-2 div.sk-serial {display: flex;flex-direction: column;align-items: center;background-color: white;padding-right: 0.2em;padding-left: 0.2em;position: relative;}#sk-container-id-2 div.sk-item {position: relative;z-index: 1;}#sk-container-id-2 div.sk-parallel {display: flex;align-items: stretch;justify-content: center;background-color: white;position: relative;}#sk-container-id-2 div.sk-item::before, #sk-container-id-2 div.sk-parallel-item::before {content: \"\";position: absolute;border-left: 1px solid gray;box-sizing: border-box;top: 0;bottom: 0;left: 50%;z-index: -1;}#sk-container-id-2 div.sk-parallel-item {display: flex;flex-direction: column;z-index: 1;position: relative;background-color: white;}#sk-container-id-2 div.sk-parallel-item:first-child::after {align-self: flex-end;width: 50%;}#sk-container-id-2 div.sk-parallel-item:last-child::after {align-self: flex-start;width: 50%;}#sk-container-id-2 div.sk-parallel-item:only-child::after {width: 0;}#sk-container-id-2 div.sk-dashed-wrapped {border: 1px dashed gray;margin: 0 0.4em 0.5em 0.4em;box-sizing: border-box;padding-bottom: 0.4em;background-color: white;}#sk-container-id-2 div.sk-label label {font-family: monospace;font-weight: bold;display: inline-block;line-height: 1.2em;}#sk-container-id-2 div.sk-label-container {text-align: center;}#sk-container-id-2 div.sk-container {/* jupyter's `normalize.less` sets `[hidden] { display: none; }` but bootstrap.min.css set `[hidden] { display: none !important; }` so we also need the `!important` here to be able to override the default hidden behavior on the sphinx rendered scikit-learn.org. See: https://github.com/scikit-learn/scikit-learn/issues/21755 */display: inline-block !important;position: relative;}#sk-container-id-2 div.sk-text-repr-fallback {display: none;}</style><div id=\"sk-container-id-2\" class=\"sk-top-container\"><div class=\"sk-text-repr-fallback\"><pre>LinearRegression()</pre><b>In a Jupyter environment, please rerun this cell to show the HTML representation or trust the notebook. <br />On GitHub, the HTML representation is unable to render, please try loading this page with nbviewer.org.</b></div><div class=\"sk-container\" hidden><div class=\"sk-item\"><div class=\"sk-estimator sk-toggleable\"><input class=\"sk-toggleable__control sk-hidden--visually\" id=\"sk-estimator-id-2\" type=\"checkbox\" checked><label for=\"sk-estimator-id-2\" class=\"sk-toggleable__label sk-toggleable__label-arrow\">LinearRegression</label><div class=\"sk-toggleable__content\"><pre>LinearRegression()</pre></div></div></div></div></div>"
      ],
      "text/plain": [
       "LinearRegression()"
      ]
     },
     "execution_count": 41,
     "metadata": {},
     "output_type": "execute_result"
    }
   ],
   "source": [
    "linear_likes = LinearRegression()\n",
    "linear_likes.fit(x_reg_train, y_reg_likes_train)"
   ]
  },
  {
   "cell_type": "code",
   "execution_count": 42,
   "id": "d161c096-4438-4e1e-a984-2b56e0f4c3a9",
   "metadata": {},
   "outputs": [],
   "source": [
    "linear_likes_pred = linear_likes.predict(x_reg_test)"
   ]
  },
  {
   "cell_type": "code",
   "execution_count": 43,
   "id": "af38326f-e60e-48d7-b91f-be7c3715022c",
   "metadata": {},
   "outputs": [
    {
     "name": "stdout",
     "output_type": "stream",
     "text": [
      "The R-squared for Linear Regression Model predicting Likes is 0.18126158198301423\n",
      "The Mean Absolute Error for Linear Regression Model predicting Likes is 2.4853489113414726\n",
      "The Mean Squared Error for Linear Regression Model predicting Likes is 9.10233505888834\n",
      "The Root Mean Squared Error for Linear Regression Model predicting Likes is 3.017007633216784\n"
     ]
    }
   ],
   "source": [
    "linear_likes_r2 = r2_score(y_reg_likes_test, linear_likes_pred)\n",
    "linear_likes_mae = mean_absolute_error(y_reg_likes_test, linear_likes_pred)\n",
    "linear_likes_mse = mean_squared_error(y_reg_likes_test, linear_likes_pred)\n",
    "linear_likes_rmse = mean_squared_error(y_reg_likes_test, linear_likes_pred, squared=False)\n",
    "\n",
    "print(f'The R-squared for Linear Regression Model predicting Likes is {linear_likes_r2}')\n",
    "print(f'The Mean Absolute Error for Linear Regression Model predicting Likes is {linear_likes_mae}')\n",
    "print(f'The Mean Squared Error for Linear Regression Model predicting Likes is {linear_likes_mse}')\n",
    "print(f'The Root Mean Squared Error for Linear Regression Model predicting Likes is {linear_likes_rmse}')"
   ]
  },
  {
   "cell_type": "code",
   "execution_count": 44,
   "id": "79df157f-896f-4bae-9369-69734709b2f4",
   "metadata": {},
   "outputs": [
    {
     "data": {
      "text/html": [
       "<div>\n",
       "<style scoped>\n",
       "    .dataframe tbody tr th:only-of-type {\n",
       "        vertical-align: middle;\n",
       "    }\n",
       "\n",
       "    .dataframe tbody tr th {\n",
       "        vertical-align: top;\n",
       "    }\n",
       "\n",
       "    .dataframe thead th {\n",
       "        text-align: right;\n",
       "    }\n",
       "</style>\n",
       "<table border=\"1\" class=\"dataframe\">\n",
       "  <thead>\n",
       "    <tr style=\"text-align: right;\">\n",
       "      <th></th>\n",
       "      <th>Feature</th>\n",
       "      <th>Coefficient</th>\n",
       "    </tr>\n",
       "  </thead>\n",
       "  <tbody>\n",
       "    <tr>\n",
       "      <th>12</th>\n",
       "      <td>Constant</td>\n",
       "      <td>8.612124</td>\n",
       "    </tr>\n",
       "    <tr>\n",
       "      <th>0</th>\n",
       "      <td>followers</td>\n",
       "      <td>2.472468</td>\n",
       "    </tr>\n",
       "    <tr>\n",
       "      <th>7</th>\n",
       "      <td>is_hirono</td>\n",
       "      <td>1.753590</td>\n",
       "    </tr>\n",
       "    <tr>\n",
       "      <th>2</th>\n",
       "      <td>ads</td>\n",
       "      <td>0.757837</td>\n",
       "    </tr>\n",
       "    <tr>\n",
       "      <th>4</th>\n",
       "      <td>is_labubu</td>\n",
       "      <td>0.722440</td>\n",
       "    </tr>\n",
       "    <tr>\n",
       "      <th>8</th>\n",
       "      <td>is_unboxing</td>\n",
       "      <td>0.588916</td>\n",
       "    </tr>\n",
       "    <tr>\n",
       "      <th>6</th>\n",
       "      <td>is_crybaby</td>\n",
       "      <td>0.206118</td>\n",
       "    </tr>\n",
       "    <tr>\n",
       "      <th>11</th>\n",
       "      <td>is_cute</td>\n",
       "      <td>0.143179</td>\n",
       "    </tr>\n",
       "    <tr>\n",
       "      <th>9</th>\n",
       "      <td>is_blindbox</td>\n",
       "      <td>-0.204360</td>\n",
       "    </tr>\n",
       "    <tr>\n",
       "      <th>3</th>\n",
       "      <td>duration_sec</td>\n",
       "      <td>-0.314667</td>\n",
       "    </tr>\n",
       "    <tr>\n",
       "      <th>1</th>\n",
       "      <td>videoscount</td>\n",
       "      <td>-1.011750</td>\n",
       "    </tr>\n",
       "    <tr>\n",
       "      <th>5</th>\n",
       "      <td>is_skullpanda</td>\n",
       "      <td>-1.250926</td>\n",
       "    </tr>\n",
       "    <tr>\n",
       "      <th>10</th>\n",
       "      <td>is_recommendation</td>\n",
       "      <td>-3.840824</td>\n",
       "    </tr>\n",
       "  </tbody>\n",
       "</table>\n",
       "</div>"
      ],
      "text/plain": [
       "              Feature  Coefficient\n",
       "12           Constant     8.612124\n",
       "0           followers     2.472468\n",
       "7           is_hirono     1.753590\n",
       "2                 ads     0.757837\n",
       "4           is_labubu     0.722440\n",
       "8         is_unboxing     0.588916\n",
       "6          is_crybaby     0.206118\n",
       "11            is_cute     0.143179\n",
       "9         is_blindbox    -0.204360\n",
       "3        duration_sec    -0.314667\n",
       "1         videoscount    -1.011750\n",
       "5       is_skullpanda    -1.250926\n",
       "10  is_recommendation    -3.840824"
      ]
     },
     "execution_count": 44,
     "metadata": {},
     "output_type": "execute_result"
    }
   ],
   "source": [
    "coefs_like = linear_likes.coef_.ravel()\n",
    "intercept_like = linear_likes.intercept_.ravel()[0]\n",
    "\n",
    "linear_coef_table_likes = pd.DataFrame(\n",
    "    {'Feature':list(x_reg_train.columns) + ['Constant'],\n",
    "     'Coefficient':list(coefs_like) + [intercept_like]}\n",
    ")\n",
    "linear_coef_table_likes.sort_values('Coefficient', ascending=False)"
   ]
  },
  {
   "cell_type": "code",
   "execution_count": 45,
   "id": "3dcd5fb7-aa53-4cd7-97a9-110bcca4b187",
   "metadata": {},
   "outputs": [
    {
     "data": {
      "text/html": [
       "<table class=\"simpletable\">\n",
       "<caption>OLS Regression Results</caption>\n",
       "<tr>\n",
       "  <th>Dep. Variable:</th>          <td>likes</td>      <th>  R-squared:         </th> <td>   0.308</td>\n",
       "</tr>\n",
       "<tr>\n",
       "  <th>Model:</th>                   <td>OLS</td>       <th>  Adj. R-squared:    </th> <td>   0.288</td>\n",
       "</tr>\n",
       "<tr>\n",
       "  <th>Method:</th>             <td>Least Squares</td>  <th>  F-statistic:       </th> <td>   15.60</td>\n",
       "</tr>\n",
       "<tr>\n",
       "  <th>Date:</th>             <td>Wed, 16 Jul 2025</td> <th>  Prob (F-statistic):</th> <td>2.63e-27</td>\n",
       "</tr>\n",
       "<tr>\n",
       "  <th>Time:</th>                 <td>20:39:01</td>     <th>  Log-Likelihood:    </th> <td> -1044.5</td>\n",
       "</tr>\n",
       "<tr>\n",
       "  <th>No. Observations:</th>      <td>   433</td>      <th>  AIC:               </th> <td>   2115.</td>\n",
       "</tr>\n",
       "<tr>\n",
       "  <th>Df Residuals:</th>          <td>   420</td>      <th>  BIC:               </th> <td>   2168.</td>\n",
       "</tr>\n",
       "<tr>\n",
       "  <th>Df Model:</th>              <td>    12</td>      <th>                     </th>     <td> </td>   \n",
       "</tr>\n",
       "<tr>\n",
       "  <th>Covariance Type:</th>      <td>nonrobust</td>    <th>                     </th>     <td> </td>   \n",
       "</tr>\n",
       "</table>\n",
       "<table class=\"simpletable\">\n",
       "<tr>\n",
       "          <td></td>             <th>coef</th>     <th>std err</th>      <th>t</th>      <th>P>|t|</th>  <th>[0.025</th>    <th>0.975]</th>  \n",
       "</tr>\n",
       "<tr>\n",
       "  <th>const</th>             <td>    8.6121</td> <td>    0.661</td> <td>   13.025</td> <td> 0.000</td> <td>    7.312</td> <td>    9.912</td>\n",
       "</tr>\n",
       "<tr>\n",
       "  <th>followers</th>         <td>    2.4725</td> <td>    0.212</td> <td>   11.678</td> <td> 0.000</td> <td>    2.056</td> <td>    2.889</td>\n",
       "</tr>\n",
       "<tr>\n",
       "  <th>videoscount</th>       <td>   -1.0117</td> <td>    0.193</td> <td>   -5.234</td> <td> 0.000</td> <td>   -1.392</td> <td>   -0.632</td>\n",
       "</tr>\n",
       "<tr>\n",
       "  <th>ads</th>               <td>    0.7578</td> <td>    0.637</td> <td>    1.190</td> <td> 0.235</td> <td>   -0.494</td> <td>    2.010</td>\n",
       "</tr>\n",
       "<tr>\n",
       "  <th>duration_sec</th>      <td>   -0.3147</td> <td>    0.162</td> <td>   -1.942</td> <td> 0.053</td> <td>   -0.633</td> <td>    0.004</td>\n",
       "</tr>\n",
       "<tr>\n",
       "  <th>is_labubu</th>         <td>    0.7224</td> <td>    0.292</td> <td>    2.474</td> <td> 0.014</td> <td>    0.148</td> <td>    1.296</td>\n",
       "</tr>\n",
       "<tr>\n",
       "  <th>is_skullpanda</th>     <td>   -1.2509</td> <td>    0.477</td> <td>   -2.621</td> <td> 0.009</td> <td>   -2.189</td> <td>   -0.313</td>\n",
       "</tr>\n",
       "<tr>\n",
       "  <th>is_crybaby</th>        <td>    0.2061</td> <td>    0.474</td> <td>    0.435</td> <td> 0.664</td> <td>   -0.726</td> <td>    1.138</td>\n",
       "</tr>\n",
       "<tr>\n",
       "  <th>is_hirono</th>         <td>    1.7536</td> <td>    0.558</td> <td>    3.144</td> <td> 0.002</td> <td>    0.657</td> <td>    2.850</td>\n",
       "</tr>\n",
       "<tr>\n",
       "  <th>is_unboxing</th>       <td>    0.5889</td> <td>    0.303</td> <td>    1.944</td> <td> 0.053</td> <td>   -0.007</td> <td>    1.184</td>\n",
       "</tr>\n",
       "<tr>\n",
       "  <th>is_blindbox</th>       <td>   -0.2044</td> <td>    0.295</td> <td>   -0.694</td> <td> 0.488</td> <td>   -0.783</td> <td>    0.375</td>\n",
       "</tr>\n",
       "<tr>\n",
       "  <th>is_recommendation</th> <td>   -3.8408</td> <td>    1.634</td> <td>   -2.351</td> <td> 0.019</td> <td>   -7.052</td> <td>   -0.630</td>\n",
       "</tr>\n",
       "<tr>\n",
       "  <th>is_cute</th>           <td>    0.1432</td> <td>    0.551</td> <td>    0.260</td> <td> 0.795</td> <td>   -0.940</td> <td>    1.226</td>\n",
       "</tr>\n",
       "</table>\n",
       "<table class=\"simpletable\">\n",
       "<tr>\n",
       "  <th>Omnibus:</th>       <td>11.205</td> <th>  Durbin-Watson:     </th> <td>   1.958</td>\n",
       "</tr>\n",
       "<tr>\n",
       "  <th>Prob(Omnibus):</th> <td> 0.004</td> <th>  Jarque-Bera (JB):  </th> <td>  10.306</td>\n",
       "</tr>\n",
       "<tr>\n",
       "  <th>Skew:</th>          <td>-0.323</td> <th>  Prob(JB):          </th> <td> 0.00578</td>\n",
       "</tr>\n",
       "<tr>\n",
       "  <th>Kurtosis:</th>      <td> 2.606</td> <th>  Cond. No.          </th> <td>    20.6</td>\n",
       "</tr>\n",
       "</table><br/><br/>Notes:<br/>[1] Standard Errors assume that the covariance matrix of the errors is correctly specified."
      ],
      "text/latex": [
       "\\begin{center}\n",
       "\\begin{tabular}{lclc}\n",
       "\\toprule\n",
       "\\textbf{Dep. Variable:}     &      likes       & \\textbf{  R-squared:         } &     0.308   \\\\\n",
       "\\textbf{Model:}             &       OLS        & \\textbf{  Adj. R-squared:    } &     0.288   \\\\\n",
       "\\textbf{Method:}            &  Least Squares   & \\textbf{  F-statistic:       } &     15.60   \\\\\n",
       "\\textbf{Date:}              & Wed, 16 Jul 2025 & \\textbf{  Prob (F-statistic):} &  2.63e-27   \\\\\n",
       "\\textbf{Time:}              &     20:39:01     & \\textbf{  Log-Likelihood:    } &   -1044.5   \\\\\n",
       "\\textbf{No. Observations:}  &         433      & \\textbf{  AIC:               } &     2115.   \\\\\n",
       "\\textbf{Df Residuals:}      &         420      & \\textbf{  BIC:               } &     2168.   \\\\\n",
       "\\textbf{Df Model:}          &          12      & \\textbf{                     } &             \\\\\n",
       "\\textbf{Covariance Type:}   &    nonrobust     & \\textbf{                     } &             \\\\\n",
       "\\bottomrule\n",
       "\\end{tabular}\n",
       "\\begin{tabular}{lcccccc}\n",
       "                            & \\textbf{coef} & \\textbf{std err} & \\textbf{t} & \\textbf{P$> |$t$|$} & \\textbf{[0.025} & \\textbf{0.975]}  \\\\\n",
       "\\midrule\n",
       "\\textbf{const}              &       8.6121  &        0.661     &    13.025  &         0.000        &        7.312    &        9.912     \\\\\n",
       "\\textbf{followers}          &       2.4725  &        0.212     &    11.678  &         0.000        &        2.056    &        2.889     \\\\\n",
       "\\textbf{videoscount}        &      -1.0117  &        0.193     &    -5.234  &         0.000        &       -1.392    &       -0.632     \\\\\n",
       "\\textbf{ads}                &       0.7578  &        0.637     &     1.190  &         0.235        &       -0.494    &        2.010     \\\\\n",
       "\\textbf{duration\\_sec}      &      -0.3147  &        0.162     &    -1.942  &         0.053        &       -0.633    &        0.004     \\\\\n",
       "\\textbf{is\\_labubu}         &       0.7224  &        0.292     &     2.474  &         0.014        &        0.148    &        1.296     \\\\\n",
       "\\textbf{is\\_skullpanda}     &      -1.2509  &        0.477     &    -2.621  &         0.009        &       -2.189    &       -0.313     \\\\\n",
       "\\textbf{is\\_crybaby}        &       0.2061  &        0.474     &     0.435  &         0.664        &       -0.726    &        1.138     \\\\\n",
       "\\textbf{is\\_hirono}         &       1.7536  &        0.558     &     3.144  &         0.002        &        0.657    &        2.850     \\\\\n",
       "\\textbf{is\\_unboxing}       &       0.5889  &        0.303     &     1.944  &         0.053        &       -0.007    &        1.184     \\\\\n",
       "\\textbf{is\\_blindbox}       &      -0.2044  &        0.295     &    -0.694  &         0.488        &       -0.783    &        0.375     \\\\\n",
       "\\textbf{is\\_recommendation} &      -3.8408  &        1.634     &    -2.351  &         0.019        &       -7.052    &       -0.630     \\\\\n",
       "\\textbf{is\\_cute}           &       0.1432  &        0.551     &     0.260  &         0.795        &       -0.940    &        1.226     \\\\\n",
       "\\bottomrule\n",
       "\\end{tabular}\n",
       "\\begin{tabular}{lclc}\n",
       "\\textbf{Omnibus:}       & 11.205 & \\textbf{  Durbin-Watson:     } &    1.958  \\\\\n",
       "\\textbf{Prob(Omnibus):} &  0.004 & \\textbf{  Jarque-Bera (JB):  } &   10.306  \\\\\n",
       "\\textbf{Skew:}          & -0.323 & \\textbf{  Prob(JB):          } &  0.00578  \\\\\n",
       "\\textbf{Kurtosis:}      &  2.606 & \\textbf{  Cond. No.          } &     20.6  \\\\\n",
       "\\bottomrule\n",
       "\\end{tabular}\n",
       "%\\caption{OLS Regression Results}\n",
       "\\end{center}\n",
       "\n",
       "Notes: \\newline\n",
       " [1] Standard Errors assume that the covariance matrix of the errors is correctly specified."
      ],
      "text/plain": [
       "<class 'statsmodels.iolib.summary.Summary'>\n",
       "\"\"\"\n",
       "                            OLS Regression Results                            \n",
       "==============================================================================\n",
       "Dep. Variable:                  likes   R-squared:                       0.308\n",
       "Model:                            OLS   Adj. R-squared:                  0.288\n",
       "Method:                 Least Squares   F-statistic:                     15.60\n",
       "Date:                Wed, 16 Jul 2025   Prob (F-statistic):           2.63e-27\n",
       "Time:                        20:39:01   Log-Likelihood:                -1044.5\n",
       "No. Observations:                 433   AIC:                             2115.\n",
       "Df Residuals:                     420   BIC:                             2168.\n",
       "Df Model:                          12                                         \n",
       "Covariance Type:            nonrobust                                         \n",
       "=====================================================================================\n",
       "                        coef    std err          t      P>|t|      [0.025      0.975]\n",
       "-------------------------------------------------------------------------------------\n",
       "const                 8.6121      0.661     13.025      0.000       7.312       9.912\n",
       "followers             2.4725      0.212     11.678      0.000       2.056       2.889\n",
       "videoscount          -1.0117      0.193     -5.234      0.000      -1.392      -0.632\n",
       "ads                   0.7578      0.637      1.190      0.235      -0.494       2.010\n",
       "duration_sec         -0.3147      0.162     -1.942      0.053      -0.633       0.004\n",
       "is_labubu             0.7224      0.292      2.474      0.014       0.148       1.296\n",
       "is_skullpanda        -1.2509      0.477     -2.621      0.009      -2.189      -0.313\n",
       "is_crybaby            0.2061      0.474      0.435      0.664      -0.726       1.138\n",
       "is_hirono             1.7536      0.558      3.144      0.002       0.657       2.850\n",
       "is_unboxing           0.5889      0.303      1.944      0.053      -0.007       1.184\n",
       "is_blindbox          -0.2044      0.295     -0.694      0.488      -0.783       0.375\n",
       "is_recommendation    -3.8408      1.634     -2.351      0.019      -7.052      -0.630\n",
       "is_cute               0.1432      0.551      0.260      0.795      -0.940       1.226\n",
       "==============================================================================\n",
       "Omnibus:                       11.205   Durbin-Watson:                   1.958\n",
       "Prob(Omnibus):                  0.004   Jarque-Bera (JB):               10.306\n",
       "Skew:                          -0.323   Prob(JB):                      0.00578\n",
       "Kurtosis:                       2.606   Cond. No.                         20.6\n",
       "==============================================================================\n",
       "\n",
       "Notes:\n",
       "[1] Standard Errors assume that the covariance matrix of the errors is correctly specified.\n",
       "\"\"\""
      ]
     },
     "execution_count": 45,
     "metadata": {},
     "output_type": "execute_result"
    }
   ],
   "source": [
    "X = sm.add_constant(x_reg_train)\n",
    "y = y_reg_likes_train\n",
    "\n",
    "linear_likes_sm = sm.OLS(y,X).fit()\n",
    "pval = linear_likes_sm.pvalues.ravel()\n",
    "linear_likes_sm.summary()"
   ]
  },
  {
   "cell_type": "markdown",
   "id": "5db4e812",
   "metadata": {},
   "source": [
    "- **Key Insight**: Similar to views, `followers`, `is_labubu`, and `is_hirono` show positive predictive power. Unboxing `is_unboxing` drives likes with a stronger power than it does to views `0.5889` (Reminding that the features and outcome has been log transformed + scaling) "
   ]
  },
  {
   "cell_type": "code",
   "execution_count": 46,
   "id": "ba69cedc-30c6-4042-92d9-7e58d07cda6b",
   "metadata": {},
   "outputs": [],
   "source": [
    "x_reg_train, x_reg_test, y_reg_share_train, y_reg_share_test = train_test_split(x_reg, y_reg_share, test_size = 0.3, random_state = 42)"
   ]
  },
  {
   "cell_type": "code",
   "execution_count": 47,
   "id": "67e5d016-9fd3-4ff5-9f08-b6edc5e6fc12",
   "metadata": {},
   "outputs": [],
   "source": [
    "x_reg_train[['followers','videoscount','duration_sec']] = sc.fit_transform(x_reg_train[['followers','videoscount','duration_sec']].apply(np.log1p))\n",
    "x_reg_test[['followers','videoscount','duration_sec']] = sc.transform(x_reg_test[['followers','videoscount','duration_sec']].apply(np.log1p))\n",
    "x_reg_train['ads'] = le.fit_transform(x_reg_train['ads'])\n",
    "x_reg_test['ads'] = le.transform(x_reg_test['ads'])"
   ]
  },
  {
   "cell_type": "code",
   "execution_count": 48,
   "id": "7e7552cf-5d93-4f25-9b19-2839c5319f96",
   "metadata": {},
   "outputs": [],
   "source": [
    "y_reg_share_train = y_reg_share_train.apply(np.log1p)\n",
    "y_reg_share_test = y_reg_share_test.apply(np.log1p)"
   ]
  },
  {
   "cell_type": "code",
   "execution_count": 49,
   "id": "0cce5e47-6d31-4db8-a8b7-9eb1fa08d363",
   "metadata": {},
   "outputs": [
    {
     "data": {
      "text/html": [
       "<style>#sk-container-id-3 {color: black;background-color: white;}#sk-container-id-3 pre{padding: 0;}#sk-container-id-3 div.sk-toggleable {background-color: white;}#sk-container-id-3 label.sk-toggleable__label {cursor: pointer;display: block;width: 100%;margin-bottom: 0;padding: 0.3em;box-sizing: border-box;text-align: center;}#sk-container-id-3 label.sk-toggleable__label-arrow:before {content: \"▸\";float: left;margin-right: 0.25em;color: #696969;}#sk-container-id-3 label.sk-toggleable__label-arrow:hover:before {color: black;}#sk-container-id-3 div.sk-estimator:hover label.sk-toggleable__label-arrow:before {color: black;}#sk-container-id-3 div.sk-toggleable__content {max-height: 0;max-width: 0;overflow: hidden;text-align: left;background-color: #f0f8ff;}#sk-container-id-3 div.sk-toggleable__content pre {margin: 0.2em;color: black;border-radius: 0.25em;background-color: #f0f8ff;}#sk-container-id-3 input.sk-toggleable__control:checked~div.sk-toggleable__content {max-height: 200px;max-width: 100%;overflow: auto;}#sk-container-id-3 input.sk-toggleable__control:checked~label.sk-toggleable__label-arrow:before {content: \"▾\";}#sk-container-id-3 div.sk-estimator input.sk-toggleable__control:checked~label.sk-toggleable__label {background-color: #d4ebff;}#sk-container-id-3 div.sk-label input.sk-toggleable__control:checked~label.sk-toggleable__label {background-color: #d4ebff;}#sk-container-id-3 input.sk-hidden--visually {border: 0;clip: rect(1px 1px 1px 1px);clip: rect(1px, 1px, 1px, 1px);height: 1px;margin: -1px;overflow: hidden;padding: 0;position: absolute;width: 1px;}#sk-container-id-3 div.sk-estimator {font-family: monospace;background-color: #f0f8ff;border: 1px dotted black;border-radius: 0.25em;box-sizing: border-box;margin-bottom: 0.5em;}#sk-container-id-3 div.sk-estimator:hover {background-color: #d4ebff;}#sk-container-id-3 div.sk-parallel-item::after {content: \"\";width: 100%;border-bottom: 1px solid gray;flex-grow: 1;}#sk-container-id-3 div.sk-label:hover label.sk-toggleable__label {background-color: #d4ebff;}#sk-container-id-3 div.sk-serial::before {content: \"\";position: absolute;border-left: 1px solid gray;box-sizing: border-box;top: 0;bottom: 0;left: 50%;z-index: 0;}#sk-container-id-3 div.sk-serial {display: flex;flex-direction: column;align-items: center;background-color: white;padding-right: 0.2em;padding-left: 0.2em;position: relative;}#sk-container-id-3 div.sk-item {position: relative;z-index: 1;}#sk-container-id-3 div.sk-parallel {display: flex;align-items: stretch;justify-content: center;background-color: white;position: relative;}#sk-container-id-3 div.sk-item::before, #sk-container-id-3 div.sk-parallel-item::before {content: \"\";position: absolute;border-left: 1px solid gray;box-sizing: border-box;top: 0;bottom: 0;left: 50%;z-index: -1;}#sk-container-id-3 div.sk-parallel-item {display: flex;flex-direction: column;z-index: 1;position: relative;background-color: white;}#sk-container-id-3 div.sk-parallel-item:first-child::after {align-self: flex-end;width: 50%;}#sk-container-id-3 div.sk-parallel-item:last-child::after {align-self: flex-start;width: 50%;}#sk-container-id-3 div.sk-parallel-item:only-child::after {width: 0;}#sk-container-id-3 div.sk-dashed-wrapped {border: 1px dashed gray;margin: 0 0.4em 0.5em 0.4em;box-sizing: border-box;padding-bottom: 0.4em;background-color: white;}#sk-container-id-3 div.sk-label label {font-family: monospace;font-weight: bold;display: inline-block;line-height: 1.2em;}#sk-container-id-3 div.sk-label-container {text-align: center;}#sk-container-id-3 div.sk-container {/* jupyter's `normalize.less` sets `[hidden] { display: none; }` but bootstrap.min.css set `[hidden] { display: none !important; }` so we also need the `!important` here to be able to override the default hidden behavior on the sphinx rendered scikit-learn.org. See: https://github.com/scikit-learn/scikit-learn/issues/21755 */display: inline-block !important;position: relative;}#sk-container-id-3 div.sk-text-repr-fallback {display: none;}</style><div id=\"sk-container-id-3\" class=\"sk-top-container\"><div class=\"sk-text-repr-fallback\"><pre>LinearRegression()</pre><b>In a Jupyter environment, please rerun this cell to show the HTML representation or trust the notebook. <br />On GitHub, the HTML representation is unable to render, please try loading this page with nbviewer.org.</b></div><div class=\"sk-container\" hidden><div class=\"sk-item\"><div class=\"sk-estimator sk-toggleable\"><input class=\"sk-toggleable__control sk-hidden--visually\" id=\"sk-estimator-id-3\" type=\"checkbox\" checked><label for=\"sk-estimator-id-3\" class=\"sk-toggleable__label sk-toggleable__label-arrow\">LinearRegression</label><div class=\"sk-toggleable__content\"><pre>LinearRegression()</pre></div></div></div></div></div>"
      ],
      "text/plain": [
       "LinearRegression()"
      ]
     },
     "execution_count": 49,
     "metadata": {},
     "output_type": "execute_result"
    }
   ],
   "source": [
    "linear_share = LinearRegression()\n",
    "linear_share.fit(x_reg_train, y_reg_share_train)"
   ]
  },
  {
   "cell_type": "code",
   "execution_count": 50,
   "id": "ed320b05-c32c-45fd-ae0a-587944e8cf54",
   "metadata": {},
   "outputs": [],
   "source": [
    "linear_share_pred = linear_share.predict(x_reg_test)"
   ]
  },
  {
   "cell_type": "code",
   "execution_count": 51,
   "id": "151c5b57-cd76-4bc8-a900-7d96586648a6",
   "metadata": {},
   "outputs": [
    {
     "name": "stdout",
     "output_type": "stream",
     "text": [
      "The R-squared for Linear Regression Model predicting Share is 0.07002775594306943\n",
      "The Mean Absolute Error for Linear Regression Model predicting Share is 2.603177199974855\n",
      "The Mean Squared Error for Linear Regression Model predicting Share is 9.706748044505744\n",
      "The Root Mean Squared Error for Linear Regression Model predicting Share is 3.1155654453896076\n"
     ]
    }
   ],
   "source": [
    "linear_share_r2 = r2_score(y_reg_share_test, linear_share_pred)\n",
    "linear_share_mae = mean_absolute_error(y_reg_share_test, linear_share_pred)\n",
    "linear_share_mse = mean_squared_error(y_reg_share_test, linear_share_pred)\n",
    "linear_share_rmse = mean_squared_error(y_reg_share_test, linear_share_pred, squared=False)\n",
    "\n",
    "print(f'The R-squared for Linear Regression Model predicting Share is {linear_share_r2}')\n",
    "print(f'The Mean Absolute Error for Linear Regression Model predicting Share is {linear_share_mae}')\n",
    "print(f'The Mean Squared Error for Linear Regression Model predicting Share is {linear_share_mse}')\n",
    "print(f'The Root Mean Squared Error for Linear Regression Model predicting Share is {linear_share_rmse}')"
   ]
  },
  {
   "cell_type": "code",
   "execution_count": 52,
   "id": "f6917141-db5d-47ac-a51a-f77446bc78e5",
   "metadata": {},
   "outputs": [
    {
     "data": {
      "text/html": [
       "<div>\n",
       "<style scoped>\n",
       "    .dataframe tbody tr th:only-of-type {\n",
       "        vertical-align: middle;\n",
       "    }\n",
       "\n",
       "    .dataframe tbody tr th {\n",
       "        vertical-align: top;\n",
       "    }\n",
       "\n",
       "    .dataframe thead th {\n",
       "        text-align: right;\n",
       "    }\n",
       "</style>\n",
       "<table border=\"1\" class=\"dataframe\">\n",
       "  <thead>\n",
       "    <tr style=\"text-align: right;\">\n",
       "      <th></th>\n",
       "      <th>Feature</th>\n",
       "      <th>Coefficient</th>\n",
       "    </tr>\n",
       "  </thead>\n",
       "  <tbody>\n",
       "    <tr>\n",
       "      <th>12</th>\n",
       "      <td>Constant</td>\n",
       "      <td>6.270512</td>\n",
       "    </tr>\n",
       "    <tr>\n",
       "      <th>0</th>\n",
       "      <td>followers</td>\n",
       "      <td>2.269231</td>\n",
       "    </tr>\n",
       "    <tr>\n",
       "      <th>7</th>\n",
       "      <td>is_hirono</td>\n",
       "      <td>1.810534</td>\n",
       "    </tr>\n",
       "    <tr>\n",
       "      <th>4</th>\n",
       "      <td>is_labubu</td>\n",
       "      <td>1.060813</td>\n",
       "    </tr>\n",
       "    <tr>\n",
       "      <th>8</th>\n",
       "      <td>is_unboxing</td>\n",
       "      <td>0.571838</td>\n",
       "    </tr>\n",
       "    <tr>\n",
       "      <th>11</th>\n",
       "      <td>is_cute</td>\n",
       "      <td>0.550868</td>\n",
       "    </tr>\n",
       "    <tr>\n",
       "      <th>6</th>\n",
       "      <td>is_crybaby</td>\n",
       "      <td>0.210293</td>\n",
       "    </tr>\n",
       "    <tr>\n",
       "      <th>9</th>\n",
       "      <td>is_blindbox</td>\n",
       "      <td>0.046293</td>\n",
       "    </tr>\n",
       "    <tr>\n",
       "      <th>2</th>\n",
       "      <td>ads</td>\n",
       "      <td>-0.065774</td>\n",
       "    </tr>\n",
       "    <tr>\n",
       "      <th>3</th>\n",
       "      <td>duration_sec</td>\n",
       "      <td>-0.561049</td>\n",
       "    </tr>\n",
       "    <tr>\n",
       "      <th>1</th>\n",
       "      <td>videoscount</td>\n",
       "      <td>-1.136039</td>\n",
       "    </tr>\n",
       "    <tr>\n",
       "      <th>5</th>\n",
       "      <td>is_skullpanda</td>\n",
       "      <td>-1.206052</td>\n",
       "    </tr>\n",
       "    <tr>\n",
       "      <th>10</th>\n",
       "      <td>is_recommendation</td>\n",
       "      <td>-3.691215</td>\n",
       "    </tr>\n",
       "  </tbody>\n",
       "</table>\n",
       "</div>"
      ],
      "text/plain": [
       "              Feature  Coefficient\n",
       "12           Constant     6.270512\n",
       "0           followers     2.269231\n",
       "7           is_hirono     1.810534\n",
       "4           is_labubu     1.060813\n",
       "8         is_unboxing     0.571838\n",
       "11            is_cute     0.550868\n",
       "6          is_crybaby     0.210293\n",
       "9         is_blindbox     0.046293\n",
       "2                 ads    -0.065774\n",
       "3        duration_sec    -0.561049\n",
       "1         videoscount    -1.136039\n",
       "5       is_skullpanda    -1.206052\n",
       "10  is_recommendation    -3.691215"
      ]
     },
     "execution_count": 52,
     "metadata": {},
     "output_type": "execute_result"
    }
   ],
   "source": [
    "coefs_share = linear_share.coef_.ravel()\n",
    "intercept_share = linear_share.intercept_.ravel()[0]\n",
    "\n",
    "linear_coef_table_share = pd.DataFrame(\n",
    "    {'Feature':list(x_reg_train.columns) + ['Constant'],\n",
    "     'Coefficient':list(coefs_share) + [intercept_share]}\n",
    ")\n",
    "linear_coef_table_share.sort_values('Coefficient', ascending=False)"
   ]
  },
  {
   "cell_type": "code",
   "execution_count": 53,
   "id": "7249eb67-b6bd-47cc-ae7d-9c9172b01783",
   "metadata": {},
   "outputs": [
    {
     "data": {
      "text/html": [
       "<table class=\"simpletable\">\n",
       "<caption>OLS Regression Results</caption>\n",
       "<tr>\n",
       "  <th>Dep. Variable:</th>         <td>shares</td>      <th>  R-squared:         </th> <td>   0.245</td>\n",
       "</tr>\n",
       "<tr>\n",
       "  <th>Model:</th>                   <td>OLS</td>       <th>  Adj. R-squared:    </th> <td>   0.223</td>\n",
       "</tr>\n",
       "<tr>\n",
       "  <th>Method:</th>             <td>Least Squares</td>  <th>  F-statistic:       </th> <td>   11.34</td>\n",
       "</tr>\n",
       "<tr>\n",
       "  <th>Date:</th>             <td>Wed, 16 Jul 2025</td> <th>  Prob (F-statistic):</th> <td>8.91e-20</td>\n",
       "</tr>\n",
       "<tr>\n",
       "  <th>Time:</th>                 <td>20:39:04</td>     <th>  Log-Likelihood:    </th> <td> -1064.7</td>\n",
       "</tr>\n",
       "<tr>\n",
       "  <th>No. Observations:</th>      <td>   433</td>      <th>  AIC:               </th> <td>   2155.</td>\n",
       "</tr>\n",
       "<tr>\n",
       "  <th>Df Residuals:</th>          <td>   420</td>      <th>  BIC:               </th> <td>   2208.</td>\n",
       "</tr>\n",
       "<tr>\n",
       "  <th>Df Model:</th>              <td>    12</td>      <th>                     </th>     <td> </td>   \n",
       "</tr>\n",
       "<tr>\n",
       "  <th>Covariance Type:</th>      <td>nonrobust</td>    <th>                     </th>     <td> </td>   \n",
       "</tr>\n",
       "</table>\n",
       "<table class=\"simpletable\">\n",
       "<tr>\n",
       "          <td></td>             <th>coef</th>     <th>std err</th>      <th>t</th>      <th>P>|t|</th>  <th>[0.025</th>    <th>0.975]</th>  \n",
       "</tr>\n",
       "<tr>\n",
       "  <th>const</th>             <td>    6.2705</td> <td>    0.693</td> <td>    9.050</td> <td> 0.000</td> <td>    4.909</td> <td>    7.632</td>\n",
       "</tr>\n",
       "<tr>\n",
       "  <th>followers</th>         <td>    2.2692</td> <td>    0.222</td> <td>   10.228</td> <td> 0.000</td> <td>    1.833</td> <td>    2.705</td>\n",
       "</tr>\n",
       "<tr>\n",
       "  <th>videoscount</th>       <td>   -1.1360</td> <td>    0.203</td> <td>   -5.608</td> <td> 0.000</td> <td>   -1.534</td> <td>   -0.738</td>\n",
       "</tr>\n",
       "<tr>\n",
       "  <th>ads</th>               <td>   -0.0658</td> <td>    0.668</td> <td>   -0.099</td> <td> 0.922</td> <td>   -1.378</td> <td>    1.246</td>\n",
       "</tr>\n",
       "<tr>\n",
       "  <th>duration_sec</th>      <td>   -0.5610</td> <td>    0.170</td> <td>   -3.303</td> <td> 0.001</td> <td>   -0.895</td> <td>   -0.227</td>\n",
       "</tr>\n",
       "<tr>\n",
       "  <th>is_labubu</th>         <td>    1.0608</td> <td>    0.306</td> <td>    3.466</td> <td> 0.001</td> <td>    0.459</td> <td>    1.662</td>\n",
       "</tr>\n",
       "<tr>\n",
       "  <th>is_skullpanda</th>     <td>   -1.2061</td> <td>    0.500</td> <td>   -2.411</td> <td> 0.016</td> <td>   -2.189</td> <td>   -0.223</td>\n",
       "</tr>\n",
       "<tr>\n",
       "  <th>is_crybaby</th>        <td>    0.2103</td> <td>    0.497</td> <td>    0.423</td> <td> 0.672</td> <td>   -0.766</td> <td>    1.187</td>\n",
       "</tr>\n",
       "<tr>\n",
       "  <th>is_hirono</th>         <td>    1.8105</td> <td>    0.584</td> <td>    3.098</td> <td> 0.002</td> <td>    0.662</td> <td>    2.959</td>\n",
       "</tr>\n",
       "<tr>\n",
       "  <th>is_unboxing</th>       <td>    0.5718</td> <td>    0.318</td> <td>    1.801</td> <td> 0.072</td> <td>   -0.052</td> <td>    1.196</td>\n",
       "</tr>\n",
       "<tr>\n",
       "  <th>is_blindbox</th>       <td>    0.0463</td> <td>    0.309</td> <td>    0.150</td> <td> 0.881</td> <td>   -0.561</td> <td>    0.653</td>\n",
       "</tr>\n",
       "<tr>\n",
       "  <th>is_recommendation</th> <td>   -3.6912</td> <td>    1.712</td> <td>   -2.156</td> <td> 0.032</td> <td>   -7.056</td> <td>   -0.326</td>\n",
       "</tr>\n",
       "<tr>\n",
       "  <th>is_cute</th>           <td>    0.5509</td> <td>    0.577</td> <td>    0.954</td> <td> 0.341</td> <td>   -0.584</td> <td>    1.686</td>\n",
       "</tr>\n",
       "</table>\n",
       "<table class=\"simpletable\">\n",
       "<tr>\n",
       "  <th>Omnibus:</th>       <td>11.579</td> <th>  Durbin-Watson:     </th> <td>   1.966</td>\n",
       "</tr>\n",
       "<tr>\n",
       "  <th>Prob(Omnibus):</th> <td> 0.003</td> <th>  Jarque-Bera (JB):  </th> <td>  12.089</td>\n",
       "</tr>\n",
       "<tr>\n",
       "  <th>Skew:</th>          <td>-0.398</td> <th>  Prob(JB):          </th> <td> 0.00237</td>\n",
       "</tr>\n",
       "<tr>\n",
       "  <th>Kurtosis:</th>      <td> 2.805</td> <th>  Cond. No.          </th> <td>    20.6</td>\n",
       "</tr>\n",
       "</table><br/><br/>Notes:<br/>[1] Standard Errors assume that the covariance matrix of the errors is correctly specified."
      ],
      "text/latex": [
       "\\begin{center}\n",
       "\\begin{tabular}{lclc}\n",
       "\\toprule\n",
       "\\textbf{Dep. Variable:}     &      shares      & \\textbf{  R-squared:         } &     0.245   \\\\\n",
       "\\textbf{Model:}             &       OLS        & \\textbf{  Adj. R-squared:    } &     0.223   \\\\\n",
       "\\textbf{Method:}            &  Least Squares   & \\textbf{  F-statistic:       } &     11.34   \\\\\n",
       "\\textbf{Date:}              & Wed, 16 Jul 2025 & \\textbf{  Prob (F-statistic):} &  8.91e-20   \\\\\n",
       "\\textbf{Time:}              &     20:39:04     & \\textbf{  Log-Likelihood:    } &   -1064.7   \\\\\n",
       "\\textbf{No. Observations:}  &         433      & \\textbf{  AIC:               } &     2155.   \\\\\n",
       "\\textbf{Df Residuals:}      &         420      & \\textbf{  BIC:               } &     2208.   \\\\\n",
       "\\textbf{Df Model:}          &          12      & \\textbf{                     } &             \\\\\n",
       "\\textbf{Covariance Type:}   &    nonrobust     & \\textbf{                     } &             \\\\\n",
       "\\bottomrule\n",
       "\\end{tabular}\n",
       "\\begin{tabular}{lcccccc}\n",
       "                            & \\textbf{coef} & \\textbf{std err} & \\textbf{t} & \\textbf{P$> |$t$|$} & \\textbf{[0.025} & \\textbf{0.975]}  \\\\\n",
       "\\midrule\n",
       "\\textbf{const}              &       6.2705  &        0.693     &     9.050  &         0.000        &        4.909    &        7.632     \\\\\n",
       "\\textbf{followers}          &       2.2692  &        0.222     &    10.228  &         0.000        &        1.833    &        2.705     \\\\\n",
       "\\textbf{videoscount}        &      -1.1360  &        0.203     &    -5.608  &         0.000        &       -1.534    &       -0.738     \\\\\n",
       "\\textbf{ads}                &      -0.0658  &        0.668     &    -0.099  &         0.922        &       -1.378    &        1.246     \\\\\n",
       "\\textbf{duration\\_sec}      &      -0.5610  &        0.170     &    -3.303  &         0.001        &       -0.895    &       -0.227     \\\\\n",
       "\\textbf{is\\_labubu}         &       1.0608  &        0.306     &     3.466  &         0.001        &        0.459    &        1.662     \\\\\n",
       "\\textbf{is\\_skullpanda}     &      -1.2061  &        0.500     &    -2.411  &         0.016        &       -2.189    &       -0.223     \\\\\n",
       "\\textbf{is\\_crybaby}        &       0.2103  &        0.497     &     0.423  &         0.672        &       -0.766    &        1.187     \\\\\n",
       "\\textbf{is\\_hirono}         &       1.8105  &        0.584     &     3.098  &         0.002        &        0.662    &        2.959     \\\\\n",
       "\\textbf{is\\_unboxing}       &       0.5718  &        0.318     &     1.801  &         0.072        &       -0.052    &        1.196     \\\\\n",
       "\\textbf{is\\_blindbox}       &       0.0463  &        0.309     &     0.150  &         0.881        &       -0.561    &        0.653     \\\\\n",
       "\\textbf{is\\_recommendation} &      -3.6912  &        1.712     &    -2.156  &         0.032        &       -7.056    &       -0.326     \\\\\n",
       "\\textbf{is\\_cute}           &       0.5509  &        0.577     &     0.954  &         0.341        &       -0.584    &        1.686     \\\\\n",
       "\\bottomrule\n",
       "\\end{tabular}\n",
       "\\begin{tabular}{lclc}\n",
       "\\textbf{Omnibus:}       & 11.579 & \\textbf{  Durbin-Watson:     } &    1.966  \\\\\n",
       "\\textbf{Prob(Omnibus):} &  0.003 & \\textbf{  Jarque-Bera (JB):  } &   12.089  \\\\\n",
       "\\textbf{Skew:}          & -0.398 & \\textbf{  Prob(JB):          } &  0.00237  \\\\\n",
       "\\textbf{Kurtosis:}      &  2.805 & \\textbf{  Cond. No.          } &     20.6  \\\\\n",
       "\\bottomrule\n",
       "\\end{tabular}\n",
       "%\\caption{OLS Regression Results}\n",
       "\\end{center}\n",
       "\n",
       "Notes: \\newline\n",
       " [1] Standard Errors assume that the covariance matrix of the errors is correctly specified."
      ],
      "text/plain": [
       "<class 'statsmodels.iolib.summary.Summary'>\n",
       "\"\"\"\n",
       "                            OLS Regression Results                            \n",
       "==============================================================================\n",
       "Dep. Variable:                 shares   R-squared:                       0.245\n",
       "Model:                            OLS   Adj. R-squared:                  0.223\n",
       "Method:                 Least Squares   F-statistic:                     11.34\n",
       "Date:                Wed, 16 Jul 2025   Prob (F-statistic):           8.91e-20\n",
       "Time:                        20:39:04   Log-Likelihood:                -1064.7\n",
       "No. Observations:                 433   AIC:                             2155.\n",
       "Df Residuals:                     420   BIC:                             2208.\n",
       "Df Model:                          12                                         \n",
       "Covariance Type:            nonrobust                                         \n",
       "=====================================================================================\n",
       "                        coef    std err          t      P>|t|      [0.025      0.975]\n",
       "-------------------------------------------------------------------------------------\n",
       "const                 6.2705      0.693      9.050      0.000       4.909       7.632\n",
       "followers             2.2692      0.222     10.228      0.000       1.833       2.705\n",
       "videoscount          -1.1360      0.203     -5.608      0.000      -1.534      -0.738\n",
       "ads                  -0.0658      0.668     -0.099      0.922      -1.378       1.246\n",
       "duration_sec         -0.5610      0.170     -3.303      0.001      -0.895      -0.227\n",
       "is_labubu             1.0608      0.306      3.466      0.001       0.459       1.662\n",
       "is_skullpanda        -1.2061      0.500     -2.411      0.016      -2.189      -0.223\n",
       "is_crybaby            0.2103      0.497      0.423      0.672      -0.766       1.187\n",
       "is_hirono             1.8105      0.584      3.098      0.002       0.662       2.959\n",
       "is_unboxing           0.5718      0.318      1.801      0.072      -0.052       1.196\n",
       "is_blindbox           0.0463      0.309      0.150      0.881      -0.561       0.653\n",
       "is_recommendation    -3.6912      1.712     -2.156      0.032      -7.056      -0.326\n",
       "is_cute               0.5509      0.577      0.954      0.341      -0.584       1.686\n",
       "==============================================================================\n",
       "Omnibus:                       11.579   Durbin-Watson:                   1.966\n",
       "Prob(Omnibus):                  0.003   Jarque-Bera (JB):               12.089\n",
       "Skew:                          -0.398   Prob(JB):                      0.00237\n",
       "Kurtosis:                       2.805   Cond. No.                         20.6\n",
       "==============================================================================\n",
       "\n",
       "Notes:\n",
       "[1] Standard Errors assume that the covariance matrix of the errors is correctly specified.\n",
       "\"\"\""
      ]
     },
     "execution_count": 53,
     "metadata": {},
     "output_type": "execute_result"
    }
   ],
   "source": [
    "X = sm.add_constant(x_reg_train)\n",
    "y = y_reg_share_train\n",
    "\n",
    "linear_share_sm = sm.OLS(y,X).fit()\n",
    "pval = linear_share_sm.pvalues.ravel()\n",
    "linear_share_sm.summary()"
   ]
  },
  {
   "cell_type": "code",
   "execution_count": 54,
   "id": "6b03bcca-3913-4451-89ac-9b78c45c9459",
   "metadata": {},
   "outputs": [],
   "source": [
    "x_reg_train, x_reg_test, y_reg_comment_train, y_reg_comment_test = train_test_split(x_reg, y_reg_comment, test_size = 0.3, random_state = 42)"
   ]
  },
  {
   "cell_type": "code",
   "execution_count": 55,
   "id": "bfee813f-b29f-44b8-845c-c34a275f72c6",
   "metadata": {},
   "outputs": [],
   "source": [
    "x_reg_train[['followers','videoscount','duration_sec']] = sc.fit_transform(x_reg_train[['followers','videoscount','duration_sec']].apply(np.log1p))\n",
    "x_reg_test[['followers','videoscount','duration_sec']] = sc.transform(x_reg_test[['followers','videoscount','duration_sec']].apply(np.log1p))\n",
    "x_reg_train['ads'] = le.fit_transform(x_reg_train['ads'])\n",
    "x_reg_test['ads'] = le.transform(x_reg_test['ads'])"
   ]
  },
  {
   "cell_type": "code",
   "execution_count": 56,
   "id": "a9e37d1e-8b7d-4019-80d4-abc5ff759a21",
   "metadata": {},
   "outputs": [],
   "source": [
    "y_reg_comment_train = y_reg_comment_train.apply(np.log1p)\n",
    "y_reg_comment_test = y_reg_comment_test.apply(np.log1p)"
   ]
  },
  {
   "cell_type": "code",
   "execution_count": 57,
   "id": "b67595e8-51f2-4dea-9e78-45b818120373",
   "metadata": {},
   "outputs": [
    {
     "data": {
      "text/html": [
       "<style>#sk-container-id-4 {color: black;background-color: white;}#sk-container-id-4 pre{padding: 0;}#sk-container-id-4 div.sk-toggleable {background-color: white;}#sk-container-id-4 label.sk-toggleable__label {cursor: pointer;display: block;width: 100%;margin-bottom: 0;padding: 0.3em;box-sizing: border-box;text-align: center;}#sk-container-id-4 label.sk-toggleable__label-arrow:before {content: \"▸\";float: left;margin-right: 0.25em;color: #696969;}#sk-container-id-4 label.sk-toggleable__label-arrow:hover:before {color: black;}#sk-container-id-4 div.sk-estimator:hover label.sk-toggleable__label-arrow:before {color: black;}#sk-container-id-4 div.sk-toggleable__content {max-height: 0;max-width: 0;overflow: hidden;text-align: left;background-color: #f0f8ff;}#sk-container-id-4 div.sk-toggleable__content pre {margin: 0.2em;color: black;border-radius: 0.25em;background-color: #f0f8ff;}#sk-container-id-4 input.sk-toggleable__control:checked~div.sk-toggleable__content {max-height: 200px;max-width: 100%;overflow: auto;}#sk-container-id-4 input.sk-toggleable__control:checked~label.sk-toggleable__label-arrow:before {content: \"▾\";}#sk-container-id-4 div.sk-estimator input.sk-toggleable__control:checked~label.sk-toggleable__label {background-color: #d4ebff;}#sk-container-id-4 div.sk-label input.sk-toggleable__control:checked~label.sk-toggleable__label {background-color: #d4ebff;}#sk-container-id-4 input.sk-hidden--visually {border: 0;clip: rect(1px 1px 1px 1px);clip: rect(1px, 1px, 1px, 1px);height: 1px;margin: -1px;overflow: hidden;padding: 0;position: absolute;width: 1px;}#sk-container-id-4 div.sk-estimator {font-family: monospace;background-color: #f0f8ff;border: 1px dotted black;border-radius: 0.25em;box-sizing: border-box;margin-bottom: 0.5em;}#sk-container-id-4 div.sk-estimator:hover {background-color: #d4ebff;}#sk-container-id-4 div.sk-parallel-item::after {content: \"\";width: 100%;border-bottom: 1px solid gray;flex-grow: 1;}#sk-container-id-4 div.sk-label:hover label.sk-toggleable__label {background-color: #d4ebff;}#sk-container-id-4 div.sk-serial::before {content: \"\";position: absolute;border-left: 1px solid gray;box-sizing: border-box;top: 0;bottom: 0;left: 50%;z-index: 0;}#sk-container-id-4 div.sk-serial {display: flex;flex-direction: column;align-items: center;background-color: white;padding-right: 0.2em;padding-left: 0.2em;position: relative;}#sk-container-id-4 div.sk-item {position: relative;z-index: 1;}#sk-container-id-4 div.sk-parallel {display: flex;align-items: stretch;justify-content: center;background-color: white;position: relative;}#sk-container-id-4 div.sk-item::before, #sk-container-id-4 div.sk-parallel-item::before {content: \"\";position: absolute;border-left: 1px solid gray;box-sizing: border-box;top: 0;bottom: 0;left: 50%;z-index: -1;}#sk-container-id-4 div.sk-parallel-item {display: flex;flex-direction: column;z-index: 1;position: relative;background-color: white;}#sk-container-id-4 div.sk-parallel-item:first-child::after {align-self: flex-end;width: 50%;}#sk-container-id-4 div.sk-parallel-item:last-child::after {align-self: flex-start;width: 50%;}#sk-container-id-4 div.sk-parallel-item:only-child::after {width: 0;}#sk-container-id-4 div.sk-dashed-wrapped {border: 1px dashed gray;margin: 0 0.4em 0.5em 0.4em;box-sizing: border-box;padding-bottom: 0.4em;background-color: white;}#sk-container-id-4 div.sk-label label {font-family: monospace;font-weight: bold;display: inline-block;line-height: 1.2em;}#sk-container-id-4 div.sk-label-container {text-align: center;}#sk-container-id-4 div.sk-container {/* jupyter's `normalize.less` sets `[hidden] { display: none; }` but bootstrap.min.css set `[hidden] { display: none !important; }` so we also need the `!important` here to be able to override the default hidden behavior on the sphinx rendered scikit-learn.org. See: https://github.com/scikit-learn/scikit-learn/issues/21755 */display: inline-block !important;position: relative;}#sk-container-id-4 div.sk-text-repr-fallback {display: none;}</style><div id=\"sk-container-id-4\" class=\"sk-top-container\"><div class=\"sk-text-repr-fallback\"><pre>LinearRegression()</pre><b>In a Jupyter environment, please rerun this cell to show the HTML representation or trust the notebook. <br />On GitHub, the HTML representation is unable to render, please try loading this page with nbviewer.org.</b></div><div class=\"sk-container\" hidden><div class=\"sk-item\"><div class=\"sk-estimator sk-toggleable\"><input class=\"sk-toggleable__control sk-hidden--visually\" id=\"sk-estimator-id-4\" type=\"checkbox\" checked><label for=\"sk-estimator-id-4\" class=\"sk-toggleable__label sk-toggleable__label-arrow\">LinearRegression</label><div class=\"sk-toggleable__content\"><pre>LinearRegression()</pre></div></div></div></div></div>"
      ],
      "text/plain": [
       "LinearRegression()"
      ]
     },
     "execution_count": 57,
     "metadata": {},
     "output_type": "execute_result"
    }
   ],
   "source": [
    "linear_comment = LinearRegression()\n",
    "linear_comment.fit(x_reg_train, y_reg_comment_train)"
   ]
  },
  {
   "cell_type": "code",
   "execution_count": 58,
   "id": "d1768f5f-de28-45f9-96d6-8219b324c920",
   "metadata": {},
   "outputs": [],
   "source": [
    "linear_comment_pred = linear_comment.predict(x_reg_test)"
   ]
  },
  {
   "cell_type": "code",
   "execution_count": 59,
   "id": "b8fccf88-a341-4517-8ce0-c859684a728f",
   "metadata": {},
   "outputs": [
    {
     "name": "stdout",
     "output_type": "stream",
     "text": [
      "The R-squared for Linear Regression Model predicting Comment is 0.15273394085000946\n",
      "The Mean Absolute Error for Linear Regression Model predicting Comment is 1.7290968316173316\n",
      "The Mean Squared Error for Linear Regression Model predicting Comment is 4.524145482866186\n",
      "The Root Mean Squared Error for Linear Regression Model predicting Comment is 2.127003874671174\n"
     ]
    }
   ],
   "source": [
    "linear_comment_r2 = r2_score(y_reg_comment_test, linear_comment_pred)\n",
    "linear_comment_mae = mean_absolute_error(y_reg_comment_test, linear_comment_pred)\n",
    "linear_comment_mse = mean_squared_error(y_reg_comment_test, linear_comment_pred)\n",
    "linear_comment_rmse = mean_squared_error(y_reg_comment_test, linear_comment_pred, squared=False)\n",
    "\n",
    "print(f'The R-squared for Linear Regression Model predicting Comment is {linear_comment_r2}')\n",
    "print(f'The Mean Absolute Error for Linear Regression Model predicting Comment is {linear_comment_mae}')\n",
    "print(f'The Mean Squared Error for Linear Regression Model predicting Comment is {linear_comment_mse}')\n",
    "print(f'The Root Mean Squared Error for Linear Regression Model predicting Comment is {linear_comment_rmse}')"
   ]
  },
  {
   "cell_type": "code",
   "execution_count": 60,
   "id": "c136a232-24c1-4c99-85d6-d9dfb1942b33",
   "metadata": {},
   "outputs": [
    {
     "data": {
      "text/html": [
       "<div>\n",
       "<style scoped>\n",
       "    .dataframe tbody tr th:only-of-type {\n",
       "        vertical-align: middle;\n",
       "    }\n",
       "\n",
       "    .dataframe tbody tr th {\n",
       "        vertical-align: top;\n",
       "    }\n",
       "\n",
       "    .dataframe thead th {\n",
       "        text-align: right;\n",
       "    }\n",
       "</style>\n",
       "<table border=\"1\" class=\"dataframe\">\n",
       "  <thead>\n",
       "    <tr style=\"text-align: right;\">\n",
       "      <th></th>\n",
       "      <th>Feature</th>\n",
       "      <th>Coefficient</th>\n",
       "    </tr>\n",
       "  </thead>\n",
       "  <tbody>\n",
       "    <tr>\n",
       "      <th>12</th>\n",
       "      <td>Constant</td>\n",
       "      <td>4.412247</td>\n",
       "    </tr>\n",
       "    <tr>\n",
       "      <th>0</th>\n",
       "      <td>followers</td>\n",
       "      <td>1.537497</td>\n",
       "    </tr>\n",
       "    <tr>\n",
       "      <th>4</th>\n",
       "      <td>is_labubu</td>\n",
       "      <td>1.118194</td>\n",
       "    </tr>\n",
       "    <tr>\n",
       "      <th>7</th>\n",
       "      <td>is_hirono</td>\n",
       "      <td>1.004628</td>\n",
       "    </tr>\n",
       "    <tr>\n",
       "      <th>2</th>\n",
       "      <td>ads</td>\n",
       "      <td>0.617759</td>\n",
       "    </tr>\n",
       "    <tr>\n",
       "      <th>8</th>\n",
       "      <td>is_unboxing</td>\n",
       "      <td>0.451569</td>\n",
       "    </tr>\n",
       "    <tr>\n",
       "      <th>6</th>\n",
       "      <td>is_crybaby</td>\n",
       "      <td>0.118323</td>\n",
       "    </tr>\n",
       "    <tr>\n",
       "      <th>3</th>\n",
       "      <td>duration_sec</td>\n",
       "      <td>-0.099582</td>\n",
       "    </tr>\n",
       "    <tr>\n",
       "      <th>11</th>\n",
       "      <td>is_cute</td>\n",
       "      <td>-0.134008</td>\n",
       "    </tr>\n",
       "    <tr>\n",
       "      <th>9</th>\n",
       "      <td>is_blindbox</td>\n",
       "      <td>-0.187463</td>\n",
       "    </tr>\n",
       "    <tr>\n",
       "      <th>1</th>\n",
       "      <td>videoscount</td>\n",
       "      <td>-0.588739</td>\n",
       "    </tr>\n",
       "    <tr>\n",
       "      <th>5</th>\n",
       "      <td>is_skullpanda</td>\n",
       "      <td>-1.045126</td>\n",
       "    </tr>\n",
       "    <tr>\n",
       "      <th>10</th>\n",
       "      <td>is_recommendation</td>\n",
       "      <td>-2.265244</td>\n",
       "    </tr>\n",
       "  </tbody>\n",
       "</table>\n",
       "</div>"
      ],
      "text/plain": [
       "              Feature  Coefficient\n",
       "12           Constant     4.412247\n",
       "0           followers     1.537497\n",
       "4           is_labubu     1.118194\n",
       "7           is_hirono     1.004628\n",
       "2                 ads     0.617759\n",
       "8         is_unboxing     0.451569\n",
       "6          is_crybaby     0.118323\n",
       "3        duration_sec    -0.099582\n",
       "11            is_cute    -0.134008\n",
       "9         is_blindbox    -0.187463\n",
       "1         videoscount    -0.588739\n",
       "5       is_skullpanda    -1.045126\n",
       "10  is_recommendation    -2.265244"
      ]
     },
     "execution_count": 60,
     "metadata": {},
     "output_type": "execute_result"
    }
   ],
   "source": [
    "coefs_comment = linear_comment.coef_.ravel()\n",
    "intercept_comment = linear_comment.intercept_.ravel()[0]\n",
    "\n",
    "linear_coef_table_comment = pd.DataFrame(\n",
    "    {'Feature':list(x_reg_train.columns) + ['Constant'],\n",
    "     'Coefficient':list(coefs_comment) + [intercept_comment]}\n",
    ")\n",
    "linear_coef_table_comment.sort_values('Coefficient', ascending=False)"
   ]
  },
  {
   "cell_type": "code",
   "execution_count": 61,
   "id": "226230bd-7087-4f89-8780-8410a112c2d2",
   "metadata": {},
   "outputs": [
    {
     "data": {
      "text/html": [
       "<table class=\"simpletable\">\n",
       "<caption>OLS Regression Results</caption>\n",
       "<tr>\n",
       "  <th>Dep. Variable:</th>        <td>comments</td>     <th>  R-squared:         </th> <td>   0.286</td>\n",
       "</tr>\n",
       "<tr>\n",
       "  <th>Model:</th>                   <td>OLS</td>       <th>  Adj. R-squared:    </th> <td>   0.265</td>\n",
       "</tr>\n",
       "<tr>\n",
       "  <th>Method:</th>             <td>Least Squares</td>  <th>  F-statistic:       </th> <td>   14.00</td>\n",
       "</tr>\n",
       "<tr>\n",
       "  <th>Date:</th>             <td>Wed, 16 Jul 2025</td> <th>  Prob (F-statistic):</th> <td>1.54e-24</td>\n",
       "</tr>\n",
       "<tr>\n",
       "  <th>Time:</th>                 <td>20:39:07</td>     <th>  Log-Likelihood:    </th> <td> -890.07</td>\n",
       "</tr>\n",
       "<tr>\n",
       "  <th>No. Observations:</th>      <td>   433</td>      <th>  AIC:               </th> <td>   1806.</td>\n",
       "</tr>\n",
       "<tr>\n",
       "  <th>Df Residuals:</th>          <td>   420</td>      <th>  BIC:               </th> <td>   1859.</td>\n",
       "</tr>\n",
       "<tr>\n",
       "  <th>Df Model:</th>              <td>    12</td>      <th>                     </th>     <td> </td>   \n",
       "</tr>\n",
       "<tr>\n",
       "  <th>Covariance Type:</th>      <td>nonrobust</td>    <th>                     </th>     <td> </td>   \n",
       "</tr>\n",
       "</table>\n",
       "<table class=\"simpletable\">\n",
       "<tr>\n",
       "          <td></td>             <th>coef</th>     <th>std err</th>      <th>t</th>      <th>P>|t|</th>  <th>[0.025</th>    <th>0.975]</th>  \n",
       "</tr>\n",
       "<tr>\n",
       "  <th>const</th>             <td>    4.4122</td> <td>    0.463</td> <td>    9.532</td> <td> 0.000</td> <td>    3.502</td> <td>    5.322</td>\n",
       "</tr>\n",
       "<tr>\n",
       "  <th>followers</th>         <td>    1.5375</td> <td>    0.148</td> <td>   10.373</td> <td> 0.000</td> <td>    1.246</td> <td>    1.829</td>\n",
       "</tr>\n",
       "<tr>\n",
       "  <th>videoscount</th>       <td>   -0.5887</td> <td>    0.135</td> <td>   -4.350</td> <td> 0.000</td> <td>   -0.855</td> <td>   -0.323</td>\n",
       "</tr>\n",
       "<tr>\n",
       "  <th>ads</th>               <td>    0.6178</td> <td>    0.446</td> <td>    1.385</td> <td> 0.167</td> <td>   -0.259</td> <td>    1.494</td>\n",
       "</tr>\n",
       "<tr>\n",
       "  <th>duration_sec</th>      <td>   -0.0996</td> <td>    0.113</td> <td>   -0.878</td> <td> 0.381</td> <td>   -0.323</td> <td>    0.123</td>\n",
       "</tr>\n",
       "<tr>\n",
       "  <th>is_labubu</th>         <td>    1.1182</td> <td>    0.204</td> <td>    5.469</td> <td> 0.000</td> <td>    0.716</td> <td>    1.520</td>\n",
       "</tr>\n",
       "<tr>\n",
       "  <th>is_skullpanda</th>     <td>   -1.0451</td> <td>    0.334</td> <td>   -3.128</td> <td> 0.002</td> <td>   -1.702</td> <td>   -0.388</td>\n",
       "</tr>\n",
       "<tr>\n",
       "  <th>is_crybaby</th>        <td>    0.1183</td> <td>    0.332</td> <td>    0.357</td> <td> 0.722</td> <td>   -0.534</td> <td>    0.771</td>\n",
       "</tr>\n",
       "<tr>\n",
       "  <th>is_hirono</th>         <td>    1.0046</td> <td>    0.390</td> <td>    2.573</td> <td> 0.010</td> <td>    0.237</td> <td>    1.772</td>\n",
       "</tr>\n",
       "<tr>\n",
       "  <th>is_unboxing</th>       <td>    0.4516</td> <td>    0.212</td> <td>    2.129</td> <td> 0.034</td> <td>    0.035</td> <td>    0.869</td>\n",
       "</tr>\n",
       "<tr>\n",
       "  <th>is_blindbox</th>       <td>   -0.1875</td> <td>    0.206</td> <td>   -0.909</td> <td> 0.364</td> <td>   -0.593</td> <td>    0.218</td>\n",
       "</tr>\n",
       "<tr>\n",
       "  <th>is_recommendation</th> <td>   -2.2652</td> <td>    1.144</td> <td>   -1.981</td> <td> 0.048</td> <td>   -4.513</td> <td>   -0.017</td>\n",
       "</tr>\n",
       "<tr>\n",
       "  <th>is_cute</th>           <td>   -0.1340</td> <td>    0.386</td> <td>   -0.347</td> <td> 0.728</td> <td>   -0.892</td> <td>    0.624</td>\n",
       "</tr>\n",
       "</table>\n",
       "<table class=\"simpletable\">\n",
       "<tr>\n",
       "  <th>Omnibus:</th>       <td>14.976</td> <th>  Durbin-Watson:     </th> <td>   2.065</td>\n",
       "</tr>\n",
       "<tr>\n",
       "  <th>Prob(Omnibus):</th> <td> 0.001</td> <th>  Jarque-Bera (JB):  </th> <td>  15.745</td>\n",
       "</tr>\n",
       "<tr>\n",
       "  <th>Skew:</th>          <td>-0.422</td> <th>  Prob(JB):          </th> <td>0.000381</td>\n",
       "</tr>\n",
       "<tr>\n",
       "  <th>Kurtosis:</th>      <td> 3.399</td> <th>  Cond. No.          </th> <td>    20.6</td>\n",
       "</tr>\n",
       "</table><br/><br/>Notes:<br/>[1] Standard Errors assume that the covariance matrix of the errors is correctly specified."
      ],
      "text/latex": [
       "\\begin{center}\n",
       "\\begin{tabular}{lclc}\n",
       "\\toprule\n",
       "\\textbf{Dep. Variable:}     &     comments     & \\textbf{  R-squared:         } &     0.286   \\\\\n",
       "\\textbf{Model:}             &       OLS        & \\textbf{  Adj. R-squared:    } &     0.265   \\\\\n",
       "\\textbf{Method:}            &  Least Squares   & \\textbf{  F-statistic:       } &     14.00   \\\\\n",
       "\\textbf{Date:}              & Wed, 16 Jul 2025 & \\textbf{  Prob (F-statistic):} &  1.54e-24   \\\\\n",
       "\\textbf{Time:}              &     20:39:07     & \\textbf{  Log-Likelihood:    } &   -890.07   \\\\\n",
       "\\textbf{No. Observations:}  &         433      & \\textbf{  AIC:               } &     1806.   \\\\\n",
       "\\textbf{Df Residuals:}      &         420      & \\textbf{  BIC:               } &     1859.   \\\\\n",
       "\\textbf{Df Model:}          &          12      & \\textbf{                     } &             \\\\\n",
       "\\textbf{Covariance Type:}   &    nonrobust     & \\textbf{                     } &             \\\\\n",
       "\\bottomrule\n",
       "\\end{tabular}\n",
       "\\begin{tabular}{lcccccc}\n",
       "                            & \\textbf{coef} & \\textbf{std err} & \\textbf{t} & \\textbf{P$> |$t$|$} & \\textbf{[0.025} & \\textbf{0.975]}  \\\\\n",
       "\\midrule\n",
       "\\textbf{const}              &       4.4122  &        0.463     &     9.532  &         0.000        &        3.502    &        5.322     \\\\\n",
       "\\textbf{followers}          &       1.5375  &        0.148     &    10.373  &         0.000        &        1.246    &        1.829     \\\\\n",
       "\\textbf{videoscount}        &      -0.5887  &        0.135     &    -4.350  &         0.000        &       -0.855    &       -0.323     \\\\\n",
       "\\textbf{ads}                &       0.6178  &        0.446     &     1.385  &         0.167        &       -0.259    &        1.494     \\\\\n",
       "\\textbf{duration\\_sec}      &      -0.0996  &        0.113     &    -0.878  &         0.381        &       -0.323    &        0.123     \\\\\n",
       "\\textbf{is\\_labubu}         &       1.1182  &        0.204     &     5.469  &         0.000        &        0.716    &        1.520     \\\\\n",
       "\\textbf{is\\_skullpanda}     &      -1.0451  &        0.334     &    -3.128  &         0.002        &       -1.702    &       -0.388     \\\\\n",
       "\\textbf{is\\_crybaby}        &       0.1183  &        0.332     &     0.357  &         0.722        &       -0.534    &        0.771     \\\\\n",
       "\\textbf{is\\_hirono}         &       1.0046  &        0.390     &     2.573  &         0.010        &        0.237    &        1.772     \\\\\n",
       "\\textbf{is\\_unboxing}       &       0.4516  &        0.212     &     2.129  &         0.034        &        0.035    &        0.869     \\\\\n",
       "\\textbf{is\\_blindbox}       &      -0.1875  &        0.206     &    -0.909  &         0.364        &       -0.593    &        0.218     \\\\\n",
       "\\textbf{is\\_recommendation} &      -2.2652  &        1.144     &    -1.981  &         0.048        &       -4.513    &       -0.017     \\\\\n",
       "\\textbf{is\\_cute}           &      -0.1340  &        0.386     &    -0.347  &         0.728        &       -0.892    &        0.624     \\\\\n",
       "\\bottomrule\n",
       "\\end{tabular}\n",
       "\\begin{tabular}{lclc}\n",
       "\\textbf{Omnibus:}       & 14.976 & \\textbf{  Durbin-Watson:     } &    2.065  \\\\\n",
       "\\textbf{Prob(Omnibus):} &  0.001 & \\textbf{  Jarque-Bera (JB):  } &   15.745  \\\\\n",
       "\\textbf{Skew:}          & -0.422 & \\textbf{  Prob(JB):          } & 0.000381  \\\\\n",
       "\\textbf{Kurtosis:}      &  3.399 & \\textbf{  Cond. No.          } &     20.6  \\\\\n",
       "\\bottomrule\n",
       "\\end{tabular}\n",
       "%\\caption{OLS Regression Results}\n",
       "\\end{center}\n",
       "\n",
       "Notes: \\newline\n",
       " [1] Standard Errors assume that the covariance matrix of the errors is correctly specified."
      ],
      "text/plain": [
       "<class 'statsmodels.iolib.summary.Summary'>\n",
       "\"\"\"\n",
       "                            OLS Regression Results                            \n",
       "==============================================================================\n",
       "Dep. Variable:               comments   R-squared:                       0.286\n",
       "Model:                            OLS   Adj. R-squared:                  0.265\n",
       "Method:                 Least Squares   F-statistic:                     14.00\n",
       "Date:                Wed, 16 Jul 2025   Prob (F-statistic):           1.54e-24\n",
       "Time:                        20:39:07   Log-Likelihood:                -890.07\n",
       "No. Observations:                 433   AIC:                             1806.\n",
       "Df Residuals:                     420   BIC:                             1859.\n",
       "Df Model:                          12                                         \n",
       "Covariance Type:            nonrobust                                         \n",
       "=====================================================================================\n",
       "                        coef    std err          t      P>|t|      [0.025      0.975]\n",
       "-------------------------------------------------------------------------------------\n",
       "const                 4.4122      0.463      9.532      0.000       3.502       5.322\n",
       "followers             1.5375      0.148     10.373      0.000       1.246       1.829\n",
       "videoscount          -0.5887      0.135     -4.350      0.000      -0.855      -0.323\n",
       "ads                   0.6178      0.446      1.385      0.167      -0.259       1.494\n",
       "duration_sec         -0.0996      0.113     -0.878      0.381      -0.323       0.123\n",
       "is_labubu             1.1182      0.204      5.469      0.000       0.716       1.520\n",
       "is_skullpanda        -1.0451      0.334     -3.128      0.002      -1.702      -0.388\n",
       "is_crybaby            0.1183      0.332      0.357      0.722      -0.534       0.771\n",
       "is_hirono             1.0046      0.390      2.573      0.010       0.237       1.772\n",
       "is_unboxing           0.4516      0.212      2.129      0.034       0.035       0.869\n",
       "is_blindbox          -0.1875      0.206     -0.909      0.364      -0.593       0.218\n",
       "is_recommendation    -2.2652      1.144     -1.981      0.048      -4.513      -0.017\n",
       "is_cute              -0.1340      0.386     -0.347      0.728      -0.892       0.624\n",
       "==============================================================================\n",
       "Omnibus:                       14.976   Durbin-Watson:                   2.065\n",
       "Prob(Omnibus):                  0.001   Jarque-Bera (JB):               15.745\n",
       "Skew:                          -0.422   Prob(JB):                     0.000381\n",
       "Kurtosis:                       3.399   Cond. No.                         20.6\n",
       "==============================================================================\n",
       "\n",
       "Notes:\n",
       "[1] Standard Errors assume that the covariance matrix of the errors is correctly specified.\n",
       "\"\"\""
      ]
     },
     "execution_count": 61,
     "metadata": {},
     "output_type": "execute_result"
    }
   ],
   "source": [
    "X = sm.add_constant(x_reg_train)\n",
    "y = y_reg_comment_train\n",
    "\n",
    "linear_comment_sm = sm.OLS(y,X).fit()\n",
    "pval = linear_comment_sm.pvalues.ravel()\n",
    "linear_comment_sm.summary()"
   ]
  },
  {
   "cell_type": "markdown",
   "id": "07f00987",
   "metadata": {},
   "source": [
    "### 🧠 Summary of Linear Regression Findings\n",
    "While all models capture a moderate portion of variance in engagement metrics, predictive strength remains limited — especially for shares. Feature importance highlights:\n",
    "- **Scale metrics** (`followers`, `videoscount`) consistently matter for views and engagements.\n",
    "- **Content-type flags** (e.g., `is_labubu`, `is_hirono`, `is_unboxing`) influence engagements much stronger than others, representing the trending Labubu and Hirono popularity syntheized with appealing creators' behaviors like unboxing.  \n",
    "- There is a clear opportunity to **enhance predictive modeling using additional temporal or content-specific variables** (e.g., posting time, sentiment, caption text)."
   ]
  },
  {
   "cell_type": "code",
   "execution_count": 501,
   "id": "ba204295-c885-4fcb-a268-eaaa6539c5d8",
   "metadata": {},
   "outputs": [
    {
     "data": {
      "text/plain": [
       "Index(['author', 'nickname', 'followers', 'videoscount', 'accounttype',\n",
       "       'accountstatus', 'sellerstatus', 'posturl', 'webvideourl', 'caption',\n",
       "       'ads', 'mute', 'likes', 'shares', 'views', 'comments', 'duration_sec',\n",
       "       'created_at', 'engagement_rate', 'like_rate', 'share_rate',\n",
       "       'comment_rate', 'is_labubu', 'is_skullpanda', 'is_crybaby', 'is_hirono',\n",
       "       'is_unboxing', 'is_blindbox', 'is_recommendation', 'is_cute',\n",
       "       'virality', 'trending'],\n",
       "      dtype='object')"
      ]
     },
     "execution_count": 501,
     "metadata": {},
     "output_type": "execute_result"
    }
   ],
   "source": [
    "mart_author.columns"
   ]
  },
  {
   "cell_type": "markdown",
   "id": "2b1eb58e",
   "metadata": {},
   "source": [
    "## 🧠 Classification Workflow Overview\n",
    "\n",
    "This classification pipeline focuses on predicting **Virality** and **Trending** of TikTok PopMart content using engagement features. The goal is to support strategic decisions around creator and content promotion based on model-driven content tagging."
   ]
  },
  {
   "cell_type": "markdown",
   "id": "0beb9340",
   "metadata": {},
   "source": [
    "### 📌 1. Define Target Labels: Virality & Trending\n",
    "\n",
    "- **Virality** is defined as a binary label based on whether a post’s **views** exceed the 90th percentile threshold.\n",
    "- **Trending** is similarly labeled by checking if **engagement rate** exceeds the 50th percentile.\n",
    "- These labels are intended to flag high-performing content prior to publishing."
   ]
  },
  {
   "cell_type": "code",
   "execution_count": 502,
   "id": "7cb7a287-b0ff-4ab6-994c-59298c18915e",
   "metadata": {},
   "outputs": [
    {
     "data": {
      "text/html": [
       "<div>\n",
       "<style scoped>\n",
       "    .dataframe tbody tr th:only-of-type {\n",
       "        vertical-align: middle;\n",
       "    }\n",
       "\n",
       "    .dataframe tbody tr th {\n",
       "        vertical-align: top;\n",
       "    }\n",
       "\n",
       "    .dataframe thead th {\n",
       "        text-align: right;\n",
       "    }\n",
       "</style>\n",
       "<table border=\"1\" class=\"dataframe\">\n",
       "  <thead>\n",
       "    <tr style=\"text-align: right;\">\n",
       "      <th></th>\n",
       "      <th>views</th>\n",
       "      <th>virality</th>\n",
       "    </tr>\n",
       "  </thead>\n",
       "  <tbody>\n",
       "    <tr>\n",
       "      <th>0</th>\n",
       "      <td>7674</td>\n",
       "      <td>0</td>\n",
       "    </tr>\n",
       "    <tr>\n",
       "      <th>1</th>\n",
       "      <td>3434</td>\n",
       "      <td>0</td>\n",
       "    </tr>\n",
       "    <tr>\n",
       "      <th>2</th>\n",
       "      <td>121300</td>\n",
       "      <td>0</td>\n",
       "    </tr>\n",
       "    <tr>\n",
       "      <th>3</th>\n",
       "      <td>6463</td>\n",
       "      <td>0</td>\n",
       "    </tr>\n",
       "    <tr>\n",
       "      <th>4</th>\n",
       "      <td>1600000</td>\n",
       "      <td>0</td>\n",
       "    </tr>\n",
       "    <tr>\n",
       "      <th>...</th>\n",
       "      <td>...</td>\n",
       "      <td>...</td>\n",
       "    </tr>\n",
       "    <tr>\n",
       "      <th>614</th>\n",
       "      <td>14200000</td>\n",
       "      <td>1</td>\n",
       "    </tr>\n",
       "    <tr>\n",
       "      <th>615</th>\n",
       "      <td>1700000</td>\n",
       "      <td>0</td>\n",
       "    </tr>\n",
       "    <tr>\n",
       "      <th>616</th>\n",
       "      <td>411700</td>\n",
       "      <td>0</td>\n",
       "    </tr>\n",
       "    <tr>\n",
       "      <th>617</th>\n",
       "      <td>2700000</td>\n",
       "      <td>0</td>\n",
       "    </tr>\n",
       "    <tr>\n",
       "      <th>618</th>\n",
       "      <td>1900000</td>\n",
       "      <td>0</td>\n",
       "    </tr>\n",
       "  </tbody>\n",
       "</table>\n",
       "<p>619 rows × 2 columns</p>\n",
       "</div>"
      ],
      "text/plain": [
       "        views  virality\n",
       "0        7674         0\n",
       "1        3434         0\n",
       "2      121300         0\n",
       "3        6463         0\n",
       "4     1600000         0\n",
       "..        ...       ...\n",
       "614  14200000         1\n",
       "615   1700000         0\n",
       "616    411700         0\n",
       "617   2700000         0\n",
       "618   1900000         0\n",
       "\n",
       "[619 rows x 2 columns]"
      ]
     },
     "execution_count": 502,
     "metadata": {},
     "output_type": "execute_result"
    }
   ],
   "source": [
    "def get_virality(views_percentile):\n",
    "    if views_percentile >= 0.9:\n",
    "        return 1\n",
    "    else:\n",
    "        return 0\n",
    "\n",
    "mart_author['virality'] = mart_author['views'].rank(pct=True).apply(get_virality)\n",
    "mart_author[['views','virality']]"
   ]
  },
  {
   "cell_type": "code",
   "execution_count": 503,
   "id": "17c17458-565a-4830-803b-1f5ab3003bac",
   "metadata": {},
   "outputs": [
    {
     "data": {
      "text/plain": [
       "count    619.000000\n",
       "mean       0.081462\n",
       "std        0.053170\n",
       "min        0.000000\n",
       "25%        0.040402\n",
       "50%        0.071330\n",
       "75%        0.113065\n",
       "max        0.272437\n",
       "Name: engagement_rate, dtype: float64"
      ]
     },
     "execution_count": 503,
     "metadata": {},
     "output_type": "execute_result"
    }
   ],
   "source": [
    "mart_author['engagement_rate'].describe()"
   ]
  },
  {
   "cell_type": "code",
   "execution_count": 504,
   "id": "fc9cece9-a4a0-4a16-b2bb-8bda052795ac",
   "metadata": {},
   "outputs": [
    {
     "data": {
      "text/plain": [
       "<Axes: >"
      ]
     },
     "execution_count": 504,
     "metadata": {},
     "output_type": "execute_result"
    },
    {
     "data": {
      "image/png": "[encoded data removed]",
      "text/plain": [
       "<Figure size 640x480 with 1 Axes>"
      ]
     },
     "metadata": {},
     "output_type": "display_data"
    }
   ],
   "source": [
    "mart_author['engagement_rate'].hist()"
   ]
  },
  {
   "cell_type": "code",
   "execution_count": 505,
   "id": "60d43ca6-bd5b-47ec-85a5-424502437af5",
   "metadata": {},
   "outputs": [
    {
     "data": {
      "text/html": [
       "<div>\n",
       "<style scoped>\n",
       "    .dataframe tbody tr th:only-of-type {\n",
       "        vertical-align: middle;\n",
       "    }\n",
       "\n",
       "    .dataframe tbody tr th {\n",
       "        vertical-align: top;\n",
       "    }\n",
       "\n",
       "    .dataframe thead th {\n",
       "        text-align: right;\n",
       "    }\n",
       "</style>\n",
       "<table border=\"1\" class=\"dataframe\">\n",
       "  <thead>\n",
       "    <tr style=\"text-align: right;\">\n",
       "      <th></th>\n",
       "      <th>engagement_rate</th>\n",
       "      <th>trending</th>\n",
       "    </tr>\n",
       "  </thead>\n",
       "  <tbody>\n",
       "    <tr>\n",
       "      <th>0</th>\n",
       "      <td>0.066719</td>\n",
       "      <td>0</td>\n",
       "    </tr>\n",
       "    <tr>\n",
       "      <th>1</th>\n",
       "      <td>0.030577</td>\n",
       "      <td>0</td>\n",
       "    </tr>\n",
       "    <tr>\n",
       "      <th>2</th>\n",
       "      <td>0.049555</td>\n",
       "      <td>0</td>\n",
       "    </tr>\n",
       "    <tr>\n",
       "      <th>3</th>\n",
       "      <td>0.075971</td>\n",
       "      <td>1</td>\n",
       "    </tr>\n",
       "    <tr>\n",
       "      <th>4</th>\n",
       "      <td>0.096744</td>\n",
       "      <td>1</td>\n",
       "    </tr>\n",
       "    <tr>\n",
       "      <th>...</th>\n",
       "      <td>...</td>\n",
       "      <td>...</td>\n",
       "    </tr>\n",
       "    <tr>\n",
       "      <th>614</th>\n",
       "      <td>0.047094</td>\n",
       "      <td>0</td>\n",
       "    </tr>\n",
       "    <tr>\n",
       "      <th>615</th>\n",
       "      <td>0.168145</td>\n",
       "      <td>1</td>\n",
       "    </tr>\n",
       "    <tr>\n",
       "      <th>616</th>\n",
       "      <td>0.030573</td>\n",
       "      <td>0</td>\n",
       "    </tr>\n",
       "    <tr>\n",
       "      <th>617</th>\n",
       "      <td>0.153374</td>\n",
       "      <td>1</td>\n",
       "    </tr>\n",
       "    <tr>\n",
       "      <th>618</th>\n",
       "      <td>0.247486</td>\n",
       "      <td>1</td>\n",
       "    </tr>\n",
       "  </tbody>\n",
       "</table>\n",
       "<p>619 rows × 2 columns</p>\n",
       "</div>"
      ],
      "text/plain": [
       "     engagement_rate  trending\n",
       "0           0.066719         0\n",
       "1           0.030577         0\n",
       "2           0.049555         0\n",
       "3           0.075971         1\n",
       "4           0.096744         1\n",
       "..               ...       ...\n",
       "614         0.047094         0\n",
       "615         0.168145         1\n",
       "616         0.030573         0\n",
       "617         0.153374         1\n",
       "618         0.247486         1\n",
       "\n",
       "[619 rows x 2 columns]"
      ]
     },
     "execution_count": 505,
     "metadata": {},
     "output_type": "execute_result"
    }
   ],
   "source": [
    "def get_trending(engagement_rate_percentile):\n",
    "    if engagement_rate_percentile >= 0.5:\n",
    "        return 1\n",
    "    else:\n",
    "        return 0\n",
    "\n",
    "mart_author['trending'] = mart_author['engagement_rate'].rank(pct=True).apply(get_trending)\n",
    "mart_author[['engagement_rate','trending']]"
   ]
  },
  {
   "cell_type": "markdown",
   "id": "8a37bdb5",
   "metadata": {},
   "source": [
    "### 🎯 2. Curate Classification Feature Set\n",
    "\n",
    "A focused feature set was created to maximize model explainability and minimize data leakage:\n",
    "- Creator-level metrics: `followers`, `videoscount`, `ads`\n",
    "- Content attributes: `duration_sec`\n",
    "- Content themes: `is_labubu`,`is_crybaby`, `is_hirono`, `is_skullpanda`,`is_unboxing`, `is_blindbox`, `is_recommendations`, `is_cute`,\n",
    "  \n",
    "All features are available **prior to post virality**, ensuring practical pre-publishing predictability."
   ]
  },
  {
   "cell_type": "code",
   "execution_count": 506,
   "id": "50a43865-36bb-43e8-97da-bd79e692e6ab",
   "metadata": {},
   "outputs": [
    {
     "data": {
      "text/plain": [
       "Index(['author', 'nickname', 'followers', 'videoscount', 'accounttype',\n",
       "       'accountstatus', 'sellerstatus', 'posturl', 'webvideourl', 'caption',\n",
       "       'ads', 'mute', 'likes', 'shares', 'views', 'comments', 'duration_sec',\n",
       "       'created_at', 'engagement_rate', 'like_rate', 'share_rate',\n",
       "       'comment_rate', 'is_labubu', 'is_skullpanda', 'is_crybaby', 'is_hirono',\n",
       "       'is_unboxing', 'is_blindbox', 'is_recommendation', 'is_cute',\n",
       "       'virality', 'trending'],\n",
       "      dtype='object')"
      ]
     },
     "execution_count": 506,
     "metadata": {},
     "output_type": "execute_result"
    }
   ],
   "source": [
    "mart_author.columns"
   ]
  },
  {
   "cell_type": "code",
   "execution_count": 507,
   "id": "6a5c777d-8a91-43f4-b97c-b392503febd9",
   "metadata": {},
   "outputs": [],
   "source": [
    "feature_name_cla = [\n",
    "    'followers',\n",
    "    'videoscount',\n",
    "    'ads',\n",
    "    'duration_sec',\n",
    "    'is_labubu',\n",
    "    'is_skullpanda',\n",
    "    'is_crybaby',\n",
    "    'is_hirono',\n",
    "    'is_unboxing',\n",
    "    'is_blindbox',\n",
    "    'is_recommendation',\n",
    "    'is_cute'\n",
    "]"
   ]
  },
  {
   "cell_type": "code",
   "execution_count": 508,
   "id": "054add50-955a-4e5e-843d-69c20641647f",
   "metadata": {},
   "outputs": [],
   "source": [
    "x_cla = mart_author[feature_name_cla]\n",
    "y_virality = mart_author['virality']\n",
    "y_trending = mart_author['trending']"
   ]
  },
  {
   "cell_type": "markdown",
   "id": "cf843853",
   "metadata": {},
   "source": [
    "### ✂️ 3. Train-Test Split & Baseline Logistic Regression\n",
    "\n",
    "- Data was split into **70% training** and **30% testing** using `train_test_split`.\n",
    "- Initial Logistic Regression was applied to predict virality.\n",
    "- **Severe class imbalance** was observed due to low proportion of viral posts."
   ]
  },
  {
   "cell_type": "code",
   "execution_count": 509,
   "id": "65a78dbc-0531-492c-b6d0-e4b749038682",
   "metadata": {},
   "outputs": [],
   "source": [
    "x_cla_train, x_cla_test, y_virality_train, y_virality_test = train_test_split(x_cla, y_virality, test_size = 0.3, random_state = 42)"
   ]
  },
  {
   "cell_type": "code",
   "execution_count": 510,
   "id": "37d75407-d627-4f9c-ab0c-8b5bbe90a400",
   "metadata": {},
   "outputs": [],
   "source": [
    "x_cla_train[['followers','videoscount','duration_sec']] = sc.fit_transform(x_cla_train[['followers','videoscount','duration_sec']].apply(np.log1p))\n",
    "x_cla_test[['followers','videoscount','duration_sec']] = sc.transform(x_cla_test[['followers','videoscount','duration_sec']].apply(np.log1p))\n",
    "x_cla_train['ads'] = le.fit_transform(x_cla_train['ads'])\n",
    "x_cla_test['ads'] = le.transform(x_cla_test['ads'])"
   ]
  },
  {
   "cell_type": "code",
   "execution_count": 511,
   "id": "aa054b82-9f9c-4a7c-b8cb-87596ca4d7b2",
   "metadata": {},
   "outputs": [
    {
     "data": {
      "text/html": [
       "<style>#sk-container-id-40 {color: black;background-color: white;}#sk-container-id-40 pre{padding: 0;}#sk-container-id-40 div.sk-toggleable {background-color: white;}#sk-container-id-40 label.sk-toggleable__label {cursor: pointer;display: block;width: 100%;margin-bottom: 0;padding: 0.3em;box-sizing: border-box;text-align: center;}#sk-container-id-40 label.sk-toggleable__label-arrow:before {content: \"▸\";float: left;margin-right: 0.25em;color: #696969;}#sk-container-id-40 label.sk-toggleable__label-arrow:hover:before {color: black;}#sk-container-id-40 div.sk-estimator:hover label.sk-toggleable__label-arrow:before {color: black;}#sk-container-id-40 div.sk-toggleable__content {max-height: 0;max-width: 0;overflow: hidden;text-align: left;background-color: #f0f8ff;}#sk-container-id-40 div.sk-toggleable__content pre {margin: 0.2em;color: black;border-radius: 0.25em;background-color: #f0f8ff;}#sk-container-id-40 input.sk-toggleable__control:checked~div.sk-toggleable__content {max-height: 200px;max-width: 100%;overflow: auto;}#sk-container-id-40 input.sk-toggleable__control:checked~label.sk-toggleable__label-arrow:before {content: \"▾\";}#sk-container-id-40 div.sk-estimator input.sk-toggleable__control:checked~label.sk-toggleable__label {background-color: #d4ebff;}#sk-container-id-40 div.sk-label input.sk-toggleable__control:checked~label.sk-toggleable__label {background-color: #d4ebff;}#sk-container-id-40 input.sk-hidden--visually {border: 0;clip: rect(1px 1px 1px 1px);clip: rect(1px, 1px, 1px, 1px);height: 1px;margin: -1px;overflow: hidden;padding: 0;position: absolute;width: 1px;}#sk-container-id-40 div.sk-estimator {font-family: monospace;background-color: #f0f8ff;border: 1px dotted black;border-radius: 0.25em;box-sizing: border-box;margin-bottom: 0.5em;}#sk-container-id-40 div.sk-estimator:hover {background-color: #d4ebff;}#sk-container-id-40 div.sk-parallel-item::after {content: \"\";width: 100%;border-bottom: 1px solid gray;flex-grow: 1;}#sk-container-id-40 div.sk-label:hover label.sk-toggleable__label {background-color: #d4ebff;}#sk-container-id-40 div.sk-serial::before {content: \"\";position: absolute;border-left: 1px solid gray;box-sizing: border-box;top: 0;bottom: 0;left: 50%;z-index: 0;}#sk-container-id-40 div.sk-serial {display: flex;flex-direction: column;align-items: center;background-color: white;padding-right: 0.2em;padding-left: 0.2em;position: relative;}#sk-container-id-40 div.sk-item {position: relative;z-index: 1;}#sk-container-id-40 div.sk-parallel {display: flex;align-items: stretch;justify-content: center;background-color: white;position: relative;}#sk-container-id-40 div.sk-item::before, #sk-container-id-40 div.sk-parallel-item::before {content: \"\";position: absolute;border-left: 1px solid gray;box-sizing: border-box;top: 0;bottom: 0;left: 50%;z-index: -1;}#sk-container-id-40 div.sk-parallel-item {display: flex;flex-direction: column;z-index: 1;position: relative;background-color: white;}#sk-container-id-40 div.sk-parallel-item:first-child::after {align-self: flex-end;width: 50%;}#sk-container-id-40 div.sk-parallel-item:last-child::after {align-self: flex-start;width: 50%;}#sk-container-id-40 div.sk-parallel-item:only-child::after {width: 0;}#sk-container-id-40 div.sk-dashed-wrapped {border: 1px dashed gray;margin: 0 0.4em 0.5em 0.4em;box-sizing: border-box;padding-bottom: 0.4em;background-color: white;}#sk-container-id-40 div.sk-label label {font-family: monospace;font-weight: bold;display: inline-block;line-height: 1.2em;}#sk-container-id-40 div.sk-label-container {text-align: center;}#sk-container-id-40 div.sk-container {/* jupyter's `normalize.less` sets `[hidden] { display: none; }` but bootstrap.min.css set `[hidden] { display: none !important; }` so we also need the `!important` here to be able to override the default hidden behavior on the sphinx rendered scikit-learn.org. See: https://github.com/scikit-learn/scikit-learn/issues/21755 */display: inline-block !important;position: relative;}#sk-container-id-40 div.sk-text-repr-fallback {display: none;}</style><div id=\"sk-container-id-40\" class=\"sk-top-container\"><div class=\"sk-text-repr-fallback\"><pre>LogisticRegression()</pre><b>In a Jupyter environment, please rerun this cell to show the HTML representation or trust the notebook. <br />On GitHub, the HTML representation is unable to render, please try loading this page with nbviewer.org.</b></div><div class=\"sk-container\" hidden><div class=\"sk-item\"><div class=\"sk-estimator sk-toggleable\"><input class=\"sk-toggleable__control sk-hidden--visually\" id=\"sk-estimator-id-56\" type=\"checkbox\" checked><label for=\"sk-estimator-id-56\" class=\"sk-toggleable__label sk-toggleable__label-arrow\">LogisticRegression</label><div class=\"sk-toggleable__content\"><pre>LogisticRegression()</pre></div></div></div></div></div>"
      ],
      "text/plain": [
       "LogisticRegression()"
      ]
     },
     "execution_count": 511,
     "metadata": {},
     "output_type": "execute_result"
    }
   ],
   "source": [
    "logit_virality = LogisticRegression()\n",
    "logit_virality.fit(x_cla_train, y_virality_train)"
   ]
  },
  {
   "cell_type": "code",
   "execution_count": 512,
   "id": "5a6149b0-cf4a-4d0f-b8ec-7861bab7816a",
   "metadata": {},
   "outputs": [],
   "source": [
    "logit_virality_pred = logit_virality.predict(x_cla_test)\n",
    "logit_virality_prob = logit_virality.predict_proba(x_cla_test)[:,1]"
   ]
  },
  {
   "cell_type": "code",
   "execution_count": 513,
   "id": "766bc9c6-0b72-4ba8-8055-b3e560a820b4",
   "metadata": {},
   "outputs": [
    {
     "name": "stdout",
     "output_type": "stream",
     "text": [
      "Accuracy:            0.9193548387096774\n",
      "Precision:           0.0\n",
      "Recall:              0.0\n",
      "F1 Score:            0.0\n",
      "ROC AUC:             0.6393762183235868\n"
     ]
    },
    {
     "name": "stderr",
     "output_type": "stream",
     "text": [
      "C:\\ProgramData\\anaconda3\\Lib\\site-packages\\sklearn\\metrics\\_classification.py:1344: UndefinedMetricWarning: Precision is ill-defined and being set to 0.0 due to no predicted samples. Use `zero_division` parameter to control this behavior.\n",
      "  _warn_prf(average, modifier, msg_start, len(result))\n"
     ]
    }
   ],
   "source": [
    "# 2. Compute and print binary‐classification metrics\n",
    "print(\"Accuracy:           \", accuracy_score(y_virality_test, logit_virality_pred))\n",
    "print(\"Precision:          \", precision_score(y_virality_test, logit_virality_pred))\n",
    "print(\"Recall:             \", recall_score(y_virality_test, logit_virality_pred))\n",
    "print(\"F1 Score:           \", f1_score(y_virality_test, logit_virality_pred))\n",
    "print(\"ROC AUC:            \", roc_auc_score(y_virality_test, logit_virality_prob))"
   ]
  },
  {
   "cell_type": "markdown",
   "id": "02227d89",
   "metadata": {},
   "source": [
    "🛠️ **Imbalance Handling**\n",
    "- Applied **SMOTE (Synthetic Minority Oversampling Technique)** on the training set to oversample the minority (viral) class.\n",
    "- Re-trained the logistic regression model on the balanced dataset to improve recall."
   ]
  },
  {
   "cell_type": "code",
   "execution_count": 514,
   "id": "f562d101-cd87-4093-8224-e450d79f44ba",
   "metadata": {},
   "outputs": [
    {
     "data": {
      "text/plain": [
       "virality\n",
       "0    386\n",
       "1     47\n",
       "Name: count, dtype: int64"
      ]
     },
     "execution_count": 514,
     "metadata": {},
     "output_type": "execute_result"
    }
   ],
   "source": [
    "y_virality_train.value_counts()"
   ]
  },
  {
   "cell_type": "code",
   "execution_count": 515,
   "id": "46715196-6a3b-4e4b-a4f4-ccd8f7dc12ff",
   "metadata": {},
   "outputs": [],
   "source": [
    "from imblearn.over_sampling import SMOTE"
   ]
  },
  {
   "cell_type": "code",
   "execution_count": 516,
   "id": "c6882561-1160-4075-84b9-ec78611ca390",
   "metadata": {},
   "outputs": [],
   "source": [
    "smote = SMOTE(\n",
    "    sampling_strategy = 'auto',\n",
    "    random_state = 42\n",
    ")\n",
    "\n",
    "x_cla_train_sm, y_virality_train_sm = smote.fit_resample(x_cla_train, y_virality_train)"
   ]
  },
  {
   "cell_type": "code",
   "execution_count": 517,
   "id": "cd546f8d-91d4-44e1-a2dc-78528bd4aa39",
   "metadata": {},
   "outputs": [
    {
     "data": {
      "text/plain": [
       "(772, 12)"
      ]
     },
     "execution_count": 517,
     "metadata": {},
     "output_type": "execute_result"
    }
   ],
   "source": [
    "x_cla_train_sm.shape"
   ]
  },
  {
   "cell_type": "code",
   "execution_count": 518,
   "id": "7da9ddb1-d8f4-4d33-96ca-20d5ce09b1b6",
   "metadata": {},
   "outputs": [
    {
     "data": {
      "text/plain": [
       "(772,)"
      ]
     },
     "execution_count": 518,
     "metadata": {},
     "output_type": "execute_result"
    }
   ],
   "source": [
    "y_virality_train_sm.shape"
   ]
  },
  {
   "cell_type": "code",
   "execution_count": 519,
   "id": "8d40fc28-540f-4524-a402-0d02604439f7",
   "metadata": {},
   "outputs": [
    {
     "data": {
      "text/html": [
       "<style>#sk-container-id-41 {color: black;background-color: white;}#sk-container-id-41 pre{padding: 0;}#sk-container-id-41 div.sk-toggleable {background-color: white;}#sk-container-id-41 label.sk-toggleable__label {cursor: pointer;display: block;width: 100%;margin-bottom: 0;padding: 0.3em;box-sizing: border-box;text-align: center;}#sk-container-id-41 label.sk-toggleable__label-arrow:before {content: \"▸\";float: left;margin-right: 0.25em;color: #696969;}#sk-container-id-41 label.sk-toggleable__label-arrow:hover:before {color: black;}#sk-container-id-41 div.sk-estimator:hover label.sk-toggleable__label-arrow:before {color: black;}#sk-container-id-41 div.sk-toggleable__content {max-height: 0;max-width: 0;overflow: hidden;text-align: left;background-color: #f0f8ff;}#sk-container-id-41 div.sk-toggleable__content pre {margin: 0.2em;color: black;border-radius: 0.25em;background-color: #f0f8ff;}#sk-container-id-41 input.sk-toggleable__control:checked~div.sk-toggleable__content {max-height: 200px;max-width: 100%;overflow: auto;}#sk-container-id-41 input.sk-toggleable__control:checked~label.sk-toggleable__label-arrow:before {content: \"▾\";}#sk-container-id-41 div.sk-estimator input.sk-toggleable__control:checked~label.sk-toggleable__label {background-color: #d4ebff;}#sk-container-id-41 div.sk-label input.sk-toggleable__control:checked~label.sk-toggleable__label {background-color: #d4ebff;}#sk-container-id-41 input.sk-hidden--visually {border: 0;clip: rect(1px 1px 1px 1px);clip: rect(1px, 1px, 1px, 1px);height: 1px;margin: -1px;overflow: hidden;padding: 0;position: absolute;width: 1px;}#sk-container-id-41 div.sk-estimator {font-family: monospace;background-color: #f0f8ff;border: 1px dotted black;border-radius: 0.25em;box-sizing: border-box;margin-bottom: 0.5em;}#sk-container-id-41 div.sk-estimator:hover {background-color: #d4ebff;}#sk-container-id-41 div.sk-parallel-item::after {content: \"\";width: 100%;border-bottom: 1px solid gray;flex-grow: 1;}#sk-container-id-41 div.sk-label:hover label.sk-toggleable__label {background-color: #d4ebff;}#sk-container-id-41 div.sk-serial::before {content: \"\";position: absolute;border-left: 1px solid gray;box-sizing: border-box;top: 0;bottom: 0;left: 50%;z-index: 0;}#sk-container-id-41 div.sk-serial {display: flex;flex-direction: column;align-items: center;background-color: white;padding-right: 0.2em;padding-left: 0.2em;position: relative;}#sk-container-id-41 div.sk-item {position: relative;z-index: 1;}#sk-container-id-41 div.sk-parallel {display: flex;align-items: stretch;justify-content: center;background-color: white;position: relative;}#sk-container-id-41 div.sk-item::before, #sk-container-id-41 div.sk-parallel-item::before {content: \"\";position: absolute;border-left: 1px solid gray;box-sizing: border-box;top: 0;bottom: 0;left: 50%;z-index: -1;}#sk-container-id-41 div.sk-parallel-item {display: flex;flex-direction: column;z-index: 1;position: relative;background-color: white;}#sk-container-id-41 div.sk-parallel-item:first-child::after {align-self: flex-end;width: 50%;}#sk-container-id-41 div.sk-parallel-item:last-child::after {align-self: flex-start;width: 50%;}#sk-container-id-41 div.sk-parallel-item:only-child::after {width: 0;}#sk-container-id-41 div.sk-dashed-wrapped {border: 1px dashed gray;margin: 0 0.4em 0.5em 0.4em;box-sizing: border-box;padding-bottom: 0.4em;background-color: white;}#sk-container-id-41 div.sk-label label {font-family: monospace;font-weight: bold;display: inline-block;line-height: 1.2em;}#sk-container-id-41 div.sk-label-container {text-align: center;}#sk-container-id-41 div.sk-container {/* jupyter's `normalize.less` sets `[hidden] { display: none; }` but bootstrap.min.css set `[hidden] { display: none !important; }` so we also need the `!important` here to be able to override the default hidden behavior on the sphinx rendered scikit-learn.org. See: https://github.com/scikit-learn/scikit-learn/issues/21755 */display: inline-block !important;position: relative;}#sk-container-id-41 div.sk-text-repr-fallback {display: none;}</style><div id=\"sk-container-id-41\" class=\"sk-top-container\"><div class=\"sk-text-repr-fallback\"><pre>LogisticRegression(class_weight=&#x27;balanced&#x27;)</pre><b>In a Jupyter environment, please rerun this cell to show the HTML representation or trust the notebook. <br />On GitHub, the HTML representation is unable to render, please try loading this page with nbviewer.org.</b></div><div class=\"sk-container\" hidden><div class=\"sk-item\"><div class=\"sk-estimator sk-toggleable\"><input class=\"sk-toggleable__control sk-hidden--visually\" id=\"sk-estimator-id-57\" type=\"checkbox\" checked><label for=\"sk-estimator-id-57\" class=\"sk-toggleable__label sk-toggleable__label-arrow\">LogisticRegression</label><div class=\"sk-toggleable__content\"><pre>LogisticRegression(class_weight=&#x27;balanced&#x27;)</pre></div></div></div></div></div>"
      ],
      "text/plain": [
       "LogisticRegression(class_weight='balanced')"
      ]
     },
     "execution_count": 519,
     "metadata": {},
     "output_type": "execute_result"
    }
   ],
   "source": [
    "logit_virality_sm = LogisticRegression(class_weight='balanced')\n",
    "logit_virality_sm.fit(x_cla_train_sm, y_virality_train_sm)"
   ]
  },
  {
   "cell_type": "code",
   "execution_count": 520,
   "id": "974a385d-e428-4f89-9532-5b11e780b5a5",
   "metadata": {},
   "outputs": [],
   "source": [
    "logit_virality_sm_pred = logit_virality_sm.predict(x_cla_test)\n",
    "logit_virality_sm_prob = logit_virality_sm.predict_proba(x_cla_test)[:,1]"
   ]
  },
  {
   "cell_type": "code",
   "execution_count": 521,
   "id": "46148db2-d181-43e3-9111-96078c979bf5",
   "metadata": {},
   "outputs": [
    {
     "name": "stdout",
     "output_type": "stream",
     "text": [
      "Accuracy:            0.6881720430107527\n",
      "Precision:           0.12280701754385964\n",
      "Recall:              0.4666666666666667\n",
      "F1 Score:            0.19444444444444442\n",
      "ROC AUC:             0.6475633528265107\n"
     ]
    }
   ],
   "source": [
    "# 2. Compute and print binary‐classification metrics\n",
    "print(\"Accuracy:           \", accuracy_score(y_virality_test, logit_virality_sm_pred))\n",
    "print(\"Precision:          \", precision_score(y_virality_test, logit_virality_sm_pred))\n",
    "print(\"Recall:             \", recall_score(y_virality_test, logit_virality_sm_pred))\n",
    "print(\"F1 Score:           \", f1_score(y_virality_test, logit_virality_sm_pred))\n",
    "print(\"ROC AUC:            \", roc_auc_score(y_virality_test, logit_virality_sm_prob))"
   ]
  },
  {
   "cell_type": "code",
   "execution_count": 522,
   "id": "220be4c5-8de5-471e-b82f-407f94752a44",
   "metadata": {},
   "outputs": [
    {
     "data": {
      "text/plain": [
       "<sklearn.metrics._plot.confusion_matrix.ConfusionMatrixDisplay at 0x1a7ee9404d0>"
      ]
     },
     "execution_count": 522,
     "metadata": {},
     "output_type": "execute_result"
    },
    {
     "data": {
      "image/png": "[encoded data removed]",
      "text/plain": [
       "<Figure size 640x480 with 2 Axes>"
      ]
     },
     "metadata": {},
     "output_type": "display_data"
    }
   ],
   "source": [
    "from sklearn.metrics import ConfusionMatrixDisplay\n",
    "cm_virality = confusion_matrix(y_virality_test, logit_virality_sm_pred)\n",
    "cmd = ConfusionMatrixDisplay(confusion_matrix = cm_virality,\n",
    "                             display_labels = logit_virality_sm.classes_)\n",
    "cmd.plot(cmap='Blues')"
   ]
  },
  {
   "cell_type": "markdown",
   "id": "0dac881f",
   "metadata": {},
   "source": [
    "### 📈 4. Logistic Regression Evaluation\n",
    "\n",
    "#### 🔢 Model Metrics:\n",
    "- Accuracy, Precision, Recall, F1 Score, and ROC-AUC were calculated.\n",
    "- **Confusion Matrix** was plotted to show TP, FP, FN, TN distributions."
   ]
  },
  {
   "cell_type": "code",
   "execution_count": 523,
   "id": "d51f5185-7de9-4ae8-9b5c-b31df97ff1d7",
   "metadata": {},
   "outputs": [
    {
     "data": {
      "text/plain": [
       "array([ 1.3008342 , -0.54356007,  1.16884165,  0.30236829,  1.12551042,\n",
       "       -2.31281923, -1.26060553, -2.09062119, -0.19907986, -0.31515517,\n",
       "       -0.15838788, -1.4833293 ])"
      ]
     },
     "execution_count": 523,
     "metadata": {},
     "output_type": "execute_result"
    }
   ],
   "source": [
    "logit_virality_coefs = logit_virality_sm.coef_[0]\n",
    "logit_virality_coefs"
   ]
  },
  {
   "cell_type": "markdown",
   "id": "e81eb572",
   "metadata": {},
   "source": [
    "#### 📊 Feature Importance:\n",
    "Two methods were used to interpret feature weights:\n",
    "- **Min-Max Normalization**: Rescales all coefficients to range [0, 1] for easier comparison.\n",
    "- **Proportional Contribution**: Scales importance as percentage of total weight contribution.\n",
    "\n",
    "This helped uncover high-impact features like `followers`, `ads`, and `is_labubu`."
   ]
  },
  {
   "cell_type": "code",
   "execution_count": 524,
   "id": "a0f1f9a9-928a-4eac-af58-7942aa725e4f",
   "metadata": {},
   "outputs": [],
   "source": [
    "logit_virality_feature_imp_prop = np.abs(logit_virality_coefs) / np.abs(logit_virality_coefs).sum()\n",
    "logit_virality_feature_imp_minmax = (np.abs(logit_virality_coefs) - np.abs(logit_virality_coefs).min()) / (np.abs(logit_virality_coefs).max() - np.abs(logit_virality_coefs).min())"
   ]
  },
  {
   "cell_type": "code",
   "execution_count": 525,
   "id": "51384ff7-4066-49df-a384-6ecfd24444d9",
   "metadata": {},
   "outputs": [
    {
     "data": {
      "text/plain": [
       "array([0.1060943 , 0.04433203, 0.09532917, 0.02466075, 0.09179513,\n",
       "       0.18863045, 0.1028133 , 0.17050828, 0.01623669, 0.02570364,\n",
       "       0.0129179 , 0.12097836])"
      ]
     },
     "execution_count": 525,
     "metadata": {},
     "output_type": "execute_result"
    }
   ],
   "source": [
    "logit_virality_feature_imp_prop"
   ]
  },
  {
   "cell_type": "code",
   "execution_count": 526,
   "id": "965b99fd-8681-438d-8210-9ce7d8ad4333",
   "metadata": {},
   "outputs": [
    {
     "data": {
      "text/plain": [
       "array([0.53027743, 0.17878137, 0.46901182, 0.06682989, 0.44889922,\n",
       "       1.        , 0.51160491, 0.89686465, 0.01888757, 0.07276504,\n",
       "       0.        , 0.61498428])"
      ]
     },
     "execution_count": 526,
     "metadata": {},
     "output_type": "execute_result"
    }
   ],
   "source": [
    "logit_virality_feature_imp_minmax"
   ]
  },
  {
   "cell_type": "code",
   "execution_count": 527,
   "id": "cdc0917e-e44e-44e0-92e5-cb4bdb3b87ff",
   "metadata": {},
   "outputs": [
    {
     "data": {
      "text/html": [
       "<div>\n",
       "<style scoped>\n",
       "    .dataframe tbody tr th:only-of-type {\n",
       "        vertical-align: middle;\n",
       "    }\n",
       "\n",
       "    .dataframe tbody tr th {\n",
       "        vertical-align: top;\n",
       "    }\n",
       "\n",
       "    .dataframe thead th {\n",
       "        text-align: right;\n",
       "    }\n",
       "</style>\n",
       "<table border=\"1\" class=\"dataframe\">\n",
       "  <thead>\n",
       "    <tr style=\"text-align: right;\">\n",
       "      <th></th>\n",
       "      <th>coefs</th>\n",
       "      <th>raw_coefs</th>\n",
       "      <th>Proportional_ImpScore</th>\n",
       "      <th>MinMax_ImpScore</th>\n",
       "    </tr>\n",
       "  </thead>\n",
       "  <tbody>\n",
       "    <tr>\n",
       "      <th>5</th>\n",
       "      <td>is_skullpanda</td>\n",
       "      <td>-2.312819</td>\n",
       "      <td>0.188630</td>\n",
       "      <td>1.000000</td>\n",
       "    </tr>\n",
       "    <tr>\n",
       "      <th>7</th>\n",
       "      <td>is_hirono</td>\n",
       "      <td>-2.090621</td>\n",
       "      <td>0.170508</td>\n",
       "      <td>0.896865</td>\n",
       "    </tr>\n",
       "    <tr>\n",
       "      <th>11</th>\n",
       "      <td>is_cute</td>\n",
       "      <td>-1.483329</td>\n",
       "      <td>0.120978</td>\n",
       "      <td>0.614984</td>\n",
       "    </tr>\n",
       "    <tr>\n",
       "      <th>0</th>\n",
       "      <td>followers</td>\n",
       "      <td>1.300834</td>\n",
       "      <td>0.106094</td>\n",
       "      <td>0.530277</td>\n",
       "    </tr>\n",
       "    <tr>\n",
       "      <th>6</th>\n",
       "      <td>is_crybaby</td>\n",
       "      <td>-1.260606</td>\n",
       "      <td>0.102813</td>\n",
       "      <td>0.511605</td>\n",
       "    </tr>\n",
       "    <tr>\n",
       "      <th>2</th>\n",
       "      <td>ads</td>\n",
       "      <td>1.168842</td>\n",
       "      <td>0.095329</td>\n",
       "      <td>0.469012</td>\n",
       "    </tr>\n",
       "    <tr>\n",
       "      <th>4</th>\n",
       "      <td>is_labubu</td>\n",
       "      <td>1.125510</td>\n",
       "      <td>0.091795</td>\n",
       "      <td>0.448899</td>\n",
       "    </tr>\n",
       "    <tr>\n",
       "      <th>1</th>\n",
       "      <td>videoscount</td>\n",
       "      <td>-0.543560</td>\n",
       "      <td>0.044332</td>\n",
       "      <td>0.178781</td>\n",
       "    </tr>\n",
       "    <tr>\n",
       "      <th>9</th>\n",
       "      <td>is_blindbox</td>\n",
       "      <td>-0.315155</td>\n",
       "      <td>0.025704</td>\n",
       "      <td>0.072765</td>\n",
       "    </tr>\n",
       "    <tr>\n",
       "      <th>3</th>\n",
       "      <td>duration_sec</td>\n",
       "      <td>0.302368</td>\n",
       "      <td>0.024661</td>\n",
       "      <td>0.066830</td>\n",
       "    </tr>\n",
       "    <tr>\n",
       "      <th>8</th>\n",
       "      <td>is_unboxing</td>\n",
       "      <td>-0.199080</td>\n",
       "      <td>0.016237</td>\n",
       "      <td>0.018888</td>\n",
       "    </tr>\n",
       "    <tr>\n",
       "      <th>10</th>\n",
       "      <td>is_recommendation</td>\n",
       "      <td>-0.158388</td>\n",
       "      <td>0.012918</td>\n",
       "      <td>0.000000</td>\n",
       "    </tr>\n",
       "  </tbody>\n",
       "</table>\n",
       "</div>"
      ],
      "text/plain": [
       "                coefs  raw_coefs  Proportional_ImpScore  MinMax_ImpScore\n",
       "5       is_skullpanda  -2.312819               0.188630         1.000000\n",
       "7           is_hirono  -2.090621               0.170508         0.896865\n",
       "11            is_cute  -1.483329               0.120978         0.614984\n",
       "0           followers   1.300834               0.106094         0.530277\n",
       "6          is_crybaby  -1.260606               0.102813         0.511605\n",
       "2                 ads   1.168842               0.095329         0.469012\n",
       "4           is_labubu   1.125510               0.091795         0.448899\n",
       "1         videoscount  -0.543560               0.044332         0.178781\n",
       "9         is_blindbox  -0.315155               0.025704         0.072765\n",
       "3        duration_sec   0.302368               0.024661         0.066830\n",
       "8         is_unboxing  -0.199080               0.016237         0.018888\n",
       "10  is_recommendation  -0.158388               0.012918         0.000000"
      ]
     },
     "execution_count": 527,
     "metadata": {},
     "output_type": "execute_result"
    }
   ],
   "source": [
    "logit_virality_coefs_imp = pd.DataFrame(\n",
    "    {\n",
    "        'coefs':feature_name_cla,\n",
    "        'raw_coefs':logit_virality_coefs,\n",
    "        'Proportional_ImpScore':logit_virality_feature_imp_prop,\n",
    "        'MinMax_ImpScore':logit_virality_feature_imp_minmax\n",
    "    }\n",
    ")\n",
    "\n",
    "logit_virality_coefs_imp.sort_values('MinMax_ImpScore', ascending=False)"
   ]
  },
  {
   "cell_type": "markdown",
   "id": "e67187aa",
   "metadata": {},
   "source": [
    "### 🌲 5. Tune Decision Tree & Random Forest Classifiers\n",
    "\n",
    "- Used **GridSearchCV** to optimize hyperparameters (`max_depth`, `min_samples_split`, `min_samples_leaf`, `n_estimators` etc.).\n",
    "- The models were **refit using `recall` as the scoring metric**, reflecting business preference to **not miss** viral content.\n",
    "- Best models were stored and later compared across both virality and trending outcomes."
   ]
  },
  {
   "cell_type": "code",
   "execution_count": 528,
   "id": "212d031c-b926-49d6-ad84-bd98edbc02e5",
   "metadata": {},
   "outputs": [],
   "source": [
    "dtc = DecisionTreeClassifier()\n",
    "\n",
    "params_grid = {\n",
    "    'max_depth':[None, 5, 10, 20],\n",
    "    'min_samples_split':[2, 5, 10],\n",
    "    'min_samples_leaf': [1, 2, 4]\n",
    "}\n",
    "\n",
    "dtc_grid = GridSearchCV(\n",
    "    estimator=dtc,\n",
    "    param_grid=params_grid,\n",
    "    cv=5,\n",
    "    scoring='recall',\n",
    "    n_jobs=1,\n",
    "    verbose=1\n",
    ")"
   ]
  },
  {
   "cell_type": "code",
   "execution_count": 529,
   "id": "77b443b8-8c79-40cd-80dc-05b55a844973",
   "metadata": {},
   "outputs": [
    {
     "name": "stdout",
     "output_type": "stream",
     "text": [
      "Fitting 5 folds for each of 36 candidates, totalling 180 fits\n"
     ]
    },
    {
     "data": {
      "text/html": [
       "<style>#sk-container-id-42 {color: black;background-color: white;}#sk-container-id-42 pre{padding: 0;}#sk-container-id-42 div.sk-toggleable {background-color: white;}#sk-container-id-42 label.sk-toggleable__label {cursor: pointer;display: block;width: 100%;margin-bottom: 0;padding: 0.3em;box-sizing: border-box;text-align: center;}#sk-container-id-42 label.sk-toggleable__label-arrow:before {content: \"▸\";float: left;margin-right: 0.25em;color: #696969;}#sk-container-id-42 label.sk-toggleable__label-arrow:hover:before {color: black;}#sk-container-id-42 div.sk-estimator:hover label.sk-toggleable__label-arrow:before {color: black;}#sk-container-id-42 div.sk-toggleable__content {max-height: 0;max-width: 0;overflow: hidden;text-align: left;background-color: #f0f8ff;}#sk-container-id-42 div.sk-toggleable__content pre {margin: 0.2em;color: black;border-radius: 0.25em;background-color: #f0f8ff;}#sk-container-id-42 input.sk-toggleable__control:checked~div.sk-toggleable__content {max-height: 200px;max-width: 100%;overflow: auto;}#sk-container-id-42 input.sk-toggleable__control:checked~label.sk-toggleable__label-arrow:before {content: \"▾\";}#sk-container-id-42 div.sk-estimator input.sk-toggleable__control:checked~label.sk-toggleable__label {background-color: #d4ebff;}#sk-container-id-42 div.sk-label input.sk-toggleable__control:checked~label.sk-toggleable__label {background-color: #d4ebff;}#sk-container-id-42 input.sk-hidden--visually {border: 0;clip: rect(1px 1px 1px 1px);clip: rect(1px, 1px, 1px, 1px);height: 1px;margin: -1px;overflow: hidden;padding: 0;position: absolute;width: 1px;}#sk-container-id-42 div.sk-estimator {font-family: monospace;background-color: #f0f8ff;border: 1px dotted black;border-radius: 0.25em;box-sizing: border-box;margin-bottom: 0.5em;}#sk-container-id-42 div.sk-estimator:hover {background-color: #d4ebff;}#sk-container-id-42 div.sk-parallel-item::after {content: \"\";width: 100%;border-bottom: 1px solid gray;flex-grow: 1;}#sk-container-id-42 div.sk-label:hover label.sk-toggleable__label {background-color: #d4ebff;}#sk-container-id-42 div.sk-serial::before {content: \"\";position: absolute;border-left: 1px solid gray;box-sizing: border-box;top: 0;bottom: 0;left: 50%;z-index: 0;}#sk-container-id-42 div.sk-serial {display: flex;flex-direction: column;align-items: center;background-color: white;padding-right: 0.2em;padding-left: 0.2em;position: relative;}#sk-container-id-42 div.sk-item {position: relative;z-index: 1;}#sk-container-id-42 div.sk-parallel {display: flex;align-items: stretch;justify-content: center;background-color: white;position: relative;}#sk-container-id-42 div.sk-item::before, #sk-container-id-42 div.sk-parallel-item::before {content: \"\";position: absolute;border-left: 1px solid gray;box-sizing: border-box;top: 0;bottom: 0;left: 50%;z-index: -1;}#sk-container-id-42 div.sk-parallel-item {display: flex;flex-direction: column;z-index: 1;position: relative;background-color: white;}#sk-container-id-42 div.sk-parallel-item:first-child::after {align-self: flex-end;width: 50%;}#sk-container-id-42 div.sk-parallel-item:last-child::after {align-self: flex-start;width: 50%;}#sk-container-id-42 div.sk-parallel-item:only-child::after {width: 0;}#sk-container-id-42 div.sk-dashed-wrapped {border: 1px dashed gray;margin: 0 0.4em 0.5em 0.4em;box-sizing: border-box;padding-bottom: 0.4em;background-color: white;}#sk-container-id-42 div.sk-label label {font-family: monospace;font-weight: bold;display: inline-block;line-height: 1.2em;}#sk-container-id-42 div.sk-label-container {text-align: center;}#sk-container-id-42 div.sk-container {/* jupyter's `normalize.less` sets `[hidden] { display: none; }` but bootstrap.min.css set `[hidden] { display: none !important; }` so we also need the `!important` here to be able to override the default hidden behavior on the sphinx rendered scikit-learn.org. See: https://github.com/scikit-learn/scikit-learn/issues/21755 */display: inline-block !important;position: relative;}#sk-container-id-42 div.sk-text-repr-fallback {display: none;}</style><div id=\"sk-container-id-42\" class=\"sk-top-container\"><div class=\"sk-text-repr-fallback\"><pre>GridSearchCV(cv=5, estimator=DecisionTreeClassifier(), n_jobs=1,\n",
       "             param_grid={&#x27;max_depth&#x27;: [None, 5, 10, 20],\n",
       "                         &#x27;min_samples_leaf&#x27;: [1, 2, 4],\n",
       "                         &#x27;min_samples_split&#x27;: [2, 5, 10]},\n",
       "             scoring=&#x27;recall&#x27;, verbose=1)</pre><b>In a Jupyter environment, please rerun this cell to show the HTML representation or trust the notebook. <br />On GitHub, the HTML representation is unable to render, please try loading this page with nbviewer.org.</b></div><div class=\"sk-container\" hidden><div class=\"sk-item sk-dashed-wrapped\"><div class=\"sk-label-container\"><div class=\"sk-label sk-toggleable\"><input class=\"sk-toggleable__control sk-hidden--visually\" id=\"sk-estimator-id-58\" type=\"checkbox\" ><label for=\"sk-estimator-id-58\" class=\"sk-toggleable__label sk-toggleable__label-arrow\">GridSearchCV</label><div class=\"sk-toggleable__content\"><pre>GridSearchCV(cv=5, estimator=DecisionTreeClassifier(), n_jobs=1,\n",
       "             param_grid={&#x27;max_depth&#x27;: [None, 5, 10, 20],\n",
       "                         &#x27;min_samples_leaf&#x27;: [1, 2, 4],\n",
       "                         &#x27;min_samples_split&#x27;: [2, 5, 10]},\n",
       "             scoring=&#x27;recall&#x27;, verbose=1)</pre></div></div></div><div class=\"sk-parallel\"><div class=\"sk-parallel-item\"><div class=\"sk-item\"><div class=\"sk-label-container\"><div class=\"sk-label sk-toggleable\"><input class=\"sk-toggleable__control sk-hidden--visually\" id=\"sk-estimator-id-59\" type=\"checkbox\" ><label for=\"sk-estimator-id-59\" class=\"sk-toggleable__label sk-toggleable__label-arrow\">estimator: DecisionTreeClassifier</label><div class=\"sk-toggleable__content\"><pre>DecisionTreeClassifier()</pre></div></div></div><div class=\"sk-serial\"><div class=\"sk-item\"><div class=\"sk-estimator sk-toggleable\"><input class=\"sk-toggleable__control sk-hidden--visually\" id=\"sk-estimator-id-60\" type=\"checkbox\" ><label for=\"sk-estimator-id-60\" class=\"sk-toggleable__label sk-toggleable__label-arrow\">DecisionTreeClassifier</label><div class=\"sk-toggleable__content\"><pre>DecisionTreeClassifier()</pre></div></div></div></div></div></div></div></div></div></div>"
      ],
      "text/plain": [
       "GridSearchCV(cv=5, estimator=DecisionTreeClassifier(), n_jobs=1,\n",
       "             param_grid={'max_depth': [None, 5, 10, 20],\n",
       "                         'min_samples_leaf': [1, 2, 4],\n",
       "                         'min_samples_split': [2, 5, 10]},\n",
       "             scoring='recall', verbose=1)"
      ]
     },
     "execution_count": 529,
     "metadata": {},
     "output_type": "execute_result"
    }
   ],
   "source": [
    "dtc_grid.fit(x_cla_train_sm, y_virality_train_sm)"
   ]
  },
  {
   "cell_type": "code",
   "execution_count": 530,
   "id": "539a30c4-4f33-4eda-b8dd-c143070a3df1",
   "metadata": {},
   "outputs": [],
   "source": [
    "dtc_grid_virality_pred = dtc_grid.predict(x_cla_test)\n",
    "dtc_grid_virality_prob = dtc_grid.predict_proba(x_cla_test)[:,1]"
   ]
  },
  {
   "cell_type": "code",
   "execution_count": 531,
   "id": "f7c4f7e6-a84d-43e7-a1cc-21c05069c57a",
   "metadata": {},
   "outputs": [
    {
     "name": "stdout",
     "output_type": "stream",
     "text": [
      "Accuracy:            0.5\n",
      "Precision:           0.11\n",
      "Recall:              0.7333333333333333\n",
      "F1 Score:            0.19130434782608696\n",
      "ROC AUC:             0.6372319688109161\n"
     ]
    }
   ],
   "source": [
    "# 2. Compute and print binary‐classification metrics\n",
    "print(\"Accuracy:           \", accuracy_score(y_virality_test, dtc_grid_virality_pred))\n",
    "print(\"Precision:          \", precision_score(y_virality_test, dtc_grid_virality_pred))\n",
    "print(\"Recall:             \", recall_score(y_virality_test, dtc_grid_virality_pred))\n",
    "print(\"F1 Score:           \", f1_score(y_virality_test, dtc_grid_virality_pred))\n",
    "print(\"ROC AUC:            \", roc_auc_score(y_virality_test, dtc_grid_virality_prob))"
   ]
  },
  {
   "cell_type": "code",
   "execution_count": 532,
   "id": "aa661253-266c-4c0b-b970-795b663de4fc",
   "metadata": {},
   "outputs": [
    {
     "data": {
      "text/plain": [
       "<sklearn.metrics._plot.confusion_matrix.ConfusionMatrixDisplay at 0x1a7ed7a7450>"
      ]
     },
     "execution_count": 532,
     "metadata": {},
     "output_type": "execute_result"
    },
    {
     "data": {
      "image/png": "[encoded data removed]",
      "text/plain": [
       "<Figure size 640x480 with 2 Axes>"
      ]
     },
     "metadata": {},
     "output_type": "display_data"
    }
   ],
   "source": [
    "from sklearn.metrics import ConfusionMatrixDisplay\n",
    "cm_virality_dtc = confusion_matrix(y_virality_test, dtc_grid_virality_pred)\n",
    "cmd = ConfusionMatrixDisplay(confusion_matrix = cm_virality_dtc,\n",
    "                             display_labels = dtc_grid.classes_)\n",
    "cmd.plot(cmap='Blues')"
   ]
  },
  {
   "cell_type": "code",
   "execution_count": 533,
   "id": "532bb614-e9e4-4a18-82f4-2afda8d0c1cb",
   "metadata": {},
   "outputs": [
    {
     "data": {
      "text/plain": [
       "0.9558441558441558"
      ]
     },
     "execution_count": 533,
     "metadata": {},
     "output_type": "execute_result"
    }
   ],
   "source": [
    "dtc_grid.best_score_"
   ]
  },
  {
   "cell_type": "code",
   "execution_count": 534,
   "id": "3e99ed24-c3a3-4853-889f-1264c84dc9ad",
   "metadata": {},
   "outputs": [
    {
     "data": {
      "text/plain": [
       "{'max_depth': 5, 'min_samples_leaf': 1, 'min_samples_split': 2}"
      ]
     },
     "execution_count": 534,
     "metadata": {},
     "output_type": "execute_result"
    }
   ],
   "source": [
    "dtc_grid.best_params_"
   ]
  },
  {
   "cell_type": "code",
   "execution_count": 538,
   "id": "a908bfae-3b24-4d9d-a9a9-09b8f91c6e21",
   "metadata": {},
   "outputs": [
    {
     "data": {
      "text/html": [
       "<div>\n",
       "<style scoped>\n",
       "    .dataframe tbody tr th:only-of-type {\n",
       "        vertical-align: middle;\n",
       "    }\n",
       "\n",
       "    .dataframe tbody tr th {\n",
       "        vertical-align: top;\n",
       "    }\n",
       "\n",
       "    .dataframe thead th {\n",
       "        text-align: right;\n",
       "    }\n",
       "</style>\n",
       "<table border=\"1\" class=\"dataframe\">\n",
       "  <thead>\n",
       "    <tr style=\"text-align: right;\">\n",
       "      <th></th>\n",
       "      <th>coefs</th>\n",
       "      <th>feature_imp</th>\n",
       "    </tr>\n",
       "  </thead>\n",
       "  <tbody>\n",
       "    <tr>\n",
       "      <th>0</th>\n",
       "      <td>followers</td>\n",
       "      <td>0.642768</td>\n",
       "    </tr>\n",
       "    <tr>\n",
       "      <th>5</th>\n",
       "      <td>is_skullpanda</td>\n",
       "      <td>0.163576</td>\n",
       "    </tr>\n",
       "    <tr>\n",
       "      <th>1</th>\n",
       "      <td>videoscount</td>\n",
       "      <td>0.097701</td>\n",
       "    </tr>\n",
       "    <tr>\n",
       "      <th>7</th>\n",
       "      <td>is_hirono</td>\n",
       "      <td>0.081111</td>\n",
       "    </tr>\n",
       "    <tr>\n",
       "      <th>8</th>\n",
       "      <td>is_unboxing</td>\n",
       "      <td>0.007917</td>\n",
       "    </tr>\n",
       "    <tr>\n",
       "      <th>3</th>\n",
       "      <td>duration_sec</td>\n",
       "      <td>0.006928</td>\n",
       "    </tr>\n",
       "    <tr>\n",
       "      <th>2</th>\n",
       "      <td>ads</td>\n",
       "      <td>0.000000</td>\n",
       "    </tr>\n",
       "    <tr>\n",
       "      <th>4</th>\n",
       "      <td>is_labubu</td>\n",
       "      <td>0.000000</td>\n",
       "    </tr>\n",
       "    <tr>\n",
       "      <th>6</th>\n",
       "      <td>is_crybaby</td>\n",
       "      <td>0.000000</td>\n",
       "    </tr>\n",
       "    <tr>\n",
       "      <th>9</th>\n",
       "      <td>is_blindbox</td>\n",
       "      <td>0.000000</td>\n",
       "    </tr>\n",
       "    <tr>\n",
       "      <th>10</th>\n",
       "      <td>is_recommendation</td>\n",
       "      <td>0.000000</td>\n",
       "    </tr>\n",
       "    <tr>\n",
       "      <th>11</th>\n",
       "      <td>is_cute</td>\n",
       "      <td>0.000000</td>\n",
       "    </tr>\n",
       "  </tbody>\n",
       "</table>\n",
       "</div>"
      ],
      "text/plain": [
       "                coefs  feature_imp\n",
       "0           followers     0.642768\n",
       "5       is_skullpanda     0.163576\n",
       "1         videoscount     0.097701\n",
       "7           is_hirono     0.081111\n",
       "8         is_unboxing     0.007917\n",
       "3        duration_sec     0.006928\n",
       "2                 ads     0.000000\n",
       "4           is_labubu     0.000000\n",
       "6          is_crybaby     0.000000\n",
       "9         is_blindbox     0.000000\n",
       "10  is_recommendation     0.000000\n",
       "11            is_cute     0.000000"
      ]
     },
     "execution_count": 538,
     "metadata": {},
     "output_type": "execute_result"
    }
   ],
   "source": [
    "dtc_virality_feature_imp = dtc_grid.best_estimator_.feature_importances_\n",
    "dtc_virality_coefs_imp = pd.DataFrame(\n",
    "    {'coefs':feature_name_cla,\n",
    "     'feature_imp':dtc_virality_feature_imp\n",
    "    }\n",
    ")\n",
    "\n",
    "dtc_virality_coefs_imp.sort_values('feature_imp', ascending=False)"
   ]
  },
  {
   "cell_type": "code",
   "execution_count": 539,
   "id": "0c4ba1d6-cbd5-453a-9fa8-63b571c750d5",
   "metadata": {},
   "outputs": [],
   "source": [
    "param_grid = {\n",
    "    'n_estimators':     [100, 300, 500],\n",
    "    'max_depth':        [None, 5, 10, 20],\n",
    "    'min_samples_split':[2, 5, 10],\n",
    "    'min_samples_leaf': [1, 2, 4]\n",
    "}\n",
    "\n",
    "rfc = RandomForestClassifier()"
   ]
  },
  {
   "cell_type": "code",
   "execution_count": 540,
   "id": "4e6c7a05-1843-442d-9bba-51f6dbdc5313",
   "metadata": {},
   "outputs": [],
   "source": [
    "rfc_grid = GridSearchCV(\n",
    "    estimator=rfc,\n",
    "    param_grid=param_grid,\n",
    "    scoring='recall',    # optimize recall\n",
    "    cv=5,\n",
    "    n_jobs=1,           \n",
    "    verbose=1\n",
    ")"
   ]
  },
  {
   "cell_type": "code",
   "execution_count": 541,
   "id": "09051d62-e197-4e37-a7c3-8160a6e9fe47",
   "metadata": {},
   "outputs": [
    {
     "name": "stdout",
     "output_type": "stream",
     "text": [
      "Fitting 5 folds for each of 108 candidates, totalling 540 fits\n"
     ]
    },
    {
     "data": {
      "text/html": [
       "<style>#sk-container-id-43 {color: black;background-color: white;}#sk-container-id-43 pre{padding: 0;}#sk-container-id-43 div.sk-toggleable {background-color: white;}#sk-container-id-43 label.sk-toggleable__label {cursor: pointer;display: block;width: 100%;margin-bottom: 0;padding: 0.3em;box-sizing: border-box;text-align: center;}#sk-container-id-43 label.sk-toggleable__label-arrow:before {content: \"▸\";float: left;margin-right: 0.25em;color: #696969;}#sk-container-id-43 label.sk-toggleable__label-arrow:hover:before {color: black;}#sk-container-id-43 div.sk-estimator:hover label.sk-toggleable__label-arrow:before {color: black;}#sk-container-id-43 div.sk-toggleable__content {max-height: 0;max-width: 0;overflow: hidden;text-align: left;background-color: #f0f8ff;}#sk-container-id-43 div.sk-toggleable__content pre {margin: 0.2em;color: black;border-radius: 0.25em;background-color: #f0f8ff;}#sk-container-id-43 input.sk-toggleable__control:checked~div.sk-toggleable__content {max-height: 200px;max-width: 100%;overflow: auto;}#sk-container-id-43 input.sk-toggleable__control:checked~label.sk-toggleable__label-arrow:before {content: \"▾\";}#sk-container-id-43 div.sk-estimator input.sk-toggleable__control:checked~label.sk-toggleable__label {background-color: #d4ebff;}#sk-container-id-43 div.sk-label input.sk-toggleable__control:checked~label.sk-toggleable__label {background-color: #d4ebff;}#sk-container-id-43 input.sk-hidden--visually {border: 0;clip: rect(1px 1px 1px 1px);clip: rect(1px, 1px, 1px, 1px);height: 1px;margin: -1px;overflow: hidden;padding: 0;position: absolute;width: 1px;}#sk-container-id-43 div.sk-estimator {font-family: monospace;background-color: #f0f8ff;border: 1px dotted black;border-radius: 0.25em;box-sizing: border-box;margin-bottom: 0.5em;}#sk-container-id-43 div.sk-estimator:hover {background-color: #d4ebff;}#sk-container-id-43 div.sk-parallel-item::after {content: \"\";width: 100%;border-bottom: 1px solid gray;flex-grow: 1;}#sk-container-id-43 div.sk-label:hover label.sk-toggleable__label {background-color: #d4ebff;}#sk-container-id-43 div.sk-serial::before {content: \"\";position: absolute;border-left: 1px solid gray;box-sizing: border-box;top: 0;bottom: 0;left: 50%;z-index: 0;}#sk-container-id-43 div.sk-serial {display: flex;flex-direction: column;align-items: center;background-color: white;padding-right: 0.2em;padding-left: 0.2em;position: relative;}#sk-container-id-43 div.sk-item {position: relative;z-index: 1;}#sk-container-id-43 div.sk-parallel {display: flex;align-items: stretch;justify-content: center;background-color: white;position: relative;}#sk-container-id-43 div.sk-item::before, #sk-container-id-43 div.sk-parallel-item::before {content: \"\";position: absolute;border-left: 1px solid gray;box-sizing: border-box;top: 0;bottom: 0;left: 50%;z-index: -1;}#sk-container-id-43 div.sk-parallel-item {display: flex;flex-direction: column;z-index: 1;position: relative;background-color: white;}#sk-container-id-43 div.sk-parallel-item:first-child::after {align-self: flex-end;width: 50%;}#sk-container-id-43 div.sk-parallel-item:last-child::after {align-self: flex-start;width: 50%;}#sk-container-id-43 div.sk-parallel-item:only-child::after {width: 0;}#sk-container-id-43 div.sk-dashed-wrapped {border: 1px dashed gray;margin: 0 0.4em 0.5em 0.4em;box-sizing: border-box;padding-bottom: 0.4em;background-color: white;}#sk-container-id-43 div.sk-label label {font-family: monospace;font-weight: bold;display: inline-block;line-height: 1.2em;}#sk-container-id-43 div.sk-label-container {text-align: center;}#sk-container-id-43 div.sk-container {/* jupyter's `normalize.less` sets `[hidden] { display: none; }` but bootstrap.min.css set `[hidden] { display: none !important; }` so we also need the `!important` here to be able to override the default hidden behavior on the sphinx rendered scikit-learn.org. See: https://github.com/scikit-learn/scikit-learn/issues/21755 */display: inline-block !important;position: relative;}#sk-container-id-43 div.sk-text-repr-fallback {display: none;}</style><div id=\"sk-container-id-43\" class=\"sk-top-container\"><div class=\"sk-text-repr-fallback\"><pre>GridSearchCV(cv=5, estimator=RandomForestClassifier(), n_jobs=1,\n",
       "             param_grid={&#x27;max_depth&#x27;: [None, 5, 10, 20],\n",
       "                         &#x27;min_samples_leaf&#x27;: [1, 2, 4],\n",
       "                         &#x27;min_samples_split&#x27;: [2, 5, 10],\n",
       "                         &#x27;n_estimators&#x27;: [100, 300, 500]},\n",
       "             scoring=&#x27;recall&#x27;, verbose=1)</pre><b>In a Jupyter environment, please rerun this cell to show the HTML representation or trust the notebook. <br />On GitHub, the HTML representation is unable to render, please try loading this page with nbviewer.org.</b></div><div class=\"sk-container\" hidden><div class=\"sk-item sk-dashed-wrapped\"><div class=\"sk-label-container\"><div class=\"sk-label sk-toggleable\"><input class=\"sk-toggleable__control sk-hidden--visually\" id=\"sk-estimator-id-61\" type=\"checkbox\" ><label for=\"sk-estimator-id-61\" class=\"sk-toggleable__label sk-toggleable__label-arrow\">GridSearchCV</label><div class=\"sk-toggleable__content\"><pre>GridSearchCV(cv=5, estimator=RandomForestClassifier(), n_jobs=1,\n",
       "             param_grid={&#x27;max_depth&#x27;: [None, 5, 10, 20],\n",
       "                         &#x27;min_samples_leaf&#x27;: [1, 2, 4],\n",
       "                         &#x27;min_samples_split&#x27;: [2, 5, 10],\n",
       "                         &#x27;n_estimators&#x27;: [100, 300, 500]},\n",
       "             scoring=&#x27;recall&#x27;, verbose=1)</pre></div></div></div><div class=\"sk-parallel\"><div class=\"sk-parallel-item\"><div class=\"sk-item\"><div class=\"sk-label-container\"><div class=\"sk-label sk-toggleable\"><input class=\"sk-toggleable__control sk-hidden--visually\" id=\"sk-estimator-id-62\" type=\"checkbox\" ><label for=\"sk-estimator-id-62\" class=\"sk-toggleable__label sk-toggleable__label-arrow\">estimator: RandomForestClassifier</label><div class=\"sk-toggleable__content\"><pre>RandomForestClassifier()</pre></div></div></div><div class=\"sk-serial\"><div class=\"sk-item\"><div class=\"sk-estimator sk-toggleable\"><input class=\"sk-toggleable__control sk-hidden--visually\" id=\"sk-estimator-id-63\" type=\"checkbox\" ><label for=\"sk-estimator-id-63\" class=\"sk-toggleable__label sk-toggleable__label-arrow\">RandomForestClassifier</label><div class=\"sk-toggleable__content\"><pre>RandomForestClassifier()</pre></div></div></div></div></div></div></div></div></div></div>"
      ],
      "text/plain": [
       "GridSearchCV(cv=5, estimator=RandomForestClassifier(), n_jobs=1,\n",
       "             param_grid={'max_depth': [None, 5, 10, 20],\n",
       "                         'min_samples_leaf': [1, 2, 4],\n",
       "                         'min_samples_split': [2, 5, 10],\n",
       "                         'n_estimators': [100, 300, 500]},\n",
       "             scoring='recall', verbose=1)"
      ]
     },
     "execution_count": 541,
     "metadata": {},
     "output_type": "execute_result"
    }
   ],
   "source": [
    "rfc_grid.fit(x_cla_train_sm, y_virality_train_sm)"
   ]
  },
  {
   "cell_type": "code",
   "execution_count": 542,
   "id": "cd7e5987-ea41-4dbf-bc34-38d3519c6d35",
   "metadata": {},
   "outputs": [
    {
     "data": {
      "text/plain": [
       "0.9714285714285715"
      ]
     },
     "execution_count": 542,
     "metadata": {},
     "output_type": "execute_result"
    }
   ],
   "source": [
    "rfc_grid.best_score_"
   ]
  },
  {
   "cell_type": "code",
   "execution_count": 543,
   "id": "6ab3ad1c-9e11-46d9-9d25-755d347bc505",
   "metadata": {},
   "outputs": [
    {
     "data": {
      "text/plain": [
       "{'max_depth': 5,\n",
       " 'min_samples_leaf': 1,\n",
       " 'min_samples_split': 5,\n",
       " 'n_estimators': 100}"
      ]
     },
     "execution_count": 543,
     "metadata": {},
     "output_type": "execute_result"
    }
   ],
   "source": [
    "rfc_grid.best_params_"
   ]
  },
  {
   "cell_type": "code",
   "execution_count": 544,
   "id": "b4d29211-eac4-4385-bd96-1df203cbfdf9",
   "metadata": {},
   "outputs": [],
   "source": [
    "rfc_virality_pred = rfc_grid.predict(x_cla_test)\n",
    "rfc_virality_prob = rfc_grid.predict_proba(x_cla_test)[:,1]"
   ]
  },
  {
   "cell_type": "code",
   "execution_count": 545,
   "id": "2569b085-b545-40e8-9d3f-44a3ea789e81",
   "metadata": {},
   "outputs": [
    {
     "name": "stdout",
     "output_type": "stream",
     "text": [
      "Accuracy:            0.6451612903225806\n",
      "Precision:           0.11940298507462686\n",
      "Recall:              0.5333333333333333\n",
      "F1 Score:            0.19512195121951217\n",
      "ROC AUC:             0.6799220272904484\n"
     ]
    }
   ],
   "source": [
    "# 2. Compute and print binary‐classification metrics\n",
    "print(\"Accuracy:           \", accuracy_score(y_virality_test, rfc_virality_pred))\n",
    "print(\"Precision:          \", precision_score(y_virality_test, rfc_virality_pred))\n",
    "print(\"Recall:             \", recall_score(y_virality_test, rfc_virality_pred))\n",
    "print(\"F1 Score:           \", f1_score(y_virality_test, rfc_virality_pred))\n",
    "print(\"ROC AUC:            \", roc_auc_score(y_virality_test, rfc_virality_prob))"
   ]
  },
  {
   "cell_type": "code",
   "execution_count": 546,
   "id": "a20cfb47-1baf-4090-a83d-46719c5ccc52",
   "metadata": {},
   "outputs": [
    {
     "data": {
      "text/plain": [
       "<sklearn.metrics._plot.confusion_matrix.ConfusionMatrixDisplay at 0x1a7ee941dd0>"
      ]
     },
     "execution_count": 546,
     "metadata": {},
     "output_type": "execute_result"
    },
    {
     "data": {
      "image/png": "[encoded data removed]",
      "text/plain": [
       "<Figure size 640x480 with 2 Axes>"
      ]
     },
     "metadata": {},
     "output_type": "display_data"
    }
   ],
   "source": [
    "from sklearn.metrics import ConfusionMatrixDisplay\n",
    "cm_virality_rfc = confusion_matrix(y_virality_test, rfc_virality_pred)\n",
    "cmd = ConfusionMatrixDisplay(confusion_matrix = cm_virality_rfc,\n",
    "                             display_labels = rfc_grid.classes_)\n",
    "cmd.plot(cmap='Blues')"
   ]
  },
  {
   "cell_type": "code",
   "execution_count": 547,
   "id": "65c36833-6365-4b7c-898c-974828992b65",
   "metadata": {},
   "outputs": [
    {
     "data": {
      "text/html": [
       "<div>\n",
       "<style scoped>\n",
       "    .dataframe tbody tr th:only-of-type {\n",
       "        vertical-align: middle;\n",
       "    }\n",
       "\n",
       "    .dataframe tbody tr th {\n",
       "        vertical-align: top;\n",
       "    }\n",
       "\n",
       "    .dataframe thead th {\n",
       "        text-align: right;\n",
       "    }\n",
       "</style>\n",
       "<table border=\"1\" class=\"dataframe\">\n",
       "  <thead>\n",
       "    <tr style=\"text-align: right;\">\n",
       "      <th></th>\n",
       "      <th>coefs</th>\n",
       "      <th>feature_imp</th>\n",
       "    </tr>\n",
       "  </thead>\n",
       "  <tbody>\n",
       "    <tr>\n",
       "      <th>0</th>\n",
       "      <td>followers</td>\n",
       "      <td>0.389468</td>\n",
       "    </tr>\n",
       "    <tr>\n",
       "      <th>1</th>\n",
       "      <td>videoscount</td>\n",
       "      <td>0.171517</td>\n",
       "    </tr>\n",
       "    <tr>\n",
       "      <th>3</th>\n",
       "      <td>duration_sec</td>\n",
       "      <td>0.126153</td>\n",
       "    </tr>\n",
       "    <tr>\n",
       "      <th>5</th>\n",
       "      <td>is_skullpanda</td>\n",
       "      <td>0.096100</td>\n",
       "    </tr>\n",
       "    <tr>\n",
       "      <th>4</th>\n",
       "      <td>is_labubu</td>\n",
       "      <td>0.047669</td>\n",
       "    </tr>\n",
       "    <tr>\n",
       "      <th>6</th>\n",
       "      <td>is_crybaby</td>\n",
       "      <td>0.040956</td>\n",
       "    </tr>\n",
       "    <tr>\n",
       "      <th>7</th>\n",
       "      <td>is_hirono</td>\n",
       "      <td>0.033712</td>\n",
       "    </tr>\n",
       "    <tr>\n",
       "      <th>11</th>\n",
       "      <td>is_cute</td>\n",
       "      <td>0.033090</td>\n",
       "    </tr>\n",
       "    <tr>\n",
       "      <th>8</th>\n",
       "      <td>is_unboxing</td>\n",
       "      <td>0.024591</td>\n",
       "    </tr>\n",
       "    <tr>\n",
       "      <th>9</th>\n",
       "      <td>is_blindbox</td>\n",
       "      <td>0.022164</td>\n",
       "    </tr>\n",
       "    <tr>\n",
       "      <th>2</th>\n",
       "      <td>ads</td>\n",
       "      <td>0.011796</td>\n",
       "    </tr>\n",
       "    <tr>\n",
       "      <th>10</th>\n",
       "      <td>is_recommendation</td>\n",
       "      <td>0.002784</td>\n",
       "    </tr>\n",
       "  </tbody>\n",
       "</table>\n",
       "</div>"
      ],
      "text/plain": [
       "                coefs  feature_imp\n",
       "0           followers     0.389468\n",
       "1         videoscount     0.171517\n",
       "3        duration_sec     0.126153\n",
       "5       is_skullpanda     0.096100\n",
       "4           is_labubu     0.047669\n",
       "6          is_crybaby     0.040956\n",
       "7           is_hirono     0.033712\n",
       "11            is_cute     0.033090\n",
       "8         is_unboxing     0.024591\n",
       "9         is_blindbox     0.022164\n",
       "2                 ads     0.011796\n",
       "10  is_recommendation     0.002784"
      ]
     },
     "execution_count": 547,
     "metadata": {},
     "output_type": "execute_result"
    }
   ],
   "source": [
    "rfc_virality_feature_imp = rfc_grid.best_estimator_.feature_importances_\n",
    "rfc_virality_coefs_imp = pd.DataFrame(\n",
    "    {'coefs':feature_name_cla,\n",
    "     'feature_imp':rfc_virality_feature_imp\n",
    "    }\n",
    ")\n",
    "\n",
    "rfc_virality_coefs_imp.sort_values('feature_imp', ascending=False)"
   ]
  },
  {
   "cell_type": "code",
   "execution_count": 548,
   "id": "dd2ec154-a223-44d9-b91d-ef7b12b2774b",
   "metadata": {},
   "outputs": [],
   "source": [
    "x_cla = mart_author[feature_name_cla]\n",
    "y_virality = mart_author['virality']\n",
    "y_trending = mart_author['trending']"
   ]
  },
  {
   "cell_type": "markdown",
   "id": "76f0ce65",
   "metadata": {},
   "source": [
    "### 🔄 6. Repeat Workflow for Trending Prediction\n",
    "\n",
    "All steps above were mirrored for **trending label**. The same feature set was used to ensure parity for comparison."
   ]
  },
  {
   "cell_type": "code",
   "execution_count": 549,
   "id": "a79845e3-ee99-4621-b523-39c8d30c11dc",
   "metadata": {},
   "outputs": [],
   "source": [
    "x_cla_train, x_cla_test, y_trending_train, y_trending_test = train_test_split(x_cla, y_trending, test_size = 0.3, random_state = 42)"
   ]
  },
  {
   "cell_type": "code",
   "execution_count": 550,
   "id": "e16dc848-d3df-487c-83aa-9d59b343bdc6",
   "metadata": {},
   "outputs": [],
   "source": [
    "x_cla_train[['followers','videoscount','duration_sec']] = sc.fit_transform(x_cla_train[['followers','videoscount','duration_sec']].apply(np.log1p))\n",
    "x_cla_test[['followers','videoscount','duration_sec']] = sc.transform(x_cla_test[['followers','videoscount','duration_sec']].apply(np.log1p))\n",
    "x_cla_train['ads'] = le.fit_transform(x_cla_train['ads'])\n",
    "x_cla_test['ads'] = le.transform(x_cla_test['ads'])"
   ]
  },
  {
   "cell_type": "code",
   "execution_count": 551,
   "id": "0df50f9d-8a1f-4ae5-a365-f090905e81cf",
   "metadata": {},
   "outputs": [
    {
     "data": {
      "text/plain": [
       "trending\n",
       "0    223\n",
       "1    210\n",
       "Name: count, dtype: int64"
      ]
     },
     "execution_count": 551,
     "metadata": {},
     "output_type": "execute_result"
    }
   ],
   "source": [
    "y_trending_train.value_counts()"
   ]
  },
  {
   "cell_type": "code",
   "execution_count": 552,
   "id": "80ada961-ad10-4a50-ba4b-99f595e7768c",
   "metadata": {},
   "outputs": [
    {
     "data": {
      "text/plain": [
       "trending\n",
       "1    100\n",
       "0     86\n",
       "Name: count, dtype: int64"
      ]
     },
     "execution_count": 552,
     "metadata": {},
     "output_type": "execute_result"
    }
   ],
   "source": [
    "y_trending_test.value_counts()"
   ]
  },
  {
   "cell_type": "code",
   "execution_count": 553,
   "id": "98aa72d3-60e4-46f4-b258-5eaab25fc430",
   "metadata": {},
   "outputs": [
    {
     "data": {
      "text/html": [
       "<style>#sk-container-id-44 {color: black;background-color: white;}#sk-container-id-44 pre{padding: 0;}#sk-container-id-44 div.sk-toggleable {background-color: white;}#sk-container-id-44 label.sk-toggleable__label {cursor: pointer;display: block;width: 100%;margin-bottom: 0;padding: 0.3em;box-sizing: border-box;text-align: center;}#sk-container-id-44 label.sk-toggleable__label-arrow:before {content: \"▸\";float: left;margin-right: 0.25em;color: #696969;}#sk-container-id-44 label.sk-toggleable__label-arrow:hover:before {color: black;}#sk-container-id-44 div.sk-estimator:hover label.sk-toggleable__label-arrow:before {color: black;}#sk-container-id-44 div.sk-toggleable__content {max-height: 0;max-width: 0;overflow: hidden;text-align: left;background-color: #f0f8ff;}#sk-container-id-44 div.sk-toggleable__content pre {margin: 0.2em;color: black;border-radius: 0.25em;background-color: #f0f8ff;}#sk-container-id-44 input.sk-toggleable__control:checked~div.sk-toggleable__content {max-height: 200px;max-width: 100%;overflow: auto;}#sk-container-id-44 input.sk-toggleable__control:checked~label.sk-toggleable__label-arrow:before {content: \"▾\";}#sk-container-id-44 div.sk-estimator input.sk-toggleable__control:checked~label.sk-toggleable__label {background-color: #d4ebff;}#sk-container-id-44 div.sk-label input.sk-toggleable__control:checked~label.sk-toggleable__label {background-color: #d4ebff;}#sk-container-id-44 input.sk-hidden--visually {border: 0;clip: rect(1px 1px 1px 1px);clip: rect(1px, 1px, 1px, 1px);height: 1px;margin: -1px;overflow: hidden;padding: 0;position: absolute;width: 1px;}#sk-container-id-44 div.sk-estimator {font-family: monospace;background-color: #f0f8ff;border: 1px dotted black;border-radius: 0.25em;box-sizing: border-box;margin-bottom: 0.5em;}#sk-container-id-44 div.sk-estimator:hover {background-color: #d4ebff;}#sk-container-id-44 div.sk-parallel-item::after {content: \"\";width: 100%;border-bottom: 1px solid gray;flex-grow: 1;}#sk-container-id-44 div.sk-label:hover label.sk-toggleable__label {background-color: #d4ebff;}#sk-container-id-44 div.sk-serial::before {content: \"\";position: absolute;border-left: 1px solid gray;box-sizing: border-box;top: 0;bottom: 0;left: 50%;z-index: 0;}#sk-container-id-44 div.sk-serial {display: flex;flex-direction: column;align-items: center;background-color: white;padding-right: 0.2em;padding-left: 0.2em;position: relative;}#sk-container-id-44 div.sk-item {position: relative;z-index: 1;}#sk-container-id-44 div.sk-parallel {display: flex;align-items: stretch;justify-content: center;background-color: white;position: relative;}#sk-container-id-44 div.sk-item::before, #sk-container-id-44 div.sk-parallel-item::before {content: \"\";position: absolute;border-left: 1px solid gray;box-sizing: border-box;top: 0;bottom: 0;left: 50%;z-index: -1;}#sk-container-id-44 div.sk-parallel-item {display: flex;flex-direction: column;z-index: 1;position: relative;background-color: white;}#sk-container-id-44 div.sk-parallel-item:first-child::after {align-self: flex-end;width: 50%;}#sk-container-id-44 div.sk-parallel-item:last-child::after {align-self: flex-start;width: 50%;}#sk-container-id-44 div.sk-parallel-item:only-child::after {width: 0;}#sk-container-id-44 div.sk-dashed-wrapped {border: 1px dashed gray;margin: 0 0.4em 0.5em 0.4em;box-sizing: border-box;padding-bottom: 0.4em;background-color: white;}#sk-container-id-44 div.sk-label label {font-family: monospace;font-weight: bold;display: inline-block;line-height: 1.2em;}#sk-container-id-44 div.sk-label-container {text-align: center;}#sk-container-id-44 div.sk-container {/* jupyter's `normalize.less` sets `[hidden] { display: none; }` but bootstrap.min.css set `[hidden] { display: none !important; }` so we also need the `!important` here to be able to override the default hidden behavior on the sphinx rendered scikit-learn.org. See: https://github.com/scikit-learn/scikit-learn/issues/21755 */display: inline-block !important;position: relative;}#sk-container-id-44 div.sk-text-repr-fallback {display: none;}</style><div id=\"sk-container-id-44\" class=\"sk-top-container\"><div class=\"sk-text-repr-fallback\"><pre>LogisticRegression(class_weight=&#x27;balanced&#x27;)</pre><b>In a Jupyter environment, please rerun this cell to show the HTML representation or trust the notebook. <br />On GitHub, the HTML representation is unable to render, please try loading this page with nbviewer.org.</b></div><div class=\"sk-container\" hidden><div class=\"sk-item\"><div class=\"sk-estimator sk-toggleable\"><input class=\"sk-toggleable__control sk-hidden--visually\" id=\"sk-estimator-id-64\" type=\"checkbox\" checked><label for=\"sk-estimator-id-64\" class=\"sk-toggleable__label sk-toggleable__label-arrow\">LogisticRegression</label><div class=\"sk-toggleable__content\"><pre>LogisticRegression(class_weight=&#x27;balanced&#x27;)</pre></div></div></div></div></div>"
      ],
      "text/plain": [
       "LogisticRegression(class_weight='balanced')"
      ]
     },
     "execution_count": 553,
     "metadata": {},
     "output_type": "execute_result"
    }
   ],
   "source": [
    "logit_trending = LogisticRegression(class_weight='balanced')\n",
    "logit_trending.fit(x_cla_train, y_trending_train)"
   ]
  },
  {
   "cell_type": "code",
   "execution_count": 554,
   "id": "27242b5b-ff20-452f-be27-5cc988b0a479",
   "metadata": {},
   "outputs": [],
   "source": [
    "logit_trending_pred = logit_trending.predict(x_cla_test)\n",
    "logit_trending_prob = logit_trending.predict_proba(x_cla_test)[:,1]"
   ]
  },
  {
   "cell_type": "code",
   "execution_count": 555,
   "id": "f787182d-b121-491d-82f6-208f2a19dc61",
   "metadata": {},
   "outputs": [
    {
     "name": "stdout",
     "output_type": "stream",
     "text": [
      "Accuracy:            0.6236559139784946\n",
      "Precision:           0.6829268292682927\n",
      "Recall:              0.56\n",
      "F1 Score:            0.6153846153846154\n",
      "ROC AUC:             0.6968604651162791\n"
     ]
    }
   ],
   "source": [
    "# 2. Compute and print binary‐classification metrics\n",
    "print(\"Accuracy:           \", accuracy_score(y_trending_test, logit_trending_pred))\n",
    "print(\"Precision:          \", precision_score(y_trending_test, logit_trending_pred))\n",
    "print(\"Recall:             \", recall_score(y_trending_test, logit_trending_pred))\n",
    "print(\"F1 Score:           \", f1_score(y_trending_test, logit_trending_pred))\n",
    "print(\"ROC AUC:            \", roc_auc_score(y_trending_test, logit_trending_prob))"
   ]
  },
  {
   "cell_type": "code",
   "execution_count": 556,
   "id": "b6b452c1-7543-4f6a-8c8f-9edeeedf438d",
   "metadata": {},
   "outputs": [
    {
     "data": {
      "text/plain": [
       "<sklearn.metrics._plot.confusion_matrix.ConfusionMatrixDisplay at 0x1a7ee946b50>"
      ]
     },
     "execution_count": 556,
     "metadata": {},
     "output_type": "execute_result"
    },
    {
     "data": {
      "image/png": "[encoded data removed]",
      "text/plain": [
       "<Figure size 640x480 with 2 Axes>"
      ]
     },
     "metadata": {},
     "output_type": "display_data"
    }
   ],
   "source": [
    "cm_trending = confusion_matrix(y_trending_test, logit_trending_pred)\n",
    "cmd = ConfusionMatrixDisplay(confusion_matrix = cm_trending,\n",
    "                             display_labels = logit_trending.classes_)\n",
    "cmd.plot(cmap='Blues')"
   ]
  },
  {
   "cell_type": "code",
   "execution_count": 557,
   "id": "30ef9bf0-9b01-4993-8b99-35a6933de104",
   "metadata": {},
   "outputs": [],
   "source": [
    "logit_trending_coefs = logit_trending.coef_[0]\n",
    "logit_trending_feature_imp_prop = np.abs(logit_trending_coefs) / np.abs(logit_trending_coefs).sum()\n",
    "logit_trending_feature_imp_minmax = (np.abs(logit_trending_coefs) - np.abs(logit_trending_coefs).min()) / (np.abs(logit_trending_coefs).max() - np.abs(logit_trending_coefs).min())"
   ]
  },
  {
   "cell_type": "code",
   "execution_count": 558,
   "id": "064a5394-0834-4245-88ca-f21056ffb6a4",
   "metadata": {},
   "outputs": [
    {
     "data": {
      "text/html": [
       "<div>\n",
       "<style scoped>\n",
       "    .dataframe tbody tr th:only-of-type {\n",
       "        vertical-align: middle;\n",
       "    }\n",
       "\n",
       "    .dataframe tbody tr th {\n",
       "        vertical-align: top;\n",
       "    }\n",
       "\n",
       "    .dataframe thead th {\n",
       "        text-align: right;\n",
       "    }\n",
       "</style>\n",
       "<table border=\"1\" class=\"dataframe\">\n",
       "  <thead>\n",
       "    <tr style=\"text-align: right;\">\n",
       "      <th></th>\n",
       "      <th>coefs</th>\n",
       "      <th>raw_coefs</th>\n",
       "      <th>Proportional_ImpScore</th>\n",
       "      <th>MinMax_ImpScore</th>\n",
       "    </tr>\n",
       "  </thead>\n",
       "  <tbody>\n",
       "    <tr>\n",
       "      <th>7</th>\n",
       "      <td>is_hirono</td>\n",
       "      <td>1.680476</td>\n",
       "      <td>0.290112</td>\n",
       "      <td>1.000000</td>\n",
       "    </tr>\n",
       "    <tr>\n",
       "      <th>2</th>\n",
       "      <td>ads</td>\n",
       "      <td>0.861909</td>\n",
       "      <td>0.148797</td>\n",
       "      <td>0.455358</td>\n",
       "    </tr>\n",
       "    <tr>\n",
       "      <th>0</th>\n",
       "      <td>followers</td>\n",
       "      <td>0.617410</td>\n",
       "      <td>0.106588</td>\n",
       "      <td>0.292679</td>\n",
       "    </tr>\n",
       "    <tr>\n",
       "      <th>8</th>\n",
       "      <td>is_unboxing</td>\n",
       "      <td>0.409733</td>\n",
       "      <td>0.070735</td>\n",
       "      <td>0.154498</td>\n",
       "    </tr>\n",
       "    <tr>\n",
       "      <th>10</th>\n",
       "      <td>is_recommendation</td>\n",
       "      <td>-0.391573</td>\n",
       "      <td>0.067600</td>\n",
       "      <td>0.142416</td>\n",
       "    </tr>\n",
       "    <tr>\n",
       "      <th>6</th>\n",
       "      <td>is_crybaby</td>\n",
       "      <td>0.356500</td>\n",
       "      <td>0.061545</td>\n",
       "      <td>0.119080</td>\n",
       "    </tr>\n",
       "    <tr>\n",
       "      <th>9</th>\n",
       "      <td>is_blindbox</td>\n",
       "      <td>-0.345374</td>\n",
       "      <td>0.059624</td>\n",
       "      <td>0.111677</td>\n",
       "    </tr>\n",
       "    <tr>\n",
       "      <th>4</th>\n",
       "      <td>is_labubu</td>\n",
       "      <td>-0.305204</td>\n",
       "      <td>0.052690</td>\n",
       "      <td>0.084949</td>\n",
       "    </tr>\n",
       "    <tr>\n",
       "      <th>1</th>\n",
       "      <td>videoscount</td>\n",
       "      <td>-0.275005</td>\n",
       "      <td>0.047476</td>\n",
       "      <td>0.064856</td>\n",
       "    </tr>\n",
       "    <tr>\n",
       "      <th>3</th>\n",
       "      <td>duration_sec</td>\n",
       "      <td>0.187434</td>\n",
       "      <td>0.032358</td>\n",
       "      <td>0.006590</td>\n",
       "    </tr>\n",
       "    <tr>\n",
       "      <th>11</th>\n",
       "      <td>is_cute</td>\n",
       "      <td>-0.184352</td>\n",
       "      <td>0.031826</td>\n",
       "      <td>0.004539</td>\n",
       "    </tr>\n",
       "    <tr>\n",
       "      <th>5</th>\n",
       "      <td>is_skullpanda</td>\n",
       "      <td>-0.177530</td>\n",
       "      <td>0.030648</td>\n",
       "      <td>0.000000</td>\n",
       "    </tr>\n",
       "  </tbody>\n",
       "</table>\n",
       "</div>"
      ],
      "text/plain": [
       "                coefs  raw_coefs  Proportional_ImpScore  MinMax_ImpScore\n",
       "7           is_hirono   1.680476               0.290112         1.000000\n",
       "2                 ads   0.861909               0.148797         0.455358\n",
       "0           followers   0.617410               0.106588         0.292679\n",
       "8         is_unboxing   0.409733               0.070735         0.154498\n",
       "10  is_recommendation  -0.391573               0.067600         0.142416\n",
       "6          is_crybaby   0.356500               0.061545         0.119080\n",
       "9         is_blindbox  -0.345374               0.059624         0.111677\n",
       "4           is_labubu  -0.305204               0.052690         0.084949\n",
       "1         videoscount  -0.275005               0.047476         0.064856\n",
       "3        duration_sec   0.187434               0.032358         0.006590\n",
       "11            is_cute  -0.184352               0.031826         0.004539\n",
       "5       is_skullpanda  -0.177530               0.030648         0.000000"
      ]
     },
     "execution_count": 558,
     "metadata": {},
     "output_type": "execute_result"
    }
   ],
   "source": [
    "logit_trending_coefs_imp = pd.DataFrame(\n",
    "    {\n",
    "        'coefs':feature_name_cla,\n",
    "        'raw_coefs':logit_trending_coefs,\n",
    "        'Proportional_ImpScore':logit_trending_feature_imp_prop,\n",
    "        'MinMax_ImpScore':logit_trending_feature_imp_minmax\n",
    "    }\n",
    ")\n",
    "\n",
    "logit_trending_coefs_imp.sort_values('MinMax_ImpScore', ascending=False)"
   ]
  },
  {
   "cell_type": "code",
   "execution_count": 559,
   "id": "ed75fc9c-6cf7-4017-b690-5cf136cb0ff7",
   "metadata": {},
   "outputs": [
    {
     "name": "stdout",
     "output_type": "stream",
     "text": [
      "Fitting 5 folds for each of 36 candidates, totalling 180 fits\n"
     ]
    },
    {
     "data": {
      "text/html": [
       "<style>#sk-container-id-45 {color: black;background-color: white;}#sk-container-id-45 pre{padding: 0;}#sk-container-id-45 div.sk-toggleable {background-color: white;}#sk-container-id-45 label.sk-toggleable__label {cursor: pointer;display: block;width: 100%;margin-bottom: 0;padding: 0.3em;box-sizing: border-box;text-align: center;}#sk-container-id-45 label.sk-toggleable__label-arrow:before {content: \"▸\";float: left;margin-right: 0.25em;color: #696969;}#sk-container-id-45 label.sk-toggleable__label-arrow:hover:before {color: black;}#sk-container-id-45 div.sk-estimator:hover label.sk-toggleable__label-arrow:before {color: black;}#sk-container-id-45 div.sk-toggleable__content {max-height: 0;max-width: 0;overflow: hidden;text-align: left;background-color: #f0f8ff;}#sk-container-id-45 div.sk-toggleable__content pre {margin: 0.2em;color: black;border-radius: 0.25em;background-color: #f0f8ff;}#sk-container-id-45 input.sk-toggleable__control:checked~div.sk-toggleable__content {max-height: 200px;max-width: 100%;overflow: auto;}#sk-container-id-45 input.sk-toggleable__control:checked~label.sk-toggleable__label-arrow:before {content: \"▾\";}#sk-container-id-45 div.sk-estimator input.sk-toggleable__control:checked~label.sk-toggleable__label {background-color: #d4ebff;}#sk-container-id-45 div.sk-label input.sk-toggleable__control:checked~label.sk-toggleable__label {background-color: #d4ebff;}#sk-container-id-45 input.sk-hidden--visually {border: 0;clip: rect(1px 1px 1px 1px);clip: rect(1px, 1px, 1px, 1px);height: 1px;margin: -1px;overflow: hidden;padding: 0;position: absolute;width: 1px;}#sk-container-id-45 div.sk-estimator {font-family: monospace;background-color: #f0f8ff;border: 1px dotted black;border-radius: 0.25em;box-sizing: border-box;margin-bottom: 0.5em;}#sk-container-id-45 div.sk-estimator:hover {background-color: #d4ebff;}#sk-container-id-45 div.sk-parallel-item::after {content: \"\";width: 100%;border-bottom: 1px solid gray;flex-grow: 1;}#sk-container-id-45 div.sk-label:hover label.sk-toggleable__label {background-color: #d4ebff;}#sk-container-id-45 div.sk-serial::before {content: \"\";position: absolute;border-left: 1px solid gray;box-sizing: border-box;top: 0;bottom: 0;left: 50%;z-index: 0;}#sk-container-id-45 div.sk-serial {display: flex;flex-direction: column;align-items: center;background-color: white;padding-right: 0.2em;padding-left: 0.2em;position: relative;}#sk-container-id-45 div.sk-item {position: relative;z-index: 1;}#sk-container-id-45 div.sk-parallel {display: flex;align-items: stretch;justify-content: center;background-color: white;position: relative;}#sk-container-id-45 div.sk-item::before, #sk-container-id-45 div.sk-parallel-item::before {content: \"\";position: absolute;border-left: 1px solid gray;box-sizing: border-box;top: 0;bottom: 0;left: 50%;z-index: -1;}#sk-container-id-45 div.sk-parallel-item {display: flex;flex-direction: column;z-index: 1;position: relative;background-color: white;}#sk-container-id-45 div.sk-parallel-item:first-child::after {align-self: flex-end;width: 50%;}#sk-container-id-45 div.sk-parallel-item:last-child::after {align-self: flex-start;width: 50%;}#sk-container-id-45 div.sk-parallel-item:only-child::after {width: 0;}#sk-container-id-45 div.sk-dashed-wrapped {border: 1px dashed gray;margin: 0 0.4em 0.5em 0.4em;box-sizing: border-box;padding-bottom: 0.4em;background-color: white;}#sk-container-id-45 div.sk-label label {font-family: monospace;font-weight: bold;display: inline-block;line-height: 1.2em;}#sk-container-id-45 div.sk-label-container {text-align: center;}#sk-container-id-45 div.sk-container {/* jupyter's `normalize.less` sets `[hidden] { display: none; }` but bootstrap.min.css set `[hidden] { display: none !important; }` so we also need the `!important` here to be able to override the default hidden behavior on the sphinx rendered scikit-learn.org. See: https://github.com/scikit-learn/scikit-learn/issues/21755 */display: inline-block !important;position: relative;}#sk-container-id-45 div.sk-text-repr-fallback {display: none;}</style><div id=\"sk-container-id-45\" class=\"sk-top-container\"><div class=\"sk-text-repr-fallback\"><pre>GridSearchCV(cv=5, estimator=DecisionTreeClassifier(), n_jobs=1,\n",
       "             param_grid={&#x27;max_depth&#x27;: [None, 5, 10, 20],\n",
       "                         &#x27;min_samples_leaf&#x27;: [1, 2, 4],\n",
       "                         &#x27;min_samples_split&#x27;: [2, 5, 10]},\n",
       "             scoring=&#x27;recall&#x27;, verbose=1)</pre><b>In a Jupyter environment, please rerun this cell to show the HTML representation or trust the notebook. <br />On GitHub, the HTML representation is unable to render, please try loading this page with nbviewer.org.</b></div><div class=\"sk-container\" hidden><div class=\"sk-item sk-dashed-wrapped\"><div class=\"sk-label-container\"><div class=\"sk-label sk-toggleable\"><input class=\"sk-toggleable__control sk-hidden--visually\" id=\"sk-estimator-id-65\" type=\"checkbox\" ><label for=\"sk-estimator-id-65\" class=\"sk-toggleable__label sk-toggleable__label-arrow\">GridSearchCV</label><div class=\"sk-toggleable__content\"><pre>GridSearchCV(cv=5, estimator=DecisionTreeClassifier(), n_jobs=1,\n",
       "             param_grid={&#x27;max_depth&#x27;: [None, 5, 10, 20],\n",
       "                         &#x27;min_samples_leaf&#x27;: [1, 2, 4],\n",
       "                         &#x27;min_samples_split&#x27;: [2, 5, 10]},\n",
       "             scoring=&#x27;recall&#x27;, verbose=1)</pre></div></div></div><div class=\"sk-parallel\"><div class=\"sk-parallel-item\"><div class=\"sk-item\"><div class=\"sk-label-container\"><div class=\"sk-label sk-toggleable\"><input class=\"sk-toggleable__control sk-hidden--visually\" id=\"sk-estimator-id-66\" type=\"checkbox\" ><label for=\"sk-estimator-id-66\" class=\"sk-toggleable__label sk-toggleable__label-arrow\">estimator: DecisionTreeClassifier</label><div class=\"sk-toggleable__content\"><pre>DecisionTreeClassifier()</pre></div></div></div><div class=\"sk-serial\"><div class=\"sk-item\"><div class=\"sk-estimator sk-toggleable\"><input class=\"sk-toggleable__control sk-hidden--visually\" id=\"sk-estimator-id-67\" type=\"checkbox\" ><label for=\"sk-estimator-id-67\" class=\"sk-toggleable__label sk-toggleable__label-arrow\">DecisionTreeClassifier</label><div class=\"sk-toggleable__content\"><pre>DecisionTreeClassifier()</pre></div></div></div></div></div></div></div></div></div></div>"
      ],
      "text/plain": [
       "GridSearchCV(cv=5, estimator=DecisionTreeClassifier(), n_jobs=1,\n",
       "             param_grid={'max_depth': [None, 5, 10, 20],\n",
       "                         'min_samples_leaf': [1, 2, 4],\n",
       "                         'min_samples_split': [2, 5, 10]},\n",
       "             scoring='recall', verbose=1)"
      ]
     },
     "execution_count": 559,
     "metadata": {},
     "output_type": "execute_result"
    }
   ],
   "source": [
    "dtc_grid.fit(x_cla_train, y_trending_train)"
   ]
  },
  {
   "cell_type": "code",
   "execution_count": 560,
   "id": "a6a605c0-553d-41fe-8b9c-f85893c6a9b6",
   "metadata": {},
   "outputs": [
    {
     "data": {
      "text/plain": [
       "0.638095238095238"
      ]
     },
     "execution_count": 560,
     "metadata": {},
     "output_type": "execute_result"
    }
   ],
   "source": [
    "dtc_grid.best_score_"
   ]
  },
  {
   "cell_type": "code",
   "execution_count": 561,
   "id": "26fe9e39-a913-460b-9144-72d27ed099d5",
   "metadata": {},
   "outputs": [
    {
     "data": {
      "text/plain": [
       "{'max_depth': 10, 'min_samples_leaf': 1, 'min_samples_split': 2}"
      ]
     },
     "execution_count": 561,
     "metadata": {},
     "output_type": "execute_result"
    }
   ],
   "source": [
    "dtc_grid.best_params_"
   ]
  },
  {
   "cell_type": "code",
   "execution_count": 565,
   "id": "a19d1639-1c60-4a80-b786-5ed4825b6c5a",
   "metadata": {},
   "outputs": [],
   "source": [
    "dtc_trending_pred = dtc_grid.predict(x_cla_test)\n",
    "dtc_trending_prob = dtc_grid.predict_proba(x_cla_test)[:,1]"
   ]
  },
  {
   "cell_type": "code",
   "execution_count": 566,
   "id": "e880d906-b213-4818-9169-b9c8915cd7fd",
   "metadata": {},
   "outputs": [
    {
     "name": "stdout",
     "output_type": "stream",
     "text": [
      "Accuracy:            0.6075268817204301\n",
      "Precision:           0.6666666666666666\n",
      "Recall:              0.54\n",
      "F1 Score:            0.5966850828729282\n",
      "ROC AUC:             0.6045348837209302\n"
     ]
    }
   ],
   "source": [
    "# 2. Compute and print binary‐classification metrics\n",
    "print(\"Accuracy:           \", accuracy_score(y_trending_test, dtc_trending_pred))\n",
    "print(\"Precision:          \", precision_score(y_trending_test, dtc_trending_pred))\n",
    "print(\"Recall:             \", recall_score(y_trending_test, dtc_trending_pred))\n",
    "print(\"F1 Score:           \", f1_score(y_trending_test, dtc_trending_pred))\n",
    "print(\"ROC AUC:            \", roc_auc_score(y_trending_test, dtc_trending_prob))"
   ]
  },
  {
   "cell_type": "code",
   "execution_count": 567,
   "id": "36aeae6b-a927-4e90-8986-cb3bca2d70ea",
   "metadata": {},
   "outputs": [
    {
     "data": {
      "text/plain": [
       "<sklearn.metrics._plot.confusion_matrix.ConfusionMatrixDisplay at 0x1a7ee90a390>"
      ]
     },
     "execution_count": 567,
     "metadata": {},
     "output_type": "execute_result"
    },
    {
     "data": {
      "image/png": "[encoded data removed]",
      "text/plain": [
       "<Figure size 640x480 with 2 Axes>"
      ]
     },
     "metadata": {},
     "output_type": "display_data"
    }
   ],
   "source": [
    "from sklearn.metrics import ConfusionMatrixDisplay\n",
    "cm_trending_dtc = confusion_matrix(y_trending_test, dtc_trending_pred)\n",
    "cmd = ConfusionMatrixDisplay(confusion_matrix = cm_trending_dtc,\n",
    "                             display_labels = dtc_grid.classes_)\n",
    "cmd.plot(cmap='Blues')"
   ]
  },
  {
   "cell_type": "code",
   "execution_count": 568,
   "id": "3d90652a-0b10-41e9-afa7-3106b24ce002",
   "metadata": {},
   "outputs": [
    {
     "data": {
      "text/html": [
       "<div>\n",
       "<style scoped>\n",
       "    .dataframe tbody tr th:only-of-type {\n",
       "        vertical-align: middle;\n",
       "    }\n",
       "\n",
       "    .dataframe tbody tr th {\n",
       "        vertical-align: top;\n",
       "    }\n",
       "\n",
       "    .dataframe thead th {\n",
       "        text-align: right;\n",
       "    }\n",
       "</style>\n",
       "<table border=\"1\" class=\"dataframe\">\n",
       "  <thead>\n",
       "    <tr style=\"text-align: right;\">\n",
       "      <th></th>\n",
       "      <th>coefs</th>\n",
       "      <th>feature_imp</th>\n",
       "    </tr>\n",
       "  </thead>\n",
       "  <tbody>\n",
       "    <tr>\n",
       "      <th>0</th>\n",
       "      <td>followers</td>\n",
       "      <td>0.288798</td>\n",
       "    </tr>\n",
       "    <tr>\n",
       "      <th>3</th>\n",
       "      <td>duration_sec</td>\n",
       "      <td>0.279310</td>\n",
       "    </tr>\n",
       "    <tr>\n",
       "      <th>1</th>\n",
       "      <td>videoscount</td>\n",
       "      <td>0.264461</td>\n",
       "    </tr>\n",
       "    <tr>\n",
       "      <th>7</th>\n",
       "      <td>is_hirono</td>\n",
       "      <td>0.079250</td>\n",
       "    </tr>\n",
       "    <tr>\n",
       "      <th>4</th>\n",
       "      <td>is_labubu</td>\n",
       "      <td>0.026731</td>\n",
       "    </tr>\n",
       "    <tr>\n",
       "      <th>9</th>\n",
       "      <td>is_blindbox</td>\n",
       "      <td>0.023205</td>\n",
       "    </tr>\n",
       "    <tr>\n",
       "      <th>11</th>\n",
       "      <td>is_cute</td>\n",
       "      <td>0.019348</td>\n",
       "    </tr>\n",
       "    <tr>\n",
       "      <th>8</th>\n",
       "      <td>is_unboxing</td>\n",
       "      <td>0.010528</td>\n",
       "    </tr>\n",
       "    <tr>\n",
       "      <th>5</th>\n",
       "      <td>is_skullpanda</td>\n",
       "      <td>0.008369</td>\n",
       "    </tr>\n",
       "    <tr>\n",
       "      <th>2</th>\n",
       "      <td>ads</td>\n",
       "      <td>0.000000</td>\n",
       "    </tr>\n",
       "    <tr>\n",
       "      <th>6</th>\n",
       "      <td>is_crybaby</td>\n",
       "      <td>0.000000</td>\n",
       "    </tr>\n",
       "    <tr>\n",
       "      <th>10</th>\n",
       "      <td>is_recommendation</td>\n",
       "      <td>0.000000</td>\n",
       "    </tr>\n",
       "  </tbody>\n",
       "</table>\n",
       "</div>"
      ],
      "text/plain": [
       "                coefs  feature_imp\n",
       "0           followers     0.288798\n",
       "3        duration_sec     0.279310\n",
       "1         videoscount     0.264461\n",
       "7           is_hirono     0.079250\n",
       "4           is_labubu     0.026731\n",
       "9         is_blindbox     0.023205\n",
       "11            is_cute     0.019348\n",
       "8         is_unboxing     0.010528\n",
       "5       is_skullpanda     0.008369\n",
       "2                 ads     0.000000\n",
       "6          is_crybaby     0.000000\n",
       "10  is_recommendation     0.000000"
      ]
     },
     "execution_count": 568,
     "metadata": {},
     "output_type": "execute_result"
    }
   ],
   "source": [
    "dtc_trending_feature_imp = dtc_grid.best_estimator_.feature_importances_\n",
    "dtc_trending_coefs_imp = pd.DataFrame(\n",
    "    {'coefs':feature_name_cla,\n",
    "     'feature_imp':dtc_trending_feature_imp\n",
    "    }\n",
    ")\n",
    "\n",
    "dtc_trending_coefs_imp.sort_values('feature_imp', ascending=False)"
   ]
  },
  {
   "cell_type": "code",
   "execution_count": 569,
   "id": "fcde4364-f5f5-4661-87e4-8338eb725407",
   "metadata": {},
   "outputs": [
    {
     "name": "stdout",
     "output_type": "stream",
     "text": [
      "Fitting 5 folds for each of 108 candidates, totalling 540 fits\n"
     ]
    },
    {
     "data": {
      "text/html": [
       "<style>#sk-container-id-46 {color: black;background-color: white;}#sk-container-id-46 pre{padding: 0;}#sk-container-id-46 div.sk-toggleable {background-color: white;}#sk-container-id-46 label.sk-toggleable__label {cursor: pointer;display: block;width: 100%;margin-bottom: 0;padding: 0.3em;box-sizing: border-box;text-align: center;}#sk-container-id-46 label.sk-toggleable__label-arrow:before {content: \"▸\";float: left;margin-right: 0.25em;color: #696969;}#sk-container-id-46 label.sk-toggleable__label-arrow:hover:before {color: black;}#sk-container-id-46 div.sk-estimator:hover label.sk-toggleable__label-arrow:before {color: black;}#sk-container-id-46 div.sk-toggleable__content {max-height: 0;max-width: 0;overflow: hidden;text-align: left;background-color: #f0f8ff;}#sk-container-id-46 div.sk-toggleable__content pre {margin: 0.2em;color: black;border-radius: 0.25em;background-color: #f0f8ff;}#sk-container-id-46 input.sk-toggleable__control:checked~div.sk-toggleable__content {max-height: 200px;max-width: 100%;overflow: auto;}#sk-container-id-46 input.sk-toggleable__control:checked~label.sk-toggleable__label-arrow:before {content: \"▾\";}#sk-container-id-46 div.sk-estimator input.sk-toggleable__control:checked~label.sk-toggleable__label {background-color: #d4ebff;}#sk-container-id-46 div.sk-label input.sk-toggleable__control:checked~label.sk-toggleable__label {background-color: #d4ebff;}#sk-container-id-46 input.sk-hidden--visually {border: 0;clip: rect(1px 1px 1px 1px);clip: rect(1px, 1px, 1px, 1px);height: 1px;margin: -1px;overflow: hidden;padding: 0;position: absolute;width: 1px;}#sk-container-id-46 div.sk-estimator {font-family: monospace;background-color: #f0f8ff;border: 1px dotted black;border-radius: 0.25em;box-sizing: border-box;margin-bottom: 0.5em;}#sk-container-id-46 div.sk-estimator:hover {background-color: #d4ebff;}#sk-container-id-46 div.sk-parallel-item::after {content: \"\";width: 100%;border-bottom: 1px solid gray;flex-grow: 1;}#sk-container-id-46 div.sk-label:hover label.sk-toggleable__label {background-color: #d4ebff;}#sk-container-id-46 div.sk-serial::before {content: \"\";position: absolute;border-left: 1px solid gray;box-sizing: border-box;top: 0;bottom: 0;left: 50%;z-index: 0;}#sk-container-id-46 div.sk-serial {display: flex;flex-direction: column;align-items: center;background-color: white;padding-right: 0.2em;padding-left: 0.2em;position: relative;}#sk-container-id-46 div.sk-item {position: relative;z-index: 1;}#sk-container-id-46 div.sk-parallel {display: flex;align-items: stretch;justify-content: center;background-color: white;position: relative;}#sk-container-id-46 div.sk-item::before, #sk-container-id-46 div.sk-parallel-item::before {content: \"\";position: absolute;border-left: 1px solid gray;box-sizing: border-box;top: 0;bottom: 0;left: 50%;z-index: -1;}#sk-container-id-46 div.sk-parallel-item {display: flex;flex-direction: column;z-index: 1;position: relative;background-color: white;}#sk-container-id-46 div.sk-parallel-item:first-child::after {align-self: flex-end;width: 50%;}#sk-container-id-46 div.sk-parallel-item:last-child::after {align-self: flex-start;width: 50%;}#sk-container-id-46 div.sk-parallel-item:only-child::after {width: 0;}#sk-container-id-46 div.sk-dashed-wrapped {border: 1px dashed gray;margin: 0 0.4em 0.5em 0.4em;box-sizing: border-box;padding-bottom: 0.4em;background-color: white;}#sk-container-id-46 div.sk-label label {font-family: monospace;font-weight: bold;display: inline-block;line-height: 1.2em;}#sk-container-id-46 div.sk-label-container {text-align: center;}#sk-container-id-46 div.sk-container {/* jupyter's `normalize.less` sets `[hidden] { display: none; }` but bootstrap.min.css set `[hidden] { display: none !important; }` so we also need the `!important` here to be able to override the default hidden behavior on the sphinx rendered scikit-learn.org. See: https://github.com/scikit-learn/scikit-learn/issues/21755 */display: inline-block !important;position: relative;}#sk-container-id-46 div.sk-text-repr-fallback {display: none;}</style><div id=\"sk-container-id-46\" class=\"sk-top-container\"><div class=\"sk-text-repr-fallback\"><pre>GridSearchCV(cv=5, estimator=RandomForestClassifier(), n_jobs=1,\n",
       "             param_grid={&#x27;max_depth&#x27;: [None, 5, 10, 20],\n",
       "                         &#x27;min_samples_leaf&#x27;: [1, 2, 4],\n",
       "                         &#x27;min_samples_split&#x27;: [2, 5, 10],\n",
       "                         &#x27;n_estimators&#x27;: [100, 300, 500]},\n",
       "             scoring=&#x27;recall&#x27;, verbose=1)</pre><b>In a Jupyter environment, please rerun this cell to show the HTML representation or trust the notebook. <br />On GitHub, the HTML representation is unable to render, please try loading this page with nbviewer.org.</b></div><div class=\"sk-container\" hidden><div class=\"sk-item sk-dashed-wrapped\"><div class=\"sk-label-container\"><div class=\"sk-label sk-toggleable\"><input class=\"sk-toggleable__control sk-hidden--visually\" id=\"sk-estimator-id-68\" type=\"checkbox\" ><label for=\"sk-estimator-id-68\" class=\"sk-toggleable__label sk-toggleable__label-arrow\">GridSearchCV</label><div class=\"sk-toggleable__content\"><pre>GridSearchCV(cv=5, estimator=RandomForestClassifier(), n_jobs=1,\n",
       "             param_grid={&#x27;max_depth&#x27;: [None, 5, 10, 20],\n",
       "                         &#x27;min_samples_leaf&#x27;: [1, 2, 4],\n",
       "                         &#x27;min_samples_split&#x27;: [2, 5, 10],\n",
       "                         &#x27;n_estimators&#x27;: [100, 300, 500]},\n",
       "             scoring=&#x27;recall&#x27;, verbose=1)</pre></div></div></div><div class=\"sk-parallel\"><div class=\"sk-parallel-item\"><div class=\"sk-item\"><div class=\"sk-label-container\"><div class=\"sk-label sk-toggleable\"><input class=\"sk-toggleable__control sk-hidden--visually\" id=\"sk-estimator-id-69\" type=\"checkbox\" ><label for=\"sk-estimator-id-69\" class=\"sk-toggleable__label sk-toggleable__label-arrow\">estimator: RandomForestClassifier</label><div class=\"sk-toggleable__content\"><pre>RandomForestClassifier()</pre></div></div></div><div class=\"sk-serial\"><div class=\"sk-item\"><div class=\"sk-estimator sk-toggleable\"><input class=\"sk-toggleable__control sk-hidden--visually\" id=\"sk-estimator-id-70\" type=\"checkbox\" ><label for=\"sk-estimator-id-70\" class=\"sk-toggleable__label sk-toggleable__label-arrow\">RandomForestClassifier</label><div class=\"sk-toggleable__content\"><pre>RandomForestClassifier()</pre></div></div></div></div></div></div></div></div></div></div>"
      ],
      "text/plain": [
       "GridSearchCV(cv=5, estimator=RandomForestClassifier(), n_jobs=1,\n",
       "             param_grid={'max_depth': [None, 5, 10, 20],\n",
       "                         'min_samples_leaf': [1, 2, 4],\n",
       "                         'min_samples_split': [2, 5, 10],\n",
       "                         'n_estimators': [100, 300, 500]},\n",
       "             scoring='recall', verbose=1)"
      ]
     },
     "execution_count": 569,
     "metadata": {},
     "output_type": "execute_result"
    }
   ],
   "source": [
    "rfc_grid.fit(x_cla_train, y_trending_train)"
   ]
  },
  {
   "cell_type": "code",
   "execution_count": 570,
   "id": "4e978556-01b1-495d-ae93-1dbae68a3e51",
   "metadata": {},
   "outputs": [],
   "source": [
    "rfc_trending_pred = rfc_grid.predict(x_cla_test)\n",
    "rfc_trending_prob = rfc_grid.predict_proba(x_cla_test)[:,1]"
   ]
  },
  {
   "cell_type": "code",
   "execution_count": 571,
   "id": "517193a2-1372-457b-a320-2a5be53aa5e3",
   "metadata": {},
   "outputs": [
    {
     "name": "stdout",
     "output_type": "stream",
     "text": [
      "Accuracy:            0.6827956989247311\n",
      "Precision:           0.7530864197530864\n",
      "Recall:              0.61\n",
      "F1 Score:            0.6740331491712707\n",
      "ROC AUC:             0.7608139534883721\n"
     ]
    }
   ],
   "source": [
    "# 2. Compute and print binary‐classification metrics\n",
    "print(\"Accuracy:           \", accuracy_score(y_trending_test, rfc_trending_pred))\n",
    "print(\"Precision:          \", precision_score(y_trending_test, rfc_trending_pred))\n",
    "print(\"Recall:             \", recall_score(y_trending_test, rfc_trending_pred))\n",
    "print(\"F1 Score:           \", f1_score(y_trending_test, rfc_trending_pred))\n",
    "print(\"ROC AUC:            \", roc_auc_score(y_trending_test, rfc_trending_prob))"
   ]
  },
  {
   "cell_type": "code",
   "execution_count": 572,
   "id": "861c6466-119b-439c-8d7d-147c63ab279e",
   "metadata": {},
   "outputs": [
    {
     "data": {
      "text/plain": [
       "<sklearn.metrics._plot.confusion_matrix.ConfusionMatrixDisplay at 0x1a7ed2de710>"
      ]
     },
     "execution_count": 572,
     "metadata": {},
     "output_type": "execute_result"
    },
    {
     "data": {
      "image/png": "[encoded data removed]",
      "text/plain": [
       "<Figure size 640x480 with 2 Axes>"
      ]
     },
     "metadata": {},
     "output_type": "display_data"
    }
   ],
   "source": [
    "from sklearn.metrics import ConfusionMatrixDisplay\n",
    "cm_trending_rfc = confusion_matrix(y_trending_test, rfc_trending_pred)\n",
    "cmd = ConfusionMatrixDisplay(confusion_matrix = cm_trending_rfc,\n",
    "                             display_labels = rfc_grid.classes_)\n",
    "cmd.plot(cmap='Blues')"
   ]
  },
  {
   "cell_type": "code",
   "execution_count": 577,
   "id": "a9fdb716-c0aa-4e6b-b646-b43e6f48850a",
   "metadata": {},
   "outputs": [
    {
     "data": {
      "text/html": [
       "<div>\n",
       "<style scoped>\n",
       "    .dataframe tbody tr th:only-of-type {\n",
       "        vertical-align: middle;\n",
       "    }\n",
       "\n",
       "    .dataframe tbody tr th {\n",
       "        vertical-align: top;\n",
       "    }\n",
       "\n",
       "    .dataframe thead th {\n",
       "        text-align: right;\n",
       "    }\n",
       "</style>\n",
       "<table border=\"1\" class=\"dataframe\">\n",
       "  <thead>\n",
       "    <tr style=\"text-align: right;\">\n",
       "      <th></th>\n",
       "      <th>coefs</th>\n",
       "      <th>feature_imp</th>\n",
       "    </tr>\n",
       "  </thead>\n",
       "  <tbody>\n",
       "    <tr>\n",
       "      <th>3</th>\n",
       "      <td>duration_sec</td>\n",
       "      <td>0.284042</td>\n",
       "    </tr>\n",
       "    <tr>\n",
       "      <th>0</th>\n",
       "      <td>followers</td>\n",
       "      <td>0.267544</td>\n",
       "    </tr>\n",
       "    <tr>\n",
       "      <th>1</th>\n",
       "      <td>videoscount</td>\n",
       "      <td>0.235758</td>\n",
       "    </tr>\n",
       "    <tr>\n",
       "      <th>7</th>\n",
       "      <td>is_hirono</td>\n",
       "      <td>0.039388</td>\n",
       "    </tr>\n",
       "    <tr>\n",
       "      <th>4</th>\n",
       "      <td>is_labubu</td>\n",
       "      <td>0.037737</td>\n",
       "    </tr>\n",
       "    <tr>\n",
       "      <th>8</th>\n",
       "      <td>is_unboxing</td>\n",
       "      <td>0.032349</td>\n",
       "    </tr>\n",
       "    <tr>\n",
       "      <th>9</th>\n",
       "      <td>is_blindbox</td>\n",
       "      <td>0.031163</td>\n",
       "    </tr>\n",
       "    <tr>\n",
       "      <th>6</th>\n",
       "      <td>is_crybaby</td>\n",
       "      <td>0.020288</td>\n",
       "    </tr>\n",
       "    <tr>\n",
       "      <th>11</th>\n",
       "      <td>is_cute</td>\n",
       "      <td>0.017044</td>\n",
       "    </tr>\n",
       "    <tr>\n",
       "      <th>5</th>\n",
       "      <td>is_skullpanda</td>\n",
       "      <td>0.016594</td>\n",
       "    </tr>\n",
       "    <tr>\n",
       "      <th>2</th>\n",
       "      <td>ads</td>\n",
       "      <td>0.014296</td>\n",
       "    </tr>\n",
       "    <tr>\n",
       "      <th>10</th>\n",
       "      <td>is_recommendation</td>\n",
       "      <td>0.003796</td>\n",
       "    </tr>\n",
       "  </tbody>\n",
       "</table>\n",
       "</div>"
      ],
      "text/plain": [
       "                coefs  feature_imp\n",
       "3        duration_sec     0.284042\n",
       "0           followers     0.267544\n",
       "1         videoscount     0.235758\n",
       "7           is_hirono     0.039388\n",
       "4           is_labubu     0.037737\n",
       "8         is_unboxing     0.032349\n",
       "9         is_blindbox     0.031163\n",
       "6          is_crybaby     0.020288\n",
       "11            is_cute     0.017044\n",
       "5       is_skullpanda     0.016594\n",
       "2                 ads     0.014296\n",
       "10  is_recommendation     0.003796"
      ]
     },
     "execution_count": 577,
     "metadata": {},
     "output_type": "execute_result"
    }
   ],
   "source": [
    "rfc_trending_feature_imp = rfc_grid.best_estimator_.feature_importances_\n",
    "rfc_trending_coefs_imp = pd.DataFrame(\n",
    "    {'coefs':feature_name_cla,\n",
    "     'feature_imp':rfc_trending_feature_imp\n",
    "    }\n",
    ")\n",
    "\n",
    "rfc_trending_coefs_imp.sort_values('feature_imp', ascending=False)"
   ]
  },
  {
   "cell_type": "code",
   "execution_count": 578,
   "id": "99ced9b3-0157-41e0-89ba-5e8f384e3e02",
   "metadata": {},
   "outputs": [],
   "source": [
    "acc_logit, pre_logit, recall_logit, f1_logit, roc_auc_logit = accuracy_score(y_virality_test, logit_virality_sm_pred), precision_score(y_virality_test, logit_virality_sm_pred), recall_score(y_virality_test, logit_virality_sm_pred), f1_score(y_virality_test, logit_virality_sm_pred), roc_auc_score(y_virality_test, logit_virality_sm_prob)\n",
    "acc_dt, prec_dt, rec_dt, f1_dt, auc_dt = accuracy_score(y_virality_test, dtc_grid_virality_pred), precision_score(y_virality_test, dtc_grid_virality_pred), recall_score(y_virality_test, dtc_grid_virality_pred), f1_score(y_virality_test, dtc_grid_virality_pred), roc_auc_score(y_virality_test, dtc_grid_virality_prob)\n",
    "acc_rf, prec_rf, rec_rf, f1_rf, auc_rf = accuracy_score(y_virality_test, rfc_virality_pred), precision_score(y_virality_test, rfc_virality_pred), recall_score(y_virality_test, rfc_virality_pred), f1_score(y_virality_test, rfc_virality_pred), roc_auc_score(y_virality_test, rfc_virality_prob)"
   ]
  },
  {
   "cell_type": "markdown",
   "id": "d3f2caad",
   "metadata": {},
   "source": [
    "## 📊 Model Comparison Summary: Virality & Trending Classification\n",
    "\n",
    "### 🔥 Virality Prediction (Views ≥ 90th percentile)\n",
    "\n",
    "**Interpretation & Business Insights:**\n",
    "\n",
    "- **Logistic Regression** performs well in terms of accuracy, but its relatively low recall (0.47) means it misses over half of the truly viral posts. In real-time content operations, this can result in underestimating breakout content potential.\n",
    "- **Decision Tree** offers the **highest recall (0.73)**, meaning it captures most of the viral content. This is valuable for content strategists aiming to surface high-potential videos early, even at the expense of some false positives.\n",
    "- **Random Forest** balances performance across all metrics, delivering the best F1 Score and ROC AUC. This makes it the most reliable model for **operational deployment**, particularly when both precision and recall matter (e.g., in automated boosting or influencer selection).\n",
    "\n",
    "**Recommendation:**  \n",
    "Use **Random Forest** for robust, production-ready virality detection. Use **Decision Tree** if the focus is strictly on **maximizing recall** (e.g., identifying all potential virals for human review or A/B testing prioritization).\n",
    "\n",
    "### 📈 Trending Prediction (Engagement Rate ≥ 50th percentile)\n",
    "\n",
    "**Interpretation & Business Insights:**\n",
    "\n",
    "- **Trending content**, driven by high engagement rates, is a strong proxy for audience affinity and community response. This outcome is particularly relevant for **content calendar planning, recommendation systems, and artist-campaign pairings**.\n",
    "- **Random Forest** shows a clear advantage in all key metrics. Its **higher precision (0.75)** ensures that most of the posts flagged as trending genuinely deliver strong engagement, which is essential for avoiding false promotions or misaligned budget allocation.\n",
    "- **Logistic Regression** offers solid interpretability with relatively competitive performance, but does not outperform Random Forest in any metric.\n",
    "- **Decision Tree**, while transparent, slightly underperforms in both predictive power and generalization.\n",
    "\n",
    "**Recommendation:**  \n",
    "Adopt **Random Forest** for **trending prediction pipelines**, particularly when making data-driven decisions around creator partnerships, ad placement, or content amplification."
   ]
  },
  {
   "cell_type": "code",
   "execution_count": 579,
   "id": "60fc931d-2465-4248-9029-e41543e9e01f",
   "metadata": {},
   "outputs": [
    {
     "data": {
      "text/html": [
       "<div>\n",
       "<style scoped>\n",
       "    .dataframe tbody tr th:only-of-type {\n",
       "        vertical-align: middle;\n",
       "    }\n",
       "\n",
       "    .dataframe tbody tr th {\n",
       "        vertical-align: top;\n",
       "    }\n",
       "\n",
       "    .dataframe thead th {\n",
       "        text-align: right;\n",
       "    }\n",
       "</style>\n",
       "<table border=\"1\" class=\"dataframe\">\n",
       "  <thead>\n",
       "    <tr style=\"text-align: right;\">\n",
       "      <th></th>\n",
       "      <th>Model</th>\n",
       "      <th>Accuracy</th>\n",
       "      <th>Precision</th>\n",
       "      <th>Recall</th>\n",
       "      <th>F1 Score</th>\n",
       "      <th>ROC AUC</th>\n",
       "    </tr>\n",
       "  </thead>\n",
       "  <tbody>\n",
       "    <tr>\n",
       "      <th>0</th>\n",
       "      <td>Logistic Regression</td>\n",
       "      <td>0.688172</td>\n",
       "      <td>0.122807</td>\n",
       "      <td>0.466667</td>\n",
       "      <td>0.194444</td>\n",
       "      <td>0.647563</td>\n",
       "    </tr>\n",
       "    <tr>\n",
       "      <th>1</th>\n",
       "      <td>Decision Tree</td>\n",
       "      <td>0.500000</td>\n",
       "      <td>0.110000</td>\n",
       "      <td>0.733333</td>\n",
       "      <td>0.191304</td>\n",
       "      <td>0.637232</td>\n",
       "    </tr>\n",
       "    <tr>\n",
       "      <th>2</th>\n",
       "      <td>Random Forest</td>\n",
       "      <td>0.645161</td>\n",
       "      <td>0.119403</td>\n",
       "      <td>0.533333</td>\n",
       "      <td>0.195122</td>\n",
       "      <td>0.679922</td>\n",
       "    </tr>\n",
       "  </tbody>\n",
       "</table>\n",
       "</div>"
      ],
      "text/plain": [
       "                 Model  Accuracy  Precision    Recall  F1 Score   ROC AUC\n",
       "0  Logistic Regression  0.688172   0.122807  0.466667  0.194444  0.647563\n",
       "1        Decision Tree  0.500000   0.110000  0.733333  0.191304  0.637232\n",
       "2        Random Forest  0.645161   0.119403  0.533333  0.195122  0.679922"
      ]
     },
     "execution_count": 579,
     "metadata": {},
     "output_type": "execute_result"
    }
   ],
   "source": [
    "virality_model_metrics_compare = pd.DataFrame({\n",
    "    'Model': ['Logistic Regression', 'Decision Tree', 'Random Forest'],\n",
    "    'Accuracy': [acc_logit, acc_dt, acc_rf],\n",
    "    'Precision': [pre_logit, prec_dt, prec_rf],\n",
    "    'Recall': [recall_logit, rec_dt, rec_rf],\n",
    "    'F1 Score': [f1_logit, f1_dt, f1_rf],\n",
    "    'ROC AUC': [roc_auc_logit, auc_dt, auc_rf]\n",
    "}\n",
    ")\n",
    "\n",
    "virality_model_metrics_compare"
   ]
  },
  {
   "cell_type": "code",
   "execution_count": 580,
   "id": "66fbe99b-61f7-42d9-93f5-547d0f4b1a6b",
   "metadata": {},
   "outputs": [],
   "source": [
    "acc_logit, pre_logit, recall_logit, f1_logit, roc_auc_logit = accuracy_score(y_trending_test, logit_trending_pred), precision_score(y_trending_test, logit_trending_pred), recall_score(y_trending_test, logit_trending_pred), f1_score(y_trending_test, logit_trending_pred), roc_auc_score(y_trending_test, logit_trending_prob)\n",
    "acc_dt, prec_dt, rec_dt, f1_dt, auc_dt = accuracy_score(y_trending_test, dtc_trending_pred), precision_score(y_trending_test, dtc_trending_pred), recall_score(y_trending_test, dtc_trending_pred), f1_score(y_trending_test, dtc_trending_pred), roc_auc_score(y_trending_test, dtc_trending_prob)\n",
    "acc_rf, prec_rf, rec_rf, f1_rf, auc_rf = accuracy_score(y_trending_test, rfc_trending_pred), precision_score(y_trending_test, rfc_trending_pred), recall_score(y_trending_test, rfc_trending_pred), f1_score(y_trending_test, rfc_trending_pred), roc_auc_score(y_trending_test, rfc_trending_prob)"
   ]
  },
  {
   "cell_type": "code",
   "execution_count": 581,
   "id": "075461e8-7185-4ccd-a613-4263e7956509",
   "metadata": {},
   "outputs": [
    {
     "data": {
      "text/html": [
       "<div>\n",
       "<style scoped>\n",
       "    .dataframe tbody tr th:only-of-type {\n",
       "        vertical-align: middle;\n",
       "    }\n",
       "\n",
       "    .dataframe tbody tr th {\n",
       "        vertical-align: top;\n",
       "    }\n",
       "\n",
       "    .dataframe thead th {\n",
       "        text-align: right;\n",
       "    }\n",
       "</style>\n",
       "<table border=\"1\" class=\"dataframe\">\n",
       "  <thead>\n",
       "    <tr style=\"text-align: right;\">\n",
       "      <th></th>\n",
       "      <th>Model</th>\n",
       "      <th>Accuracy</th>\n",
       "      <th>Precision</th>\n",
       "      <th>Recall</th>\n",
       "      <th>F1 Score</th>\n",
       "      <th>ROC AUC</th>\n",
       "    </tr>\n",
       "  </thead>\n",
       "  <tbody>\n",
       "    <tr>\n",
       "      <th>0</th>\n",
       "      <td>Logistic Regression</td>\n",
       "      <td>0.623656</td>\n",
       "      <td>0.682927</td>\n",
       "      <td>0.56</td>\n",
       "      <td>0.615385</td>\n",
       "      <td>0.696860</td>\n",
       "    </tr>\n",
       "    <tr>\n",
       "      <th>1</th>\n",
       "      <td>Decision Tree</td>\n",
       "      <td>0.607527</td>\n",
       "      <td>0.666667</td>\n",
       "      <td>0.54</td>\n",
       "      <td>0.596685</td>\n",
       "      <td>0.604535</td>\n",
       "    </tr>\n",
       "    <tr>\n",
       "      <th>2</th>\n",
       "      <td>Random Forest</td>\n",
       "      <td>0.682796</td>\n",
       "      <td>0.753086</td>\n",
       "      <td>0.61</td>\n",
       "      <td>0.674033</td>\n",
       "      <td>0.760814</td>\n",
       "    </tr>\n",
       "  </tbody>\n",
       "</table>\n",
       "</div>"
      ],
      "text/plain": [
       "                 Model  Accuracy  Precision  Recall  F1 Score   ROC AUC\n",
       "0  Logistic Regression  0.623656   0.682927    0.56  0.615385  0.696860\n",
       "1        Decision Tree  0.607527   0.666667    0.54  0.596685  0.604535\n",
       "2        Random Forest  0.682796   0.753086    0.61  0.674033  0.760814"
      ]
     },
     "execution_count": 581,
     "metadata": {},
     "output_type": "execute_result"
    }
   ],
   "source": [
    "trending_model_metrics_compare = pd.DataFrame({\n",
    "    'Model': ['Logistic Regression', 'Decision Tree', 'Random Forest'],\n",
    "    'Accuracy': [acc_logit, acc_dt, acc_rf],\n",
    "    'Precision': [pre_logit, prec_dt, prec_rf],\n",
    "    'Recall': [recall_logit, rec_dt, rec_rf],\n",
    "    'F1 Score': [f1_logit, f1_dt, f1_rf],\n",
    "    'ROC AUC': [roc_auc_logit, auc_dt, auc_rf]\n",
    "}\n",
    ")\n",
    "\n",
    "trending_model_metrics_compare"
   ]
  }
 ],
 "metadata": {
  "kernelspec": {
   "display_name": "Python 3 (ipykernel)",
   "language": "python",
   "name": "python3"
  },
  "language_info": {
   "codemirror_mode": {
    "name": "ipython",
    "version": 3
   },
   "file_extension": ".py",
   "mimetype": "text/x-python",
   "name": "python",
   "nbconvert_exporter": "python",
   "pygments_lexer": "ipython3",
   "version": "3.11.7"
  }
 },
 "nbformat": 4,
 "nbformat_minor": 5
}
